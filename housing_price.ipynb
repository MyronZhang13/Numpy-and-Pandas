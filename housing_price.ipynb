{
  "nbformat": 4,
  "nbformat_minor": 0,
  "metadata": {
    "colab": {
      "name": "housing price.ipynb",
      "provenance": [],
      "collapsed_sections": [],
      "authorship_tag": "ABX9TyPJikYY/jJ3DAmK8aymgvPQ",
      "include_colab_link": true
    },
    "kernelspec": {
      "name": "python3",
      "display_name": "Python 3"
    }
  },
  "cells": [
    {
      "cell_type": "markdown",
      "metadata": {
        "id": "view-in-github",
        "colab_type": "text"
      },
      "source": [
        "<a href=\"https://colab.research.google.com/github/MyronZhang13/Numpy-and-Pandas/blob/main/housing_price.ipynb\" target=\"_parent\"><img src=\"https://colab.research.google.com/assets/colab-badge.svg\" alt=\"Open In Colab\"/></a>"
      ]
    },
    {
      "cell_type": "code",
      "metadata": {
        "id": "KGJ97M-0qXZi"
      },
      "source": [
        "import numpy as np"
      ],
      "execution_count": 1,
      "outputs": []
    },
    {
      "cell_type": "code",
      "metadata": {
        "id": "osu96I4mqflH"
      },
      "source": [
        "from keras.datasets import boston_housing"
      ],
      "execution_count": 2,
      "outputs": []
    },
    {
      "cell_type": "code",
      "metadata": {
        "id": "8JTwd2N6qk6l"
      },
      "source": [
        "from keras.models import Sequential"
      ],
      "execution_count": 3,
      "outputs": []
    },
    {
      "cell_type": "code",
      "metadata": {
        "id": "rnNY0lVvqoWx"
      },
      "source": [
        "from keras.layers import Dense, Dropout"
      ],
      "execution_count": 4,
      "outputs": []
    },
    {
      "cell_type": "code",
      "metadata": {
        "id": "IH0ACFaJqtuR"
      },
      "source": [
        "from keras.layers.normalization import BatchNormalization"
      ],
      "execution_count": 5,
      "outputs": []
    },
    {
      "cell_type": "markdown",
      "metadata": {
        "id": "J6LBtPOTq8Er"
      },
      "source": [
        "loading the data"
      ]
    },
    {
      "cell_type": "code",
      "metadata": {
        "colab": {
          "base_uri": "https://localhost:8080/"
        },
        "id": "n-vkuEe1rGJj",
        "outputId": "3df9be6c-7a94-4eb5-e8bc-91d2833616dd"
      },
      "source": [
        "(X_train, y_train), (X_valid, y_valid) = boston_housing.load_data()"
      ],
      "execution_count": 9,
      "outputs": [
        {
          "output_type": "stream",
          "text": [
            "Downloading data from https://storage.googleapis.com/tensorflow/tf-keras-datasets/boston_housing.npz\n",
            "57344/57026 [==============================] - 0s 0us/step\n"
          ],
          "name": "stdout"
        }
      ]
    },
    {
      "cell_type": "markdown",
      "metadata": {
        "id": "y42PVNQMr8yD"
      },
      "source": [
        "Specifying the structure"
      ]
    },
    {
      "cell_type": "code",
      "metadata": {
        "id": "GTl0hKsHrWTC"
      },
      "source": [
        "model = Sequential ()"
      ],
      "execution_count": 10,
      "outputs": []
    },
    {
      "cell_type": "code",
      "metadata": {
        "id": "rMZGW9IIsD80"
      },
      "source": [
        "model.add(Dense (32, input_dim=13, activation='relu'))"
      ],
      "execution_count": 11,
      "outputs": []
    },
    {
      "cell_type": "code",
      "metadata": {
        "id": "nvCznXEEshga"
      },
      "source": [
        "model.add(BatchNormalization())"
      ],
      "execution_count": 12,
      "outputs": []
    },
    {
      "cell_type": "code",
      "metadata": {
        "id": "9zbYiIDbssL1"
      },
      "source": [
        "model.add(Dense(16, activation='relu'))"
      ],
      "execution_count": 13,
      "outputs": []
    },
    {
      "cell_type": "code",
      "metadata": {
        "id": "MaFFkvHIs0ds"
      },
      "source": [
        "model.add(BatchNormalization())"
      ],
      "execution_count": 14,
      "outputs": []
    },
    {
      "cell_type": "code",
      "metadata": {
        "id": "5jZeKYbNs417"
      },
      "source": [
        "model.add(Dropout(0.2))"
      ],
      "execution_count": 17,
      "outputs": []
    },
    {
      "cell_type": "code",
      "metadata": {
        "id": "6JupOdqttF1v"
      },
      "source": [
        "model.add (Dense (1, activation='linear'))"
      ],
      "execution_count": 18,
      "outputs": []
    },
    {
      "cell_type": "markdown",
      "metadata": {
        "id": "zz6GZJketdH7"
      },
      "source": [
        "Training the model"
      ]
    },
    {
      "cell_type": "code",
      "metadata": {
        "id": "hVLUx4r2tPIm"
      },
      "source": [
        "model.compile (loss = 'mean_squared_error', optimizer='adam')"
      ],
      "execution_count": 22,
      "outputs": []
    },
    {
      "cell_type": "code",
      "metadata": {
        "colab": {
          "base_uri": "https://localhost:8080/"
        },
        "id": "vpKKw5JNtocV",
        "outputId": "660fc49d-e819-4882-bd0a-273ec9334fc5"
      },
      "source": [
        "mmodel.fit (X_train, y_train, batch_size = 8, epochs=32, verbose=1, validation_data=(X_valid, y_valid))"
      ],
      "execution_count": 23,
      "outputs": [
        {
          "output_type": "stream",
          "text": [
            "Epoch 1/32\n",
            "51/51 [==============================] - 1s 6ms/step - loss: 554.6887 - val_loss: 771.0615\n",
            "Epoch 2/32\n",
            "51/51 [==============================] - 0s 2ms/step - loss: 532.3538 - val_loss: 677.6267\n",
            "Epoch 3/32\n",
            "51/51 [==============================] - 0s 2ms/step - loss: 546.9498 - val_loss: 601.2333\n",
            "Epoch 4/32\n",
            "51/51 [==============================] - 0s 6ms/step - loss: 471.5935 - val_loss: 530.5466\n",
            "Epoch 5/32\n",
            "51/51 [==============================] - 0s 2ms/step - loss: 460.4189 - val_loss: 461.9192\n",
            "Epoch 6/32\n",
            "51/51 [==============================] - 0s 3ms/step - loss: 400.5571 - val_loss: 400.9117\n",
            "Epoch 7/32\n",
            "51/51 [==============================] - 0s 3ms/step - loss: 378.3016 - val_loss: 336.4756\n",
            "Epoch 8/32\n",
            "51/51 [==============================] - 0s 3ms/step - loss: 315.7524 - val_loss: 266.7060\n",
            "Epoch 9/32\n",
            "51/51 [==============================] - 0s 2ms/step - loss: 271.7633 - val_loss: 252.9920\n",
            "Epoch 10/32\n",
            "51/51 [==============================] - 0s 2ms/step - loss: 243.9326 - val_loss: 205.9180\n",
            "Epoch 11/32\n",
            "51/51 [==============================] - 0s 3ms/step - loss: 192.2434 - val_loss: 153.8674\n",
            "Epoch 12/32\n",
            "51/51 [==============================] - 0s 3ms/step - loss: 223.2018 - val_loss: 133.1921\n",
            "Epoch 13/32\n",
            "51/51 [==============================] - 0s 3ms/step - loss: 206.6238 - val_loss: 112.9975\n",
            "Epoch 14/32\n",
            "51/51 [==============================] - 0s 3ms/step - loss: 157.6156 - val_loss: 96.7299\n",
            "Epoch 15/32\n",
            "51/51 [==============================] - 0s 3ms/step - loss: 142.4076 - val_loss: 73.8272\n",
            "Epoch 16/32\n",
            "51/51 [==============================] - 0s 3ms/step - loss: 165.2928 - val_loss: 71.6596\n",
            "Epoch 17/32\n",
            "51/51 [==============================] - 0s 2ms/step - loss: 153.7448 - val_loss: 76.7282\n",
            "Epoch 18/32\n",
            "51/51 [==============================] - 0s 3ms/step - loss: 163.7609 - val_loss: 72.8323\n",
            "Epoch 19/32\n",
            "51/51 [==============================] - 0s 3ms/step - loss: 153.7293 - val_loss: 59.6648\n",
            "Epoch 20/32\n",
            "51/51 [==============================] - 0s 3ms/step - loss: 176.9192 - val_loss: 71.6825\n",
            "Epoch 21/32\n",
            "51/51 [==============================] - 0s 2ms/step - loss: 165.2336 - val_loss: 70.2377\n",
            "Epoch 22/32\n",
            "51/51 [==============================] - 0s 2ms/step - loss: 176.5802 - val_loss: 57.4064\n",
            "Epoch 23/32\n",
            "51/51 [==============================] - 0s 4ms/step - loss: 161.4506 - val_loss: 59.4139\n",
            "Epoch 24/32\n",
            "51/51 [==============================] - 0s 3ms/step - loss: 198.1509 - val_loss: 50.6409\n",
            "Epoch 25/32\n",
            "51/51 [==============================] - 0s 3ms/step - loss: 152.3072 - val_loss: 67.7608\n",
            "Epoch 26/32\n",
            "51/51 [==============================] - 0s 3ms/step - loss: 229.8740 - val_loss: 65.7725\n",
            "Epoch 27/32\n",
            "51/51 [==============================] - 0s 3ms/step - loss: 125.5381 - val_loss: 72.8216\n",
            "Epoch 28/32\n",
            "51/51 [==============================] - 0s 3ms/step - loss: 163.0872 - val_loss: 56.2670\n",
            "Epoch 29/32\n",
            "51/51 [==============================] - 0s 3ms/step - loss: 152.3057 - val_loss: 67.6989\n",
            "Epoch 30/32\n",
            "51/51 [==============================] - 0s 3ms/step - loss: 140.7970 - val_loss: 69.1936\n",
            "Epoch 31/32\n",
            "51/51 [==============================] - 0s 3ms/step - loss: 134.1777 - val_loss: 64.3528\n",
            "Epoch 32/32\n",
            "51/51 [==============================] - 0s 2ms/step - loss: 159.4923 - val_loss: 81.6831\n"
          ],
          "name": "stdout"
        },
        {
          "output_type": "execute_result",
          "data": {
            "text/plain": [
              "<tensorflow.python.keras.callbacks.History at 0x7f0f9005b6a0>"
            ]
          },
          "metadata": {
            "tags": []
          },
          "execution_count": 23
        }
      ]
    },
    {
      "cell_type": "markdown",
      "metadata": {
        "id": "G3F-cAvCukJp"
      },
      "source": [
        "Evaluating the performance"
      ]
    },
    {
      "cell_type": "code",
      "metadata": {
        "colab": {
          "base_uri": "https://localhost:8080/"
        },
        "id": "PalgCsqAumin",
        "outputId": "a43f78da-f4fc-4083-eecb-942e91488367"
      },
      "source": [
        "X_valid[42]"
      ],
      "execution_count": 25,
      "outputs": [
        {
          "output_type": "execute_result",
          "data": {
            "text/plain": [
              "array([  9.32909,   0.     ,  18.1    ,   0.     ,   0.713  ,   6.185  ,\n",
              "        98.7    ,   2.2616 ,  24.     , 666.     ,  20.2    , 396.9    ,\n",
              "        18.13   ])"
            ]
          },
          "metadata": {
            "tags": []
          },
          "execution_count": 25
        }
      ]
    },
    {
      "cell_type": "code",
      "metadata": {
        "colab": {
          "base_uri": "https://localhost:8080/"
        },
        "id": "qHTvmKarw9XU",
        "outputId": "cd317da6-5e21-406a-ab49-c4b0dffede40"
      },
      "source": [
        "y_valid[42]"
      ],
      "execution_count": 26,
      "outputs": [
        {
          "output_type": "execute_result",
          "data": {
            "text/plain": [
              "14.1"
            ]
          },
          "metadata": {
            "tags": []
          },
          "execution_count": 26
        }
      ]
    },
    {
      "cell_type": "code",
      "metadata": {
        "colab": {
          "base_uri": "https://localhost:8080/"
        },
        "id": "1vI5XalGxDdX",
        "outputId": "5a3c333a-b6cb-4088-c887-932c3ed53d64"
      },
      "source": [
        "model.predict(np.reshape(X_valid[42], [1,13]))"
      ],
      "execution_count": 27,
      "outputs": [
        {
          "output_type": "execute_result",
          "data": {
            "text/plain": [
              "array([[12.309908]], dtype=float32)"
            ]
          },
          "metadata": {
            "tags": []
          },
          "execution_count": 27
        }
      ]
    },
    {
      "cell_type": "code",
      "metadata": {
        "id": "qg4yJQjPxOId"
      },
      "source": [
        ""
      ],
      "execution_count": null,
      "outputs": []
    }
  ]
}