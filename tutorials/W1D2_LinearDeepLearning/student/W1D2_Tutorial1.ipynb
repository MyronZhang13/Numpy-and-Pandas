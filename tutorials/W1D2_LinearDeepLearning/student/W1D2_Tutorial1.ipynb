{
  "nbformat": 4,
  "nbformat_minor": 0,
  "metadata": {
    "colab": {
      "name": "W1D2_Tutorial1",
      "provenance": [],
      "collapsed_sections": [],
      "toc_visible": true,
      "include_colab_link": true
    },
    "kernel": {
      "display_name": "Python 3",
      "language": "python",
      "name": "python3"
    },
    "kernelspec": {
      "display_name": "Python 3",
      "name": "python3"
    },
    "language_info": {
      "codemirror_mode": {
        "name": "ipython",
        "version": 3
      },
      "file_extension": ".py",
      "mimetype": "text/x-python",
      "name": "python",
      "nbconvert_exporter": "python",
      "pygments_lexer": "ipython3",
      "version": "3.7.11"
    },
    "widgets": {
      "application/vnd.jupyter.widget-state+json": {
        "cc2bf2a48ec8480fa094d22e4feaf258": {
          "model_module": "@jupyter-widgets/controls",
          "model_name": "TabModel",
          "state": {
            "_view_name": "TabView",
            "_dom_classes": [],
            "_titles": {
              "0": "Youtube",
              "1": "Bilibili"
            },
            "_model_name": "TabModel",
            "_view_module": "@jupyter-widgets/controls",
            "selected_index": 0,
            "_model_module_version": "1.5.0",
            "_view_count": null,
            "_view_module_version": "1.5.0",
            "box_style": "",
            "layout": "IPY_MODEL_5db18b70c6c24534a2676fb9d1804492",
            "_model_module": "@jupyter-widgets/controls",
            "children": [
              "IPY_MODEL_37b27d47889e41a08167b396de945a47",
              "IPY_MODEL_f55237076f604d7ab5610d3b5624df67"
            ]
          }
        },
        "5db18b70c6c24534a2676fb9d1804492": {
          "model_module": "@jupyter-widgets/base",
          "model_name": "LayoutModel",
          "state": {
            "_view_name": "LayoutView",
            "grid_template_rows": null,
            "right": null,
            "justify_content": null,
            "_view_module": "@jupyter-widgets/base",
            "overflow": null,
            "_model_module_version": "1.2.0",
            "_view_count": null,
            "flex_flow": null,
            "width": null,
            "min_width": null,
            "border": null,
            "align_items": null,
            "bottom": null,
            "_model_module": "@jupyter-widgets/base",
            "top": null,
            "grid_column": null,
            "overflow_y": null,
            "overflow_x": null,
            "grid_auto_flow": null,
            "grid_area": null,
            "grid_template_columns": null,
            "flex": null,
            "_model_name": "LayoutModel",
            "justify_items": null,
            "grid_row": null,
            "max_height": null,
            "align_content": null,
            "visibility": null,
            "align_self": null,
            "height": null,
            "min_height": null,
            "padding": null,
            "grid_auto_rows": null,
            "grid_gap": null,
            "max_width": null,
            "order": null,
            "_view_module_version": "1.2.0",
            "grid_template_areas": null,
            "object_position": null,
            "object_fit": null,
            "grid_auto_columns": null,
            "margin": null,
            "display": null,
            "left": null
          }
        },
        "37b27d47889e41a08167b396de945a47": {
          "model_module": "@jupyter-widgets/output",
          "model_name": "OutputModel",
          "state": {
            "_view_name": "OutputView",
            "msg_id": "",
            "_dom_classes": [],
            "_model_name": "OutputModel",
            "outputs": [
              {
                "output_type": "stream",
                "metadata": {
                  "tags": []
                },
                "text": "Video available at https://youtube.com/watch?v=i7djAv2jnzY\n",
                "stream": "stdout"
              },
              {
                "output_type": "display_data",
                "metadata": {
                  "tags": []
                },
                "text/html": "\n        <iframe\n            width=\"854\"\n            height=\"480\"\n            src=\"https://www.youtube.com/embed/i7djAv2jnzY?fs=1&rel=0\"\n            frameborder=\"0\"\n            allowfullscreen\n        ></iframe>\n        ",
                "text/plain": "<IPython.lib.display.YouTubeVideo at 0x7f2b4d2e2c10>",
                "image/jpeg": "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\n"
              }
            ],
            "_view_module": "@jupyter-widgets/output",
            "_model_module_version": "1.0.0",
            "_view_count": null,
            "_view_module_version": "1.0.0",
            "layout": "IPY_MODEL_79aabf0c79a14b0d83fc5ecdbb38122d",
            "_model_module": "@jupyter-widgets/output"
          }
        },
        "f55237076f604d7ab5610d3b5624df67": {
          "model_module": "@jupyter-widgets/output",
          "model_name": "OutputModel",
          "state": {
            "_view_name": "OutputView",
            "msg_id": "",
            "_dom_classes": [],
            "_model_name": "OutputModel",
            "outputs": [
              {
                "output_type": "stream",
                "metadata": {
                  "tags": []
                },
                "text": "Video available at https://www.bilibili.com/video/BV1Qf4y1578t\n",
                "stream": "stdout"
              },
              {
                "output_type": "display_data",
                "metadata": {
                  "tags": []
                },
                "text/html": "\n        <iframe\n            width=\"854\"\n            height=\"480\"\n            src=\"https://player.bilibili.com/player.html?bvid=BV1Qf4y1578t&page=1?fs=1\"\n            frameborder=\"0\"\n            allowfullscreen\n        ></iframe>\n        ",
                "text/plain": "<__main__.BiliVideo at 0x7f2ace0a3a10>"
              }
            ],
            "_view_module": "@jupyter-widgets/output",
            "_model_module_version": "1.0.0",
            "_view_count": null,
            "_view_module_version": "1.0.0",
            "layout": "IPY_MODEL_f407e61e94c744bb861d38c5453af9fe",
            "_model_module": "@jupyter-widgets/output"
          }
        },
        "79aabf0c79a14b0d83fc5ecdbb38122d": {
          "model_module": "@jupyter-widgets/base",
          "model_name": "LayoutModel",
          "state": {
            "_view_name": "LayoutView",
            "grid_template_rows": null,
            "right": null,
            "justify_content": null,
            "_view_module": "@jupyter-widgets/base",
            "overflow": null,
            "_model_module_version": "1.2.0",
            "_view_count": null,
            "flex_flow": null,
            "width": null,
            "min_width": null,
            "border": null,
            "align_items": null,
            "bottom": null,
            "_model_module": "@jupyter-widgets/base",
            "top": null,
            "grid_column": null,
            "overflow_y": null,
            "overflow_x": null,
            "grid_auto_flow": null,
            "grid_area": null,
            "grid_template_columns": null,
            "flex": null,
            "_model_name": "LayoutModel",
            "justify_items": null,
            "grid_row": null,
            "max_height": null,
            "align_content": null,
            "visibility": null,
            "align_self": null,
            "height": null,
            "min_height": null,
            "padding": null,
            "grid_auto_rows": null,
            "grid_gap": null,
            "max_width": null,
            "order": null,
            "_view_module_version": "1.2.0",
            "grid_template_areas": null,
            "object_position": null,
            "object_fit": null,
            "grid_auto_columns": null,
            "margin": null,
            "display": null,
            "left": null
          }
        },
        "f407e61e94c744bb861d38c5453af9fe": {
          "model_module": "@jupyter-widgets/base",
          "model_name": "LayoutModel",
          "state": {
            "_view_name": "LayoutView",
            "grid_template_rows": null,
            "right": null,
            "justify_content": null,
            "_view_module": "@jupyter-widgets/base",
            "overflow": null,
            "_model_module_version": "1.2.0",
            "_view_count": null,
            "flex_flow": null,
            "width": null,
            "min_width": null,
            "border": null,
            "align_items": null,
            "bottom": null,
            "_model_module": "@jupyter-widgets/base",
            "top": null,
            "grid_column": null,
            "overflow_y": null,
            "overflow_x": null,
            "grid_auto_flow": null,
            "grid_area": null,
            "grid_template_columns": null,
            "flex": null,
            "_model_name": "LayoutModel",
            "justify_items": null,
            "grid_row": null,
            "max_height": null,
            "align_content": null,
            "visibility": null,
            "align_self": null,
            "height": null,
            "min_height": null,
            "padding": null,
            "grid_auto_rows": null,
            "grid_gap": null,
            "max_width": null,
            "order": null,
            "_view_module_version": "1.2.0",
            "grid_template_areas": null,
            "object_position": null,
            "object_fit": null,
            "grid_auto_columns": null,
            "margin": null,
            "display": null,
            "left": null
          }
        },
        "22c3e54df2094acea897d1c6927705be": {
          "model_module": "@jupyter-widgets/controls",
          "model_name": "TabModel",
          "state": {
            "_view_name": "TabView",
            "_dom_classes": [],
            "_titles": {
              "0": "Youtube",
              "1": "Bilibili"
            },
            "_model_name": "TabModel",
            "_view_module": "@jupyter-widgets/controls",
            "selected_index": 0,
            "_model_module_version": "1.5.0",
            "_view_count": null,
            "_view_module_version": "1.5.0",
            "box_style": "",
            "layout": "IPY_MODEL_600d5eb39c2446a69e87a80661537c28",
            "_model_module": "@jupyter-widgets/controls",
            "children": [
              "IPY_MODEL_a2bef8ddfa494bb488d478359d0ee7b0",
              "IPY_MODEL_29ce8f64e5c944faa871d27afd3a84af"
            ]
          }
        },
        "600d5eb39c2446a69e87a80661537c28": {
          "model_module": "@jupyter-widgets/base",
          "model_name": "LayoutModel",
          "state": {
            "_view_name": "LayoutView",
            "grid_template_rows": null,
            "right": null,
            "justify_content": null,
            "_view_module": "@jupyter-widgets/base",
            "overflow": null,
            "_model_module_version": "1.2.0",
            "_view_count": null,
            "flex_flow": null,
            "width": null,
            "min_width": null,
            "border": null,
            "align_items": null,
            "bottom": null,
            "_model_module": "@jupyter-widgets/base",
            "top": null,
            "grid_column": null,
            "overflow_y": null,
            "overflow_x": null,
            "grid_auto_flow": null,
            "grid_area": null,
            "grid_template_columns": null,
            "flex": null,
            "_model_name": "LayoutModel",
            "justify_items": null,
            "grid_row": null,
            "max_height": null,
            "align_content": null,
            "visibility": null,
            "align_self": null,
            "height": null,
            "min_height": null,
            "padding": null,
            "grid_auto_rows": null,
            "grid_gap": null,
            "max_width": null,
            "order": null,
            "_view_module_version": "1.2.0",
            "grid_template_areas": null,
            "object_position": null,
            "object_fit": null,
            "grid_auto_columns": null,
            "margin": null,
            "display": null,
            "left": null
          }
        },
        "a2bef8ddfa494bb488d478359d0ee7b0": {
          "model_module": "@jupyter-widgets/output",
          "model_name": "OutputModel",
          "state": {
            "_view_name": "OutputView",
            "msg_id": "",
            "_dom_classes": [],
            "_model_name": "OutputModel",
            "outputs": [
              {
                "output_type": "stream",
                "metadata": {
                  "tags": []
                },
                "text": "Video available at https://youtube.com/watch?v=UwgA_SgG0TM\n",
                "stream": "stdout"
              },
              {
                "output_type": "display_data",
                "metadata": {
                  "tags": []
                },
                "text/html": "\n        <iframe\n            width=\"854\"\n            height=\"480\"\n            src=\"https://www.youtube.com/embed/UwgA_SgG0TM?fs=1&rel=0\"\n            frameborder=\"0\"\n            allowfullscreen\n        ></iframe>\n        ",
                "text/plain": "<IPython.lib.display.YouTubeVideo at 0x7f2b34daf090>",
                "image/jpeg": "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\n"
              }
            ],
            "_view_module": "@jupyter-widgets/output",
            "_model_module_version": "1.0.0",
            "_view_count": null,
            "_view_module_version": "1.0.0",
            "layout": "IPY_MODEL_8d6b451ec59b41b3b3b0a1280f75eed8",
            "_model_module": "@jupyter-widgets/output"
          }
        },
        "29ce8f64e5c944faa871d27afd3a84af": {
          "model_module": "@jupyter-widgets/output",
          "model_name": "OutputModel",
          "state": {
            "_view_name": "OutputView",
            "msg_id": "",
            "_dom_classes": [],
            "_model_name": "OutputModel",
            "outputs": [
              {
                "output_type": "stream",
                "metadata": {
                  "tags": []
                },
                "text": "Video available at https://www.bilibili.com/video/BV1Pq4y1p7em\n",
                "stream": "stdout"
              },
              {
                "output_type": "display_data",
                "metadata": {
                  "tags": []
                },
                "text/html": "\n        <iframe\n            width=\"854\"\n            height=\"480\"\n            src=\"https://player.bilibili.com/player.html?bvid=BV1Pq4y1p7em&page=1?fs=1\"\n            frameborder=\"0\"\n            allowfullscreen\n        ></iframe>\n        ",
                "text/plain": "<__main__.BiliVideo at 0x7f2b2e0e6dd0>"
              }
            ],
            "_view_module": "@jupyter-widgets/output",
            "_model_module_version": "1.0.0",
            "_view_count": null,
            "_view_module_version": "1.0.0",
            "layout": "IPY_MODEL_fa9e70b172214e49a222d9a56e9d8744",
            "_model_module": "@jupyter-widgets/output"
          }
        },
        "8d6b451ec59b41b3b3b0a1280f75eed8": {
          "model_module": "@jupyter-widgets/base",
          "model_name": "LayoutModel",
          "state": {
            "_view_name": "LayoutView",
            "grid_template_rows": null,
            "right": null,
            "justify_content": null,
            "_view_module": "@jupyter-widgets/base",
            "overflow": null,
            "_model_module_version": "1.2.0",
            "_view_count": null,
            "flex_flow": null,
            "width": null,
            "min_width": null,
            "border": null,
            "align_items": null,
            "bottom": null,
            "_model_module": "@jupyter-widgets/base",
            "top": null,
            "grid_column": null,
            "overflow_y": null,
            "overflow_x": null,
            "grid_auto_flow": null,
            "grid_area": null,
            "grid_template_columns": null,
            "flex": null,
            "_model_name": "LayoutModel",
            "justify_items": null,
            "grid_row": null,
            "max_height": null,
            "align_content": null,
            "visibility": null,
            "align_self": null,
            "height": null,
            "min_height": null,
            "padding": null,
            "grid_auto_rows": null,
            "grid_gap": null,
            "max_width": null,
            "order": null,
            "_view_module_version": "1.2.0",
            "grid_template_areas": null,
            "object_position": null,
            "object_fit": null,
            "grid_auto_columns": null,
            "margin": null,
            "display": null,
            "left": null
          }
        },
        "fa9e70b172214e49a222d9a56e9d8744": {
          "model_module": "@jupyter-widgets/base",
          "model_name": "LayoutModel",
          "state": {
            "_view_name": "LayoutView",
            "grid_template_rows": null,
            "right": null,
            "justify_content": null,
            "_view_module": "@jupyter-widgets/base",
            "overflow": null,
            "_model_module_version": "1.2.0",
            "_view_count": null,
            "flex_flow": null,
            "width": null,
            "min_width": null,
            "border": null,
            "align_items": null,
            "bottom": null,
            "_model_module": "@jupyter-widgets/base",
            "top": null,
            "grid_column": null,
            "overflow_y": null,
            "overflow_x": null,
            "grid_auto_flow": null,
            "grid_area": null,
            "grid_template_columns": null,
            "flex": null,
            "_model_name": "LayoutModel",
            "justify_items": null,
            "grid_row": null,
            "max_height": null,
            "align_content": null,
            "visibility": null,
            "align_self": null,
            "height": null,
            "min_height": null,
            "padding": null,
            "grid_auto_rows": null,
            "grid_gap": null,
            "max_width": null,
            "order": null,
            "_view_module_version": "1.2.0",
            "grid_template_areas": null,
            "object_position": null,
            "object_fit": null,
            "grid_auto_columns": null,
            "margin": null,
            "display": null,
            "left": null
          }
        }
      }
    }
  },
  "cells": [
    {
      "cell_type": "markdown",
      "metadata": {
        "id": "view-in-github",
        "colab_type": "text"
      },
      "source": [
        "<a href=\"https://colab.research.google.com/github/MyronZhang13/Numpy-and-Pandas/blob/main/tutorials/W1D2_LinearDeepLearning/student/W1D2_Tutorial1.ipynb\" target=\"_parent\"><img src=\"https://colab.research.google.com/assets/colab-badge.svg\" alt=\"Open In Colab\"/></a>"
      ]
    },
    {
      "cell_type": "markdown",
      "metadata": {
        "execution": {},
        "id": "Jj1-3pXvgL-Z"
      },
      "source": [
        "# Tutorial 1: Gradient Descent and AutoGrad\n",
        "**Week 1, Day 2: Linear Deep Learning**\n",
        "\n",
        "**By Neuromatch Academy**\n",
        "\n",
        "__Content creators:__ Saeed Salehi, Vladimir Haltakov, Andrew Saxe\n",
        "\n",
        "__Content reviewers:__ Polina Turishcheva, Antoine De Comite, Kelson Shilling-Scrivo\n",
        "\n",
        "__Content editors:__ Anoop Kulkarni, Spiros Chavlis\n",
        "\n",
        "__Production editors:__ Khalid Almubarak, Spiros Chavlis\n"
      ]
    },
    {
      "cell_type": "markdown",
      "metadata": {
        "execution": {},
        "id": "b36Niz0CgL-b"
      },
      "source": [
        "**Our 2021 Sponsors, including Presenting Sponsor Facebook Reality Labs**\n",
        "\n",
        "<p align='center'><img src='https://github.com/NeuromatchAcademy/widgets/blob/master/sponsors.png?raw=True'/></p>"
      ]
    },
    {
      "cell_type": "markdown",
      "metadata": {
        "execution": {},
        "id": "F-w7QtSogL-c"
      },
      "source": [
        "---\n",
        "#Tutorial Objectives\n",
        "\n",
        "Day 2 Tutorial 1 will continue on buiding PyTorch skillset and motivate its core functionality, Autograd. In this notebook, we will cover the key concepts and ideas of:\n",
        "\n",
        "* Gradient descent\n",
        "* PyTorch Autograd\n",
        "* PyTorch nn module\n",
        "\n",
        "\n"
      ]
    },
    {
      "cell_type": "code",
      "metadata": {
        "cellView": "form",
        "execution": {},
        "id": "sLZ2cHIDgL-d",
        "outputId": "70eacdf8-2aec-488c-ea03-14962e1a3e08",
        "colab": {
          "base_uri": "https://localhost:8080/",
          "height": 500
        }
      },
      "source": [
        "# @title Tutorial slides\n",
        "\n",
        "# @markdown These are the slides for the videos in this tutorial\n",
        "from IPython.display import IFrame\n",
        "IFrame(src=f\"https://mfr.ca-1.osf.io/render?url=https://osf.io/3qevp/?direct%26mode=render%26action=download%26mode=render\", width=854, height=480)"
      ],
      "execution_count": 1,
      "outputs": [
        {
          "output_type": "execute_result",
          "data": {
            "text/html": [
              "\n",
              "        <iframe\n",
              "            width=\"854\"\n",
              "            height=\"480\"\n",
              "            src=\"https://mfr.ca-1.osf.io/render?url=https://osf.io/3qevp/?direct%26mode=render%26action=download%26mode=render\"\n",
              "            frameborder=\"0\"\n",
              "            allowfullscreen\n",
              "        ></iframe>\n",
              "        "
            ],
            "text/plain": [
              "<IPython.lib.display.IFrame at 0x7f2b29a41fd0>"
            ]
          },
          "metadata": {
            "tags": []
          },
          "execution_count": 1
        }
      ]
    },
    {
      "cell_type": "markdown",
      "metadata": {
        "execution": {},
        "id": "21bvinMNgL-e"
      },
      "source": [
        "---\n",
        "# Setup\n",
        "\n",
        "This a GPU-Free tutorial!\n"
      ]
    },
    {
      "cell_type": "code",
      "metadata": {
        "cellView": "form",
        "execution": {},
        "id": "UCNv-mIKgL-e",
        "outputId": "82382c54-44bb-4b31-fc45-c9abef5f940a",
        "colab": {
          "base_uri": "https://localhost:8080/"
        }
      },
      "source": [
        "# @title Install dependencies\n",
        "!pip install git+https://github.com/NeuromatchAcademy/evaltools --quiet\n",
        "\n",
        "from evaltools.airtable import AirtableForm\n",
        "# init airtable form\n",
        "atform = AirtableForm('appn7VdPRseSoMXEG','W1D2_T1','https://portal.neuromatchacademy.org/api/redirect/to/9c55f6cb-cdf9-4429-ac1c-ec44fe64c303')"
      ],
      "execution_count": 2,
      "outputs": [
        {
          "output_type": "stream",
          "text": [
            "  Building wheel for evaltools (setup.py) ... \u001b[?25l\u001b[?25hdone\n"
          ],
          "name": "stdout"
        }
      ]
    },
    {
      "cell_type": "code",
      "metadata": {
        "execution": {},
        "id": "ysX1WkHJgL-f"
      },
      "source": [
        "# Imports\n",
        "import torch\n",
        "import numpy as np\n",
        "from torch import nn\n",
        "from math import pi\n",
        "import matplotlib.pyplot as plt"
      ],
      "execution_count": 4,
      "outputs": []
    },
    {
      "cell_type": "code",
      "metadata": {
        "cellView": "form",
        "execution": {},
        "id": "x_jyhX3bgL-g"
      },
      "source": [
        "# @title Figure settings\n",
        "import ipywidgets as widgets       # interactive display\n",
        "%config InlineBackend.figure_format = 'retina'\n",
        "plt.style.use(\"https://raw.githubusercontent.com/NeuromatchAcademy/content-creation/main/nma.mplstyle\")"
      ],
      "execution_count": 5,
      "outputs": []
    },
    {
      "cell_type": "code",
      "metadata": {
        "cellView": "form",
        "execution": {},
        "id": "ytwOu-ZugL-h"
      },
      "source": [
        "# @title Plotting functions\n",
        "\n",
        "from mpl_toolkits.axes_grid1 import make_axes_locatable\n",
        "\n",
        "def ex3_plot(model, x, y, ep, lss):\n",
        "  f, (ax1, ax2) = plt.subplots(1, 2, figsize=(12, 4))\n",
        "  ax1.set_title(\"Regression\")\n",
        "  ax1.plot(x, model(x).detach().numpy(), color='r', label='prediction')\n",
        "  ax1.scatter(x, y, c='c', label='targets')\n",
        "  ax1.set_xlabel('x')\n",
        "  ax1.set_ylabel('y')\n",
        "  ax1.legend()\n",
        "\n",
        "  ax2.set_title(\"Training loss\")\n",
        "  ax2.plot(np.linspace(1, epochs, epochs), losses, color='y')\n",
        "  ax2.set_xlabel(\"Epoch\")\n",
        "  ax2.set_ylabel(\"MSE\")\n",
        "\n",
        "  plt.show()\n",
        "\n",
        "\n",
        "def ex1_plot(fun_z, fun_dz):\n",
        "  \"\"\"Plots the function and gradient vectors\n",
        "\n",
        "  \"\"\"\n",
        "  x, y = np.arange(-3, 3.01, 0.02), np.arange(-3, 3.01, 0.02)\n",
        "  xx, yy = np.meshgrid(x, y, sparse=True)\n",
        "  zz = fun_z(xx, yy)\n",
        "  xg, yg = np.arange(-2.5, 2.6, 0.5), np.arange(-2.5, 2.6, 0.5)\n",
        "  xxg, yyg = np.meshgrid(xg, yg, sparse=True)\n",
        "  zxg, zyg = fun_dz(xxg, yyg)\n",
        "\n",
        "  plt.figure(figsize=(8, 7))\n",
        "  plt.title(\"Gradient vectors point towards steepest ascent\")\n",
        "  contplt = plt.contourf(x, y, zz, levels=20)\n",
        "  plt.quiver(xxg, yyg, zxg, zyg, scale=50, color='r', )\n",
        "  plt.xlabel('$x$')\n",
        "  plt.ylabel('$y$')\n",
        "  ax = plt.gca()\n",
        "  divider = make_axes_locatable(ax)\n",
        "  cax = divider.append_axes(\"right\", size=\"5%\", pad=0.05)\n",
        "  cbar = plt.colorbar(contplt, cax=cax)\n",
        "  cbar.set_label('$z = h(x, y)$')\n",
        "  plt.show()"
      ],
      "execution_count": 6,
      "outputs": []
    },
    {
      "cell_type": "code",
      "metadata": {
        "cellView": "form",
        "execution": {},
        "id": "B7WYkItEgL-i"
      },
      "source": [
        "# @title Set random seed\n",
        "\n",
        "# @markdown Executing `set_seed(seed=seed)` you are setting the seed\n",
        "\n",
        "# for DL its critical to set the random seed so that students can have a\n",
        "# baseline to compare their results to expected results.\n",
        "# Read more here: https://pytorch.org/docs/stable/notes/randomness.html\n",
        "\n",
        "# Call `set_seed` function in the exercises to ensure reproducibility.\n",
        "import random\n",
        "import torch\n",
        "\n",
        "def set_seed(seed=None, seed_torch=True):\n",
        "  if seed is None:\n",
        "    seed = np.random.choice(2 ** 32)\n",
        "  random.seed(seed)\n",
        "  np.random.seed(seed)\n",
        "  if seed_torch:\n",
        "    torch.manual_seed(seed)\n",
        "    torch.cuda.manual_seed_all(seed)\n",
        "    torch.cuda.manual_seed(seed)\n",
        "    torch.backends.cudnn.benchmark = False\n",
        "    torch.backends.cudnn.deterministic = True\n",
        "\n",
        "  print(f'Random seed {seed} has been set.')\n",
        "\n",
        "\n",
        "# In case that `DataLoader` is used\n",
        "def seed_worker(worker_id):\n",
        "  worker_seed = torch.initial_seed() % 2**32\n",
        "  np.random.seed(worker_seed)\n",
        "  random.seed(worker_seed)"
      ],
      "execution_count": 7,
      "outputs": []
    },
    {
      "cell_type": "code",
      "metadata": {
        "cellView": "form",
        "execution": {},
        "id": "Zsjq6LdLgL-i"
      },
      "source": [
        "# @title Set device (GPU or CPU). Execute `set_device()`\n",
        "# especially if torch modules used.\n",
        "\n",
        "# inform the user if the notebook uses GPU or CPU.\n",
        "\n",
        "def set_device():\n",
        "  device = \"cuda\" if torch.cuda.is_available() else \"cpu\"\n",
        "  if device != \"cuda\":\n",
        "    print(\"GPU is not enabled in this notebook. \\n\"\n",
        "          \"If you want to enable it, in the menu under `Runtime` -> \\n\"\n",
        "          \"`Hardware accelerator.` and select `GPU` from the dropdown menu\")\n",
        "  else:\n",
        "    print(\"GPU is enabled in this notebook. \\n\"\n",
        "          \"If you want to disable it, in the menu under `Runtime` -> \\n\"\n",
        "          \"`Hardware accelerator.` and select `None` from the dropdown menu\")\n",
        "\n",
        "  return device"
      ],
      "execution_count": 8,
      "outputs": []
    },
    {
      "cell_type": "code",
      "metadata": {
        "execution": {},
        "id": "mZ494rJWgL-j",
        "outputId": "4b7d9701-ab9e-47fa-bf04-4f67b0afc79f",
        "colab": {
          "base_uri": "https://localhost:8080/"
        }
      },
      "source": [
        "SEED = 2021\n",
        "set_seed(seed=SEED)\n",
        "DEVICE = set_device()"
      ],
      "execution_count": 9,
      "outputs": [
        {
          "output_type": "stream",
          "text": [
            "Random seed 2021 has been set.\n",
            "GPU is not enabled in this notebook. \n",
            "If you want to enable it, in the menu under `Runtime` -> \n",
            "`Hardware accelerator.` and select `GPU` from the dropdown menu\n"
          ],
          "name": "stdout"
        }
      ]
    },
    {
      "cell_type": "markdown",
      "metadata": {
        "execution": {},
        "id": "D0cZ-iPJgL-j"
      },
      "source": [
        "---\n",
        "# Section 0: Introduction"
      ]
    },
    {
      "cell_type": "markdown",
      "metadata": {
        "execution": {},
        "id": "mt5syrOTgL-j"
      },
      "source": [
        "Today, we will go through 3 tutorials. Starting with Gradient Descent, the workhorse of deep learning algorithms, in this tutorial. The second tutorial will help us build a better intuition about neural networks and basic hyper-parameters. Finally, in tutorial 3, we learn about the learning dynamics, what the (a good) deep network is learning, and why sometimes they may perform poorly."
      ]
    },
    {
      "cell_type": "code",
      "metadata": {
        "cellView": "form",
        "execution": {},
        "id": "Ke15TWH1gL-k",
        "outputId": "28571743-926f-45ca-ab09-a3506a5704ea",
        "colab": {
          "base_uri": "https://localhost:8080/",
          "height": 579,
          "referenced_widgets": [
            "cc2bf2a48ec8480fa094d22e4feaf258",
            "5db18b70c6c24534a2676fb9d1804492",
            "37b27d47889e41a08167b396de945a47",
            "f55237076f604d7ab5610d3b5624df67",
            "79aabf0c79a14b0d83fc5ecdbb38122d",
            "f407e61e94c744bb861d38c5453af9fe"
          ]
        }
      },
      "source": [
        "# @title Video 0: Introduction\n",
        "from ipywidgets import widgets\n",
        "\n",
        "out2 = widgets.Output()\n",
        "with out2:\n",
        "  from IPython.display import IFrame\n",
        "  class BiliVideo(IFrame):\n",
        "    def __init__(self, id, page=1, width=400, height=300, **kwargs):\n",
        "      self.id=id\n",
        "      src = \"https://player.bilibili.com/player.html?bvid={0}&page={1}\".format(id, page)\n",
        "      super(BiliVideo, self).__init__(src, width, height, **kwargs)\n",
        "\n",
        "  video = BiliVideo(id=f\"BV1Qf4y1578t\", width=854, height=480, fs=1)\n",
        "  print(\"Video available at https://www.bilibili.com/video/{0}\".format(video.id))\n",
        "  display(video)\n",
        "\n",
        "out1 = widgets.Output()\n",
        "with out1:\n",
        "  from IPython.display import YouTubeVideo\n",
        "  video = YouTubeVideo(id=f\"i7djAv2jnzY\", width=854, height=480, fs=1, rel=0)\n",
        "  print(\"Video available at https://youtube.com/watch?v=\" + video.id)\n",
        "  display(video)\n",
        "\n",
        "out = widgets.Tab([out1, out2])\n",
        "out.set_title(0, 'Youtube')\n",
        "out.set_title(1, 'Bilibili')\n",
        "\n",
        "#add event to airtable\n",
        "atform.add_event('Video 0:Introduction')\n",
        "\n",
        "display(out)"
      ],
      "execution_count": 10,
      "outputs": [
        {
          "output_type": "display_data",
          "data": {
            "application/vnd.jupyter.widget-view+json": {
              "model_id": "cc2bf2a48ec8480fa094d22e4feaf258",
              "version_minor": 0,
              "version_major": 2
            },
            "text/plain": [
              "Tab(children=(Output(), Output()), _titles={'0': 'Youtube', '1': 'Bilibili'})"
            ]
          },
          "metadata": {
            "tags": []
          }
        }
      ]
    },
    {
      "cell_type": "markdown",
      "metadata": {
        "execution": {},
        "id": "1Eh2sNk6gL-k"
      },
      "source": [
        "---\n",
        "# Section 1: Gradient Descent Algorithm\n",
        "\n",
        "*Time estimate: ~30-45 mins*"
      ]
    },
    {
      "cell_type": "markdown",
      "metadata": {
        "execution": {},
        "id": "2WyAeXSegL-k"
      },
      "source": [
        "Since the goal of most learning algorithms is **minimizing the risk (also known as the cost or loss) function**, optimization is often the core of most machine learning techniques! The gradient descent algorithm, along with its variations such as stochastic gradient descent, is one of the most powerful and popular optimization methods used for deep learning. Today we will introduce the basics, but you will learn much more about Optimization in the coming days (Week 1 Day 4).\n",
        "\n",
        "\n",
        "\n"
      ]
    },
    {
      "cell_type": "markdown",
      "metadata": {
        "execution": {},
        "id": "QxV7kYG7gL-k"
      },
      "source": [
        "## Section 1.1: Gradients & Steepest Ascent"
      ]
    },
    {
      "cell_type": "code",
      "metadata": {
        "cellView": "form",
        "execution": {},
        "id": "kemzUzhSgL-l",
        "outputId": "169fd391-b095-4c98-abda-d337572514f0",
        "colab": {
          "base_uri": "https://localhost:8080/",
          "height": 579,
          "referenced_widgets": [
            "22c3e54df2094acea897d1c6927705be",
            "600d5eb39c2446a69e87a80661537c28",
            "a2bef8ddfa494bb488d478359d0ee7b0",
            "29ce8f64e5c944faa871d27afd3a84af",
            "8d6b451ec59b41b3b3b0a1280f75eed8",
            "fa9e70b172214e49a222d9a56e9d8744"
          ]
        }
      },
      "source": [
        "# @title Video 1: Gradient Descent\n",
        "from ipywidgets import widgets\n",
        "\n",
        "out2 = widgets.Output()\n",
        "with out2:\n",
        "  from IPython.display import IFrame\n",
        "  class BiliVideo(IFrame):\n",
        "    def __init__(self, id, page=1, width=400, height=300, **kwargs):\n",
        "      self.id=id\n",
        "      src = \"https://player.bilibili.com/player.html?bvid={0}&page={1}\".format(id, page)\n",
        "      super(BiliVideo, self).__init__(src, width, height, **kwargs)\n",
        "\n",
        "  video = BiliVideo(id=f\"BV1Pq4y1p7em\", width=854, height=480, fs=1)\n",
        "  print(\"Video available at https://www.bilibili.com/video/{0}\".format(video.id))\n",
        "  display(video)\n",
        "\n",
        "out1 = widgets.Output()\n",
        "with out1:\n",
        "  from IPython.display import YouTubeVideo\n",
        "  video = YouTubeVideo(id=f\"UwgA_SgG0TM\", width=854, height=480, fs=1, rel=0)\n",
        "  print(\"Video available at https://youtube.com/watch?v=\" + video.id)\n",
        "  display(video)\n",
        "\n",
        "out = widgets.Tab([out1, out2])\n",
        "out.set_title(0, 'Youtube')\n",
        "out.set_title(1, 'Bilibili')\n",
        "\n",
        "#add event to airtable\n",
        "atform.add_event('Video 1: Gradient Descent')\n",
        "\n",
        "display(out)"
      ],
      "execution_count": 11,
      "outputs": [
        {
          "output_type": "display_data",
          "data": {
            "application/vnd.jupyter.widget-view+json": {
              "model_id": "22c3e54df2094acea897d1c6927705be",
              "version_minor": 0,
              "version_major": 2
            },
            "text/plain": [
              "Tab(children=(Output(), Output()), _titles={'0': 'Youtube', '1': 'Bilibili'})"
            ]
          },
          "metadata": {
            "tags": []
          }
        }
      ]
    },
    {
      "cell_type": "markdown",
      "metadata": {
        "execution": {},
        "id": "P5MpFFWxgL-l"
      },
      "source": [
        "Before introducing the gradient descent algorithm, let's review a very important property of gradients. The gradient of a function always points in the direction of the steepest ascent. The following exercise will help clarify this."
      ]
    },
    {
      "cell_type": "markdown",
      "metadata": {
        "execution": {},
        "id": "kfdduspOgL-l"
      },
      "source": [
        "### Analytical Exercise 1.1: Gradient vector (Optional)\n",
        "\n",
        "Given the following function:\n",
        "\n",
        "\\begin{equation}\n",
        "z = h(x, y) = \\sin(x^2 + y^2)\n",
        "\\end{equation}\n",
        "\n",
        "find the gradient vector:\n",
        "\n",
        "\\begin{equation}\n",
        "  \\begin{bmatrix}\n",
        "  \\dfrac{\\partial z}{\\partial x} \\\\ \\\\ \\dfrac{\\partial z}{\\partial y}\n",
        "  \\end{bmatrix}\n",
        "\\end{equation}\n",
        "\n",
        "\n",
        "*hint: use the chain rule!*\n",
        "\n",
        "**Chain rule**: For a composite function $F(x) = g(h(x)) \\equiv (g \\circ h)(x)$:\n",
        "\n",
        "\\begin{equation}\n",
        "F'(x) = g'(h(x)) \\cdot h'(x)\n",
        "\\end{equation}\n",
        "\n",
        "or differently denoted:\n",
        "\n",
        "\\begin{equation}\n",
        "\\frac{dF}{dx} = \\frac{dg}{dh} ~ \\frac{dh}{dx}\n",
        "\\end{equation}\n",
        "\n",
        "---\n",
        "#### Solution:\n",
        "We can rewrite the function as a composite function:\n",
        "\n",
        "\\begin{equation}\n",
        "z = f\\left( g(x,y) \\right), ~~ f(u) = \\sin(u), ~~ g(x, y) = x^2 + y^2\n",
        "\\end{equation}\n",
        "\n",
        "Using chain rule:\n",
        "\n",
        "\\begin{align}\n",
        "\\dfrac{\\partial z}{\\partial x} &= \\dfrac{\\partial f}{\\partial g} \\dfrac{\\partial g}{\\partial x} = \\cos(g(x,y)) ~ (2x) = \\cos(x^2 + y^2) \\cdot 2x \\\\ \\\\\n",
        "\\dfrac{\\partial z}{\\partial y} &= \\dfrac{\\partial f}{\\partial g} \\dfrac{\\partial g}{\\partial y} = \\cos(g(x,y)) ~ (2y) = \\cos(x^2 + y^2) \\cdot 2y\n",
        "\\end{align}\n"
      ]
    },
    {
      "cell_type": "markdown",
      "metadata": {
        "execution": {},
        "id": "ZoTaqAIqgL-l"
      },
      "source": [
        "### Coding Exercise 1.1: Gradient Vector\n",
        "\n",
        "Implement (complete) the function which returns the gradient vector for $z=\\sin(x^2 + y^2)$."
      ]
    },
    {
      "cell_type": "code",
      "metadata": {
        "execution": {},
        "id": "ZO5r2krugL-m"
      },
      "source": [
        "def fun_z(x, y):\n",
        "  \"\"\"Function sin(x^2 + y^2)\n",
        "\n",
        "  Args:\n",
        "    x (float, np.ndarray): variable x\n",
        "    y (float, np.ndarray): variable y\n",
        "\n",
        "  Return:\n",
        "    z (float, np.ndarray): sin(x^2 + y^2)\n",
        "  \"\"\"\n",
        "  z = np.sin(x**2 + y**2)\n",
        "  return z\n",
        "\n",
        "\n",
        "def fun_dz(x, y):\n",
        "  \"\"\"Function sin(x^2 + y^2)\n",
        "\n",
        "  Args:\n",
        "    x (float, np.ndarray): variable x\n",
        "    y (float, np.ndarray): variable y\n",
        "\n",
        "  Return:\n",
        "    (tuple): gradient vector for sin(x^2 + y^2)\n",
        "  \"\"\"\n",
        "  #################################################\n",
        "  ## Implement the function which returns gradient vector\n",
        "  ## Complete the partial derivatives dz_dx and dz_dy\n",
        "  # Complete the function and remove or comment the line below\n",
        "  raise NotImplementedError(\"Gradient function `fun_dz`\")\n",
        "  #################################################\n",
        "  dz_dx = ...\n",
        "  dz_dy = ...\n",
        "  return (dz_dx, dz_dy)\n",
        "\n",
        "#add event to airtable\n",
        "atform.add_event('Coding Exercise 1.1: Gradient Vector')\n",
        "\n",
        "## Uncomment to run\n",
        "# ex1_plot(fun_z, fun_dz)"
      ],
      "execution_count": 12,
      "outputs": []
    },
    {
      "cell_type": "markdown",
      "metadata": {
        "execution": {},
        "id": "qUvLx7vmgL-m"
      },
      "source": [
        "[*Click for solution*](https://github.com/NeuromatchAcademy/course-content-dl/tree/main//tutorials/W1D2_LinearDeepLearning/solutions/W1D2_Tutorial1_Solution_0c8e3872.py)\n",
        "\n",
        "*Example output:*\n",
        "\n",
        "<img alt='Solution hint' align='left' width=1120.0 height=976.0 src=https://raw.githubusercontent.com/NeuromatchAcademy/course-content-dl/main/tutorials/W1D2_LinearDeepLearning/static/W1D2_Tutorial1_Solution_0c8e3872_0.png>\n",
        "\n"
      ]
    },
    {
      "cell_type": "markdown",
      "metadata": {
        "execution": {},
        "id": "Ipw5RQgLgL-m"
      },
      "source": [
        "We can see from the plot that for any given $x_0$ and $y_0$, the gradient vector $\\left[ \\dfrac{\\partial z}{\\partial x}, \\dfrac{\\partial z}{\\partial y}\\right]^{\\top}_{(x_0, y_0)}$ points in the direction of $x$ and $y$ for which $z$ increases the most. It is important to note that gradient vectors only see their local values, not the whole landscape! Also, length (size) of each vector, which indicates the steepness of the function, can be very small near local plateaus (i.e. minima or maxima).\n",
        "\n",
        "Thus, we can simply use the aforementioned formula to find the local minima. \n",
        "\n",
        "In 1847, Augustin-Louis Cauchy used **negative of gradients**  to develop the Gradient Descent algorithm as an **iterative** method to **minimize** a **continuous** and (ideally) **differentiable function** of **many variables**."
      ]
    },
    {
      "cell_type": "code",
      "metadata": {
        "cellView": "form",
        "execution": {},
        "id": "A116z_AMgL-m"
      },
      "source": [
        "# @title Video 2: Gradient Descent - Discussion\n",
        "from ipywidgets import widgets\n",
        "\n",
        "out2 = widgets.Output()\n",
        "with out2:\n",
        "  from IPython.display import IFrame\n",
        "  class BiliVideo(IFrame):\n",
        "    def __init__(self, id, page=1, width=400, height=300, **kwargs):\n",
        "      self.id=id\n",
        "      src = \"https://player.bilibili.com/player.html?bvid={0}&page={1}\".format(id, page)\n",
        "      super(BiliVideo, self).__init__(src, width, height, **kwargs)\n",
        "\n",
        "  video = BiliVideo(id=f\"BV1Rf4y157bw\", width=854, height=480, fs=1)\n",
        "  print(\"Video available at https://www.bilibili.com/video/{0}\".format(video.id))\n",
        "  display(video)\n",
        "\n",
        "out1 = widgets.Output()\n",
        "with out1:\n",
        "  from IPython.display import YouTubeVideo\n",
        "  video = YouTubeVideo(id=f\"8s22ffAfGwI\", width=854, height=480, fs=1, rel=0)\n",
        "  print(\"Video available at https://youtube.com/watch?v=\" + video.id)\n",
        "  display(video)\n",
        "\n",
        "out = widgets.Tab([out1, out2])\n",
        "out.set_title(0, 'Youtube')\n",
        "out.set_title(1, 'Bilibili')\n",
        "\n",
        "#add event to airtable\n",
        "atform.add_event('Video 2: Gradient Descent ')\n",
        "\n",
        "display(out)"
      ],
      "execution_count": null,
      "outputs": []
    },
    {
      "cell_type": "markdown",
      "metadata": {
        "execution": {},
        "id": "i-OdhMIrgL-m"
      },
      "source": [
        "## Section 1.2: Gradient Descent Algorithm"
      ]
    },
    {
      "cell_type": "markdown",
      "metadata": {
        "execution": {},
        "id": "fEYvOWyzgL-m"
      },
      "source": [
        "Let $f(\\mathbf{w}): \\mathbb{R}^d \\rightarrow \\mathbb{R}$ be a differentiable function. Gradient Descent is an iterative algorithm for minimizing the function $f$, starting with an initial value for variables $\\mathbf{w}$, taking steps of size $\\eta$ (learning rate) in the direction of the negative gradient at the current point to update the variables $\\mathbf{w}$.\n",
        "\n",
        "\\begin{equation}\n",
        "\\mathbf{w}^{(t+1)} = \\mathbf{w}^{(t)} - \\eta \\nabla f (\\mathbf{w}^{(t)})\n",
        "\\end{equation}\n",
        "\n",
        "where $\\eta > 0$ and $\\nabla f (\\mathbf{w})= \\left( \\frac{\\partial f(\\mathbf{w})}{\\partial w_1}, ..., \\frac{\\partial f(\\mathbf{w})}{\\partial w_d} \\right)$. Since negative gradients always point locally in the direction of steepest descent, the algorithm makes small steps at each point **towards** the minimum.\n",
        "  \n",
        "<br/>\n",
        "\n",
        "**Vanilla Algorithm**\n",
        "\n",
        "---\n",
        "> **inputs**: initial guess $\\mathbf{w}^{(0)}$, step size $\\eta > 0$, number of steps $T$\n",
        "\n",
        "> *For* $t = 0, 2, \\dots , T-1$ *do* \\\n",
        "$\\qquad$ $\\mathbf{w}^{(t+1)} = \\mathbf{w}^{(t)} - \\eta \\nabla f (\\mathbf{w}^{(t)})$\\\n",
        "*end*\n",
        "\n",
        "> *return*: $\\mathbf{w}^{(t+1)}$\n",
        "\n",
        "---\n",
        "\n",
        "<br/>\n",
        "\n",
        "Hence, all we need is to calculate the gradient of the loss function with respect to the learnable parameters (i.e. weights):\n",
        "\n",
        "\\begin{equation}\n",
        "\\dfrac{\\partial Loss}{\\partial \\mathbf{w}} = \\left[ \\dfrac{\\partial Loss}{\\partial w_1}, \\dfrac{\\partial Loss}{\\partial w_2} , ..., \\dfrac{\\partial Loss}{\\partial w_d} \\right]^{\\top}\n",
        "\\end{equation}\n",
        "\n"
      ]
    },
    {
      "cell_type": "markdown",
      "metadata": {
        "execution": {},
        "id": "bh20U-QbgL-n"
      },
      "source": [
        "### Analytical Exercise 1.2: Gradients\n",
        "\n",
        "Given $f(x, y, z) = \\tanh \\left( \\ln \\left[1 + z \\frac{2x}{sin(y)} \\right] \\right)$, how easy is it to derive $\\dfrac{\\partial f}{\\partial x}$, $\\dfrac{\\partial f}{\\partial y}$ and $\\dfrac{\\partial f}{\\partial z}$? (*hint: you don't have to actually calculate them!*)"
      ]
    },
    {
      "cell_type": "markdown",
      "metadata": {
        "execution": {},
        "id": "hAcsbtJkgL-n"
      },
      "source": [
        "## Section 1.3: Computational Graphs and Backprop\n"
      ]
    },
    {
      "cell_type": "code",
      "metadata": {
        "cellView": "form",
        "execution": {},
        "id": "xdhJwuplgL-n"
      },
      "source": [
        "# @title Video 3: Computational Graph\n",
        "from ipywidgets import widgets\n",
        "\n",
        "out2 = widgets.Output()\n",
        "with out2:\n",
        "  from IPython.display import IFrame\n",
        "  class BiliVideo(IFrame):\n",
        "    def __init__(self, id, page=1, width=400, height=300, **kwargs):\n",
        "      self.id=id\n",
        "      src = \"https://player.bilibili.com/player.html?bvid={0}&page={1}\".format(id, page)\n",
        "      super(BiliVideo, self).__init__(src, width, height, **kwargs)\n",
        "\n",
        "  video = BiliVideo(id=f\"BV1c64y1B7ZG\", width=854, height=480, fs=1)\n",
        "  print(\"Video available at https://www.bilibili.com/video/{0}\".format(video.id))\n",
        "  display(video)\n",
        "\n",
        "out1 = widgets.Output()\n",
        "with out1:\n",
        "  from IPython.display import YouTubeVideo\n",
        "  video = YouTubeVideo(id=f\"2z1YX5PonV4\", width=854, height=480, fs=1, rel=0)\n",
        "  print(\"Video available at https://youtube.com/watch?v=\" + video.id)\n",
        "  display(video)\n",
        "\n",
        "out = widgets.Tab([out1, out2])\n",
        "out.set_title(0, 'Youtube')\n",
        "out.set_title(1, 'Bilibili')\n",
        "\n",
        "#add event to airtable\n",
        "atform.add_event('Video 3: Computational Graph ')\n",
        "\n",
        "display(out)"
      ],
      "execution_count": null,
      "outputs": []
    },
    {
      "cell_type": "markdown",
      "metadata": {
        "execution": {},
        "id": "5_JMSFsNgL-n"
      },
      "source": [
        " *Exercise 1.2* is an example of how overwhelming the derivation of gradients can get, as the number of variables and nested functions increases. This function is still extraordinarily simple compared to the loss functions of modern neural networks. So how can we (as well as PyTorch and similar frameworks) approach such beasts?\n",
        "\n",
        "Let’s look at the function again:\n",
        "\n",
        "\\begin{equation}\n",
        "f(x, y, z) = \\tanh \\left(\\ln \\left[1 + z \\frac{2x}{sin(y)} \\right] \\right)\n",
        "\\end{equation}\n",
        "\n",
        "We can build a so-called computational graph (shown below) to break the original function into smaller and more approachable expressions.\n",
        "\n",
        "<center><img src=\"https://raw.githubusercontent.com/NeuromatchAcademy/course-content-dl/main/tutorials/W1D2_LinearDeepLearning/static/comput_graph.png\" alt=\"Computation Graph\" width=\"700\"/></center>\n",
        "\n",
        "Starting from $x$, $y$, and $z$ and following the arrows and expressions, you would see that our graph returns the same function as $f$. It does so by calculating intermediate variables $a,b,c,d,$ and $e$. This is called the **forward pass**.\n",
        "\n",
        "Now, let’s start from $f$, and work our way against the arrows while calculating the gradient of each expression as we go. This is called the **backward pass**, from which the **backpropagation of errors** algorithm gets its name.\n",
        "\n",
        "<center><img src=\"https://raw.githubusercontent.com/NeuromatchAcademy/course-content-dl/main/tutorials/W1D2_LinearDeepLearning/static/comput_graph_full.png\" alt=\"Computation Graph full\" width=\"1200\"/></center>\n",
        "\n",
        "By breaking the computation into simple operations on intermediate variables, we can use the chain rule to calculate any gradient:\n",
        "\n",
        "\\begin{equation}\n",
        "\\dfrac{\\partial f}{\\partial x} = \\dfrac{\\partial f}{\\partial e}~\\dfrac{\\partial e}{\\partial d}~\\dfrac{\\partial d}{\\partial c}~\\dfrac{\\partial c}{\\partial a}~\\dfrac{\\partial a}{\\partial x} = \\left( 1-\\tanh^2(e) \\right) \\cdot \\frac{1}{d+1}\\cdot z \\cdot \\frac{1}{b} \\cdot 2\n",
        "\\end{equation}\n",
        "\n",
        "Conveniently, the values for $e$, $b$, and $d$ are available to us from when we did the forward pass through the graph. That is, the partial derivatives have simple expressions in terms of the intermediate variables $a,b,c,d,e$ that we calculated and stored during the forward pass.\n"
      ]
    },
    {
      "cell_type": "markdown",
      "metadata": {
        "execution": {},
        "id": "gPQR3JtagL-n"
      },
      "source": [
        "### Analytical Exercise 1.3: Chain Rule (Optional)\n",
        "For the function above, calculate the $\\dfrac{\\partial f}{\\partial y}$ using the computational graph and chain rule.\n",
        "\n",
        "---\n",
        "#### Solution:\n",
        "\\begin{equation}\n",
        "\\dfrac{\\partial f}{\\partial y} = \\dfrac{\\partial f}{\\partial e}~\\dfrac{\\partial e}{\\partial d}~\\dfrac{\\partial d}{\\partial c}~\\dfrac{\\partial c}{\\partial b}~\\dfrac{\\partial b}{\\partial y} = \\left( 1-\\tanh^2(e) \\right) \\cdot \\frac{1}{d+1}\\cdot z \\cdot \\frac{-a}{b^2} \\cdot \\cos(y)\n",
        "\\end{equation}"
      ]
    },
    {
      "cell_type": "markdown",
      "metadata": {
        "execution": {},
        "id": "6WJdtwKqgL-o"
      },
      "source": [
        "For more: [Calculus on Computational Graphs: Backpropagation](https://colah.github.io/posts/2015-08-Backprop/)"
      ]
    },
    {
      "cell_type": "markdown",
      "metadata": {
        "execution": {},
        "id": "t6ytKecZgL-o"
      },
      "source": [
        "---\n",
        "# Section 2: PyTorch AutoGrad\n",
        "\n",
        "*Time estimate: ~30-45 mins*"
      ]
    },
    {
      "cell_type": "code",
      "metadata": {
        "cellView": "form",
        "execution": {},
        "id": "MPcHswl_gL-o"
      },
      "source": [
        "# @title Video 4: Auto-Differentiation\n",
        "from ipywidgets import widgets\n",
        "\n",
        "out2 = widgets.Output()\n",
        "with out2:\n",
        "  from IPython.display import IFrame\n",
        "  class BiliVideo(IFrame):\n",
        "    def __init__(self, id, page=1, width=400, height=300, **kwargs):\n",
        "      self.id=id\n",
        "      src = \"https://player.bilibili.com/player.html?bvid={0}&page={1}\".format(id, page)\n",
        "      super(BiliVideo, self).__init__(src, width, height, **kwargs)\n",
        "\n",
        "  video = BiliVideo(id=f\"BV1UP4y1s7gv\", width=854, height=480, fs=1)\n",
        "  print(\"Video available at https://www.bilibili.com/video/{0}\".format(video.id))\n",
        "  display(video)\n",
        "\n",
        "out1 = widgets.Output()\n",
        "with out1:\n",
        "  from IPython.display import YouTubeVideo\n",
        "  video = YouTubeVideo(id=f\"IBYFCNyBcF8\", width=854, height=480, fs=1, rel=0)\n",
        "  print(\"Video available at https://youtube.com/watch?v=\" + video.id)\n",
        "  display(video)\n",
        "\n",
        "out = widgets.Tab([out1, out2])\n",
        "out.set_title(0, 'Youtube')\n",
        "out.set_title(1, 'Bilibili')\n",
        "\n",
        "#add event to airtable\n",
        "atform.add_event('Video 4: Auto-Differentiation ')\n",
        "\n",
        "display(out)"
      ],
      "execution_count": null,
      "outputs": []
    },
    {
      "cell_type": "markdown",
      "metadata": {
        "execution": {},
        "id": "Nyk8SFBlgL-o"
      },
      "source": [
        "Deep learning frameworks such as PyTorch, JAX, and TensorFlow come with a very efficient and sophisticated set of algorithms, commonly known as Automatic Differentiation. AutoGrad is PyTorch's automatic differentiation engine. Here we start by covering the essentials of AutoGrad, and you will learn more in the coming days.\n",
        "\n"
      ]
    },
    {
      "cell_type": "markdown",
      "metadata": {
        "execution": {},
        "id": "tNVJuMFGgL-o"
      },
      "source": [
        "## Section 2.1: Forward Propagation\n",
        "\n",
        "Everything starts with the forward propagation (pass). PyTorch tracks all the instructions, as we declare the variables and operations, and it builds the graph when we call the `.backward()` pass. PyTorch rebuilds the graph every time we iterate or change it (or simply put, PyTorch uses a dynamic graph).\n",
        "\n",
        "For gradient descent, it is only required to have the gradients of cost function with respect to the variables we wish to learn. These variables are often called \"learnable / trainable parameters\" or simply \"parameters\" in PyTorch. In neural nets, weights and biases are often the learnable parameters. "
      ]
    },
    {
      "cell_type": "markdown",
      "metadata": {
        "execution": {},
        "id": "-jCS8CiMgL-o"
      },
      "source": [
        "### Coding Exercise 2.1: Buiding a Computational Graph\n",
        "\n",
        "In PyTorch, to indicate that a certain tensor contains learnable parameters, we can set the optional argument `requires_grad` to `True`. PyTorch will then track every operation using this tensor while configuring the computational graph. For this exercise, use the provided tensors to build the following graph, which implements a single neuron with scalar input and output.\n",
        "\n",
        "<br/>\n",
        "\n",
        "<center><img src=\"https://raw.githubusercontent.com/NeuromatchAcademy/course-content-dl/main/tutorials/W1D2_LinearDeepLearning/static/simple_graph.png\" alt=\"Simple nn graph\" width=\"600\"/></center>"
      ]
    },
    {
      "cell_type": "code",
      "metadata": {
        "execution": {},
        "id": "qGrgCD90gL-o"
      },
      "source": [
        "#add event to airtable\n",
        "atform.add_event('Coding Exercise 2.1: Computational Graph ')\n",
        "\n",
        "\n",
        "class SimpleGraph:\n",
        "  def __init__(self, w, b):\n",
        "    \"\"\"Initializing the SimpleGraph\n",
        "\n",
        "    Args:\n",
        "      w (float): initial value for weight\n",
        "      b (float): initial value for bias\n",
        "    \"\"\"\n",
        "    assert isinstance(w, float)\n",
        "    assert isinstance(b, float)\n",
        "    self.w = torch.tensor([w], requires_grad=True)\n",
        "    self.b = torch.tensor([b], requires_grad=True)\n",
        "\n",
        "  def forward(self, x):\n",
        "    \"\"\"Forward pass\n",
        "\n",
        "    Args:\n",
        "      x (torch.Tensor): 1D tensor of features\n",
        "\n",
        "    Returns:\n",
        "      torch.Tensor: model predictions\n",
        "    \"\"\"\n",
        "    assert isinstance(x, torch.Tensor)\n",
        "    #################################################\n",
        "    ## Implement the the forward pass to calculate prediction\n",
        "    ## Note that prediction is not the loss, but the value after `tanh`\n",
        "    # Complete the function and remove or comment the line below\n",
        "    raise NotImplementedError(\"Forward Pass `forward`\")\n",
        "    #################################################\n",
        "    prediction = ...\n",
        "    return prediction\n",
        "\n",
        "\n",
        "def sq_loss(y_true, y_prediction):\n",
        "  \"\"\"L2 loss function\n",
        "\n",
        "  Args:\n",
        "    y_true (torch.Tensor): 1D tensor of target labels\n",
        "    y_prediction (torch.Tensor): 1D tensor of predictions\n",
        "\n",
        "  Returns:\n",
        "    torch.Tensor: L2-loss (squared error)\n",
        "  \"\"\"\n",
        "  assert isinstance(y_true, torch.Tensor)\n",
        "  assert isinstance(y_prediction, torch.Tensor)\n",
        "  #################################################\n",
        "  ## Implement the L2-loss (squred error) given true label and prediction\n",
        "  # Complete the function and remove or comment the line below\n",
        "  raise NotImplementedError(\"Loss function `sq_loss`\")\n",
        "  #################################################\n",
        "  loss = ...\n",
        "  return loss\n",
        "\n",
        "\n",
        "feature = torch.tensor([1])  # input tensor\n",
        "target = torch.tensor([7])  # target tensor\n",
        "## Uncomment to run\n",
        "# simple_graph = SimpleGraph(-0.5, 0.5)\n",
        "# print(f\"initial weight = {simple_graph.w.item()}, \"\n",
        "#       f\"\\ninitial bias = {simple_graph.b.item()}\")\n",
        "# prediction = simple_graph.forward(feature)\n",
        "# square_loss = sq_loss(target, prediction)\n",
        "# print(f\"for x={feature.item()} and y={target.item()}, \"\n",
        "#       f\"prediction={prediction.item()}, and L2 Loss = {square_loss.item()}\")"
      ],
      "execution_count": null,
      "outputs": []
    },
    {
      "cell_type": "markdown",
      "metadata": {
        "execution": {},
        "id": "G8tSiBXngL-o"
      },
      "source": [
        "[*Click for solution*](https://github.com/NeuromatchAcademy/course-content-dl/tree/main//tutorials/W1D2_LinearDeepLearning/solutions/W1D2_Tutorial1_Solution_6668feea.py)\n",
        "\n"
      ]
    },
    {
      "cell_type": "markdown",
      "metadata": {
        "execution": {},
        "id": "enbAXJAEgL-p"
      },
      "source": [
        "It is important to appreciate the fact that PyTorch can follow our operations as we arbitrarily go through classes and functions."
      ]
    },
    {
      "cell_type": "markdown",
      "metadata": {
        "execution": {},
        "id": "195c-8cugL-p"
      },
      "source": [
        "## Section 2.2: Backward Propagation\n",
        "\n",
        "Here is where all the magic lies. In PyTorch, `Tensor` and `Function` are interconnected and build up an acyclic graph, that encodes a complete history of computation. Each variable has a `grad_fn` attribute that references a function that has created the Tensor (except for Tensors created by the user - these have `None` as `grad_fn`).  The example below shows that the tensor `c = a + b` is created by the `Add` operation and the gradient function is the object `<AddBackward...>`. Replace `+` with other single operations (e.g., `c = a * b` or `c = torch.sin(a)`) and examine the results."
      ]
    },
    {
      "cell_type": "code",
      "metadata": {
        "execution": {},
        "id": "H6tez3p6gL-p"
      },
      "source": [
        "a = torch.tensor([1.0], requires_grad=True)\n",
        "b = torch.tensor([-1.0], requires_grad=True)\n",
        "c = a + b\n",
        "print(f'Gradient function = {c.grad_fn}')"
      ],
      "execution_count": null,
      "outputs": []
    },
    {
      "cell_type": "markdown",
      "metadata": {
        "execution": {},
        "id": "TOryd_2dgL-p"
      },
      "source": [
        "For more complex functions, printing the `grad_fn` would only show the last operation, even though the object tracks all the operations up to that point:"
      ]
    },
    {
      "cell_type": "code",
      "metadata": {
        "execution": {},
        "id": "CjZ3IiY7gL-p"
      },
      "source": [
        "print(f'Gradient function for prediction = {prediction.grad_fn}')\n",
        "print(f'Gradient function for loss = {square_loss.grad_fn}')"
      ],
      "execution_count": null,
      "outputs": []
    },
    {
      "cell_type": "markdown",
      "metadata": {
        "execution": {},
        "id": "jT3locGngL-p"
      },
      "source": [
        "Now let's kick off the backward pass to calculate the gradients by calling `.backward()` on the tensor we wish to initiate the backpropagation from. Often, `.backward()` is called on the loss, which is the last node on the graph. Before doing that, let's calculate the loss gradients by hand:\n",
        "\n",
        "$$\\frac{\\partial{loss}}{\\partial{w}} = - 2 x (y_t - y_p)(1 - y_p^2)$$\n",
        "\n",
        "$$\\frac{\\partial{loss}}{\\partial{b}} = - 2 (y_t - y_p)(1 - y_p^2)$$\n",
        "\n",
        "Where $y_t$ is the target (true label), and $y_p$ is the prediction (model output). We can then compare it to PyTorch gradients, which can be obtained by calling `.grad` on the relevant tensors.\n",
        "\n",
        "**Important Notes**\n",
        "* Learnable parameters (i.e. `reguires_grad` tensors) are \"contagious\". Let's look at a simple example: `Y = W @ X`, where `X` is the feature tensors and `W` is the weight tensor (learnable parameters, `reguires_grad`), the newly generated output tensor `Y` will be also `reguires_grad`. So any operation that is applied to `Y` will be part of the computational graph. Therefore, if we need to plot or store a tensor that is `reguires_grad`, we must first `.detach()` it from the graph by calling the `.detach()` method on that tensor.\n",
        "\n",
        "\n",
        "* `.backward()` accumulates gradients in the leaf nodes (i.e., the input nodes to the node of interest). We can call `.zero_grad()` on the loss or optimizer to zero out all `.grad` attributes (see [autograd.backward](https://pytorch.org/docs/stable/autograd.html#torch.autograd.backward) for more).\n",
        "\n",
        "* Recall that in python we can access variables and associated methods with `.method_name`. You can use the command `dir(my_object)` to observe all variables and associated methods to your object, e.g., `dir(simple_graph.w)`."
      ]
    },
    {
      "cell_type": "code",
      "metadata": {
        "execution": {},
        "id": "wb2kfIdcgL-p"
      },
      "source": [
        "# analytical gradients (remember detaching)\n",
        "ana_dloss_dw = - 2 * feature * (target - prediction.detach())*(1 - prediction.detach()**2)\n",
        "ana_dloss_db = - 2 * (target - prediction.detach())*(1 - prediction.detach()**2)\n",
        "\n",
        "square_loss.backward()  # first we should call the backward to build the graph\n",
        "autograd_dloss_dw = simple_graph.w.grad  # we calculate the derivative w.r.t weights\n",
        "autograd_dloss_db = simple_graph.b.grad  # we calculate the derivative w.r.t bias\n",
        "\n",
        "print(ana_dloss_dw == autograd_dloss_dw)\n",
        "print(ana_dloss_db == autograd_dloss_db)"
      ],
      "execution_count": null,
      "outputs": []
    },
    {
      "cell_type": "markdown",
      "metadata": {
        "execution": {},
        "id": "jI9KXmb3gL-p"
      },
      "source": [
        "References and more:\n",
        "* [A GENTLE INTRODUCTION TO TORCH.AUTOGRAD](https://pytorch.org/tutorials/beginner/blitz/autograd_tutorial.html)\n",
        "\n",
        "* [AUTOMATIC DIFFERENTIATION PACKAGE - TORCH.AUTOGRAD](https://pytorch.org/docs/stable/autograd.html)\n",
        "\n",
        "* [AUTOGRAD MECHANICS](https://pytorch.org/docs/stable/notes/autograd.html)\n",
        "\n",
        "* [AUTOMATIC DIFFERENTIATION WITH TORCH.AUTOGRAD](https://pytorch.org/tutorials/beginner/basics/autogradqs_tutorial.html)"
      ]
    },
    {
      "cell_type": "markdown",
      "metadata": {
        "execution": {},
        "id": "nEqYjs3OgL-p"
      },
      "source": [
        "---\n",
        "# Section 3: PyTorch's Neural Net module (`nn.Module`)\n",
        "\n",
        "*Time estimate: ~30 mins*"
      ]
    },
    {
      "cell_type": "code",
      "metadata": {
        "cellView": "form",
        "execution": {},
        "id": "WS0oMAQPgL-p"
      },
      "source": [
        "# @title Video 5: PyTorch `nn` module\n",
        "from ipywidgets import widgets\n",
        "\n",
        "out2 = widgets.Output()\n",
        "with out2:\n",
        "  from IPython.display import IFrame\n",
        "  class BiliVideo(IFrame):\n",
        "    def __init__(self, id, page=1, width=400, height=300, **kwargs):\n",
        "      self.id=id\n",
        "      src = \"https://player.bilibili.com/player.html?bvid={0}&page={1}\".format(id, page)\n",
        "      super(BiliVideo, self).__init__(src, width, height, **kwargs)\n",
        "\n",
        "  video = BiliVideo(id=f\"BV1MU4y1H7WH\", width=854, height=480, fs=1)\n",
        "  print(\"Video available at https://www.bilibili.com/video/{0}\".format(video.id))\n",
        "  display(video)\n",
        "\n",
        "out1 = widgets.Output()\n",
        "with out1:\n",
        "  from IPython.display import YouTubeVideo\n",
        "  video = YouTubeVideo(id=f\"jzTbQACq7KE\", width=854, height=480, fs=1, rel=0)\n",
        "  print(\"Video available at https://youtube.com/watch?v=\" + video.id)\n",
        "  display(video)\n",
        "\n",
        "out = widgets.Tab([out1, out2])\n",
        "out.set_title(0, 'Youtube')\n",
        "out.set_title(1, 'Bilibili')\n",
        "\n",
        "#add event to airtable\n",
        "atform.add_event('Video 5: PyTorch `nn` module')\n",
        "\n",
        "display(out)"
      ],
      "execution_count": null,
      "outputs": []
    },
    {
      "cell_type": "markdown",
      "metadata": {
        "execution": {},
        "id": "E_CSqp5rgL-q"
      },
      "source": [
        "PyTorch provides us with ready-to-use neural network building blocks, such as layers (e.g. linear, recurrent, ...), different activation and loss functions, and much more, packed in the [`torch.nn`](https://pytorch.org/docs/stable/nn.html) module. If we build a neural network using `torch.nn` layers, the weights and biases are already in `requires_grad` mode and will be registered as model parameters. \n",
        "\n",
        "For training, we need three things:\n",
        "\n",
        "*   **Model parameters** - Model parameters refer to all the learnable parameters of the model, which are accessible by calling `.parameters()` on the model. Please note that NOT all the `requires_grad` tensors are seen as model parameters. To create a custom model parameter, we can use [`nn.Parameter`](https://pytorch.org/docs/stable/generated/torch.nn.parameter.Parameter.html) (*A kind of Tensor that is to be considered a module parameter*).\n",
        "\n",
        "*   **Loss function** - The loss that we are going to be optimizing, which is often combined with regularization terms (conming up in few days).\n",
        "\n",
        "*   **Optimizer** - PyTorch provides us with many optimization methods (different versions of gradient descent). Optimizer holds the current state of the model and by calling the `step()` method, will update the parameters based on the computed gradients.\n",
        "\n",
        "You will learn more details about choosing the right model architecture, loss function, and optimizer later in the course."
      ]
    },
    {
      "cell_type": "markdown",
      "metadata": {
        "execution": {},
        "id": "lCF44xVfgL-q"
      },
      "source": [
        "## Section 3.1: Training loop in PyTorch\n",
        "\n",
        "We use a regression problem to study the training loop in PyTorch.\n",
        "\n",
        "The task is to train a wide nonlinear (using $\\tanh$ activation function) neural net for a simple $\\sin$ regression task. Wide neural networks are thought to be really good at generalization."
      ]
    },
    {
      "cell_type": "code",
      "metadata": {
        "cellView": "form",
        "execution": {},
        "id": "kYbJiO3KgL-q"
      },
      "source": [
        "# @markdown #### Generate the sample dataset\n",
        "set_seed(seed=SEED)\n",
        "n_samples = 32\n",
        "inputs = torch.linspace(-1.0, 1.0, n_samples).reshape(n_samples, 1)\n",
        "noise = torch.randn(n_samples, 1) / 4\n",
        "targets = torch.sin(pi * inputs) + noise\n",
        "plt.figure(figsize=(8, 5))\n",
        "plt.scatter(inputs, targets, c='c')\n",
        "plt.xlabel('x (inputs)')\n",
        "plt.ylabel('y (targets)')\n",
        "plt.show()"
      ],
      "execution_count": null,
      "outputs": []
    },
    {
      "cell_type": "markdown",
      "metadata": {
        "execution": {},
        "id": "DhIf1kSXgL-q"
      },
      "source": [
        "Let's define a very wide (512 neurons) neural net with one hidden layer and `Tanh` activation function."
      ]
    },
    {
      "cell_type": "code",
      "metadata": {
        "execution": {},
        "id": "u36OLXtagL-q"
      },
      "source": [
        "## A Wide neural network with a single hidden layer\n",
        "class WideNet(nn.Module):\n",
        "\n",
        "  def __init__(self):\n",
        "    \"\"\"Initializing the WideNet\n",
        "    \"\"\"\n",
        "    n_cells = 512\n",
        "    super().__init__()\n",
        "    self.layers = nn.Sequential(\n",
        "        nn.Linear(1, n_cells),\n",
        "        nn.Tanh(),\n",
        "        nn.Linear(n_cells, 1),\n",
        "    )\n",
        "\n",
        "  def forward(self, x):\n",
        "    \"\"\"Forward pass\n",
        "\n",
        "    Args:\n",
        "      x (torch.Tensor): 2D tensor of features\n",
        "\n",
        "    Returns:\n",
        "      torch.Tensor: model predictions\n",
        "    \"\"\"\n",
        "    return self.layers(x)"
      ],
      "execution_count": null,
      "outputs": []
    },
    {
      "cell_type": "markdown",
      "metadata": {
        "execution": {},
        "id": "sKD1qau9gL-q"
      },
      "source": [
        "We can now create an instance of our neural net and print its parameters."
      ]
    },
    {
      "cell_type": "code",
      "metadata": {
        "execution": {},
        "id": "AW0u28_ygL-q"
      },
      "source": [
        "# creating an instance\n",
        "set_seed(seed=SEED)\n",
        "wide_net = WideNet()\n",
        "print(wide_net)"
      ],
      "execution_count": null,
      "outputs": []
    },
    {
      "cell_type": "code",
      "metadata": {
        "execution": {},
        "id": "bSzohuAWgL-q"
      },
      "source": [
        "# Create a mse loss function\n",
        "loss_function = nn.MSELoss()\n",
        "\n",
        "# Stochstic Gradient Descent optimizer (you will learn about momentum soon)\n",
        "lr = 0.003  # learning rate\n",
        "sgd_optimizer = torch.optim.SGD(wide_net.parameters(), lr=lr, momentum=0.9)"
      ],
      "execution_count": null,
      "outputs": []
    },
    {
      "cell_type": "markdown",
      "metadata": {
        "execution": {},
        "id": "s8VjLN3ngL-q"
      },
      "source": [
        "The training process in PyTorch is interactive - you can perform training iterations as you wish and inspect the results after each iteration. \n",
        "\n",
        "Let's perform one training iteration. You can run the cell multiple times and see how the parameters are being updated and the loss is reducing. This code block is the core of everything to come: please make sure you go line-by-line through all the commands and discuss their purpose with the pod."
      ]
    },
    {
      "cell_type": "code",
      "metadata": {
        "execution": {},
        "id": "ushmboKngL-r"
      },
      "source": [
        "# Reset all gradients to zero\n",
        "sgd_optimizer.zero_grad()\n",
        "\n",
        "# Forward pass (Compute the output of the model on the features (inputs))\n",
        "prediction = wide_net(inputs)\n",
        "\n",
        "# Compute the loss\n",
        "loss = loss_function(prediction, targets)\n",
        "print(f'Loss: {loss.item()}')\n",
        "\n",
        "# Perform backpropagation to build the graph and compute the gradients\n",
        "loss.backward()\n",
        "\n",
        "# Optimizer takes a tiny step in the steepest direction (negative of gradient)\n",
        "# and \"updates\" the weights and biases of the network\n",
        "sgd_optimizer.step()"
      ],
      "execution_count": null,
      "outputs": []
    },
    {
      "cell_type": "markdown",
      "metadata": {
        "execution": {},
        "id": "PAukYyhAgL-r"
      },
      "source": [
        "### Coding Exercise 3.1: Training Loop\n",
        "Using everything we've learned so far, we ask you to complete the `train` function below."
      ]
    },
    {
      "cell_type": "code",
      "metadata": {
        "execution": {},
        "id": "bkzl1j62gL-r"
      },
      "source": [
        "def train(features, labels, model, loss_fun, optimizer, n_epochs):\n",
        "\n",
        "  \"\"\"Training function\n",
        "\n",
        "  Args:\n",
        "    features (torch.Tensor): features (input) with shape torch.Size([n_samples, 1])\n",
        "    labels (torch.Tensor): labels (targets) with shape torch.Size([n_samples, 1])\n",
        "    model (torch nn.Module): the neural network\n",
        "    loss_fun (function): loss function\n",
        "    optimizer(function): optimizer\n",
        "    n_epochs (int): number of training iterations\n",
        "\n",
        "  Returns:\n",
        "    list: record (evolution) of training losses\n",
        "  \"\"\"\n",
        "  loss_record = []  # keeping recods of loss\n",
        "\n",
        "  for i in range(n_epochs):\n",
        "    #################################################\n",
        "    ## Implement the missing parts of the training loop\n",
        "    # Complete the function and remove or comment the line below\n",
        "    raise NotImplementedError(\"Training loop `train`\")\n",
        "    #################################################\n",
        "    ...  # set gradients to 0\n",
        "    predictions = ...  # Compute model prediction (output)\n",
        "    loss = ...  # Compute the loss\n",
        "    ...  # Compute gradients (backward pass)\n",
        "    ...  # update parameters (optimizer takes a step)\n",
        "\n",
        "    loss_record.append(loss.item())\n",
        "  return loss_record\n",
        "\n",
        "#add event to airtable\n",
        "atform.add_event('Coding Exercise 3.1: Training Loop')\n",
        "\n",
        "\n",
        "set_seed(seed=2021)\n",
        "epochs = 1847 # Cauchy, Exercices d'analyse et de physique mathematique (1847)\n",
        "## Uncomment to run\n",
        "# losses = train(inputs, targets, wide_net, loss_function, sgd_optimizer, epochs)\n",
        "# ex3_plot(wide_net, inputs, targets, epochs, losses)"
      ],
      "execution_count": null,
      "outputs": []
    },
    {
      "cell_type": "markdown",
      "metadata": {
        "execution": {},
        "id": "MgCCs9B9gL-r"
      },
      "source": [
        "[*Click for solution*](https://github.com/NeuromatchAcademy/course-content-dl/tree/main//tutorials/W1D2_LinearDeepLearning/solutions/W1D2_Tutorial1_Solution_5204c053.py)\n",
        "\n",
        "*Example output:*\n",
        "\n",
        "<img alt='Solution hint' align='left' width=1696.0 height=544.0 src=https://raw.githubusercontent.com/NeuromatchAcademy/course-content-dl/main/tutorials/W1D2_LinearDeepLearning/static/W1D2_Tutorial1_Solution_5204c053_1.png>\n",
        "\n"
      ]
    },
    {
      "cell_type": "markdown",
      "metadata": {
        "execution": {},
        "id": "XtcgDmZ8gL-r"
      },
      "source": [
        "---\n",
        "# Summary"
      ]
    },
    {
      "cell_type": "markdown",
      "metadata": {
        "execution": {},
        "id": "Mhw_fhacgL-r"
      },
      "source": [
        "In this tutorial we covered one of the most basic concepts of deep learning; the computational graph and how a network learns via gradient descent and the backpropagation algorithm. We have seen all of these using PyTorch modules and we compared the analytical solutions with the ones provided directly by the PyTorch module."
      ]
    },
    {
      "cell_type": "code",
      "metadata": {
        "cellView": "form",
        "execution": {},
        "id": "nL4PIvplgL-r"
      },
      "source": [
        "# @title Video 6: Tutorial 1 Wrap-up\n",
        "from ipywidgets import widgets\n",
        "\n",
        "out2 = widgets.Output()\n",
        "with out2:\n",
        "  from IPython.display import IFrame\n",
        "  class BiliVideo(IFrame):\n",
        "    def __init__(self, id, page=1, width=400, height=300, **kwargs):\n",
        "      self.id=id\n",
        "      src = \"https://player.bilibili.com/player.html?bvid={0}&page={1}\".format(id, page)\n",
        "      super(BiliVideo, self).__init__(src, width, height, **kwargs)\n",
        "\n",
        "  video = BiliVideo(id=f\"BV1Pg41177VU\", width=854, height=480, fs=1)\n",
        "  print(\"Video available at https://www.bilibili.com/video/{0}\".format(video.id))\n",
        "  display(video)\n",
        "\n",
        "out1 = widgets.Output()\n",
        "with out1:\n",
        "  from IPython.display import YouTubeVideo\n",
        "  video = YouTubeVideo(id=f\"TvZURbcnXc4\", width=854, height=480, fs=1, rel=0)\n",
        "  print(\"Video available at https://youtube.com/watch?v=\" + video.id)\n",
        "  display(video)\n",
        "\n",
        "out = widgets.Tab([out1, out2])\n",
        "out.set_title(0, 'Youtube')\n",
        "out.set_title(1, 'Bilibili')\n",
        "\n",
        "#add event to airtable\n",
        "atform.add_event('Video 6: Tutorial 1 Wrap-up')\n",
        "\n",
        "display(out)"
      ],
      "execution_count": null,
      "outputs": []
    },
    {
      "cell_type": "code",
      "metadata": {
        "cellView": "form",
        "execution": {},
        "id": "gRw_8q6QgL-r"
      },
      "source": [
        "# @title Airtable Submission Link\n",
        "from IPython import display as IPyDisplay\n",
        "IPyDisplay.HTML(\n",
        "    f\"\"\"\n",
        "  <div>\n",
        "    <a href= \"{atform.url()}\" target=\"_blank\">\n",
        "    <img src=\"https://github.com/NeuromatchAcademy/course-content-dl/blob/main/tutorials/static/AirtableSubmissionButton.png?raw=1\"\n",
        "  alt=\"button link to Airtable\" style=\"width:410px\"></a>\n",
        "    </div>\"\"\" )"
      ],
      "execution_count": null,
      "outputs": []
    }
  ]
}