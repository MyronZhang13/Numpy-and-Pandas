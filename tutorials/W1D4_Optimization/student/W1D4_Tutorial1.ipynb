{
  "nbformat": 4,
  "nbformat_minor": 0,
  "metadata": {
    "accelerator": "GPU",
    "colab": {
      "name": "W1D4_Tutorial1",
      "provenance": [],
      "collapsed_sections": [],
      "toc_visible": true,
      "include_colab_link": true
    },
    "kernel": {
      "display_name": "Python 3",
      "language": "python",
      "name": "python3"
    },
    "kernelspec": {
      "display_name": "Python 3",
      "language": "python",
      "name": "python3"
    },
    "language_info": {
      "codemirror_mode": {
        "name": "ipython",
        "version": 3
      },
      "file_extension": ".py",
      "mimetype": "text/x-python",
      "name": "python",
      "nbconvert_exporter": "python",
      "pygments_lexer": "ipython3",
      "version": "3.7.11"
    },
    "toc-autonumbering": true,
    "varInspector": {
      "cols": {
        "lenName": 16,
        "lenType": 16,
        "lenVar": 40
      },
      "kernels_config": {
        "python": {
          "delete_cmd_postfix": "",
          "delete_cmd_prefix": "del ",
          "library": "var_list.py",
          "varRefreshCmd": "print(var_dic_list())"
        },
        "r": {
          "delete_cmd_postfix": ") ",
          "delete_cmd_prefix": "rm(",
          "library": "var_list.r",
          "varRefreshCmd": "cat(var_dic_list()) "
        }
      },
      "types_to_exclude": [
        "module",
        "function",
        "builtin_function_or_method",
        "instance",
        "_Feature"
      ],
      "window_display": false
    },
    "widgets": {
      "application/vnd.jupyter.widget-state+json": {
        "8e2bc2e92d914f45ae9733621df2a1f4": {
          "model_module": "@jupyter-widgets/controls",
          "model_name": "TabModel",
          "state": {
            "_view_name": "TabView",
            "_dom_classes": [],
            "_titles": {
              "0": "Youtube",
              "1": "Bilibili"
            },
            "_model_name": "TabModel",
            "_view_module": "@jupyter-widgets/controls",
            "selected_index": 0,
            "_model_module_version": "1.5.0",
            "_view_count": null,
            "_view_module_version": "1.5.0",
            "box_style": "",
            "layout": "IPY_MODEL_3d14f91c673348b8a43ea6feedb686b9",
            "_model_module": "@jupyter-widgets/controls",
            "children": [
              "IPY_MODEL_7c90518d1a55442b874a61806591b665",
              "IPY_MODEL_cabaa23a0c3340eb813bfbf9e24f1062"
            ]
          }
        },
        "3d14f91c673348b8a43ea6feedb686b9": {
          "model_module": "@jupyter-widgets/base",
          "model_name": "LayoutModel",
          "state": {
            "_view_name": "LayoutView",
            "grid_template_rows": null,
            "right": null,
            "justify_content": null,
            "_view_module": "@jupyter-widgets/base",
            "overflow": null,
            "_model_module_version": "1.2.0",
            "_view_count": null,
            "flex_flow": null,
            "width": null,
            "min_width": null,
            "border": null,
            "align_items": null,
            "bottom": null,
            "_model_module": "@jupyter-widgets/base",
            "top": null,
            "grid_column": null,
            "overflow_y": null,
            "overflow_x": null,
            "grid_auto_flow": null,
            "grid_area": null,
            "grid_template_columns": null,
            "flex": null,
            "_model_name": "LayoutModel",
            "justify_items": null,
            "grid_row": null,
            "max_height": null,
            "align_content": null,
            "visibility": null,
            "align_self": null,
            "height": null,
            "min_height": null,
            "padding": null,
            "grid_auto_rows": null,
            "grid_gap": null,
            "max_width": null,
            "order": null,
            "_view_module_version": "1.2.0",
            "grid_template_areas": null,
            "object_position": null,
            "object_fit": null,
            "grid_auto_columns": null,
            "margin": null,
            "display": null,
            "left": null
          }
        },
        "7c90518d1a55442b874a61806591b665": {
          "model_module": "@jupyter-widgets/output",
          "model_name": "OutputModel",
          "state": {
            "_view_name": "OutputView",
            "msg_id": "",
            "_dom_classes": [],
            "_model_name": "OutputModel",
            "outputs": [
              {
                "output_type": "stream",
                "metadata": {
                  "tags": []
                },
                "text": "Video available at https://youtube.com/watch?v=zm9oekdkJbQ\n",
                "stream": "stdout"
              },
              {
                "output_type": "display_data",
                "metadata": {
                  "tags": []
                },
                "text/html": "\n        <iframe\n            width=\"854\"\n            height=\"480\"\n            src=\"https://www.youtube.com/embed/zm9oekdkJbQ?fs=1&rel=0\"\n            frameborder=\"0\"\n            allowfullscreen\n        ></iframe>\n        ",
                "text/plain": "<IPython.lib.display.YouTubeVideo at 0x7f7fc7cf8050>",
                "image/jpeg": "/9j/4AAQSkZJRgABAQAAAQABAAD/2wCEABALDBoYFhsaGRoeHRofICclICIfICYnJyclLi0xMi0qMjI1P1BCNThLOS0vRWFGS1NWW1xbMkFlbWRYbFBZW1cBERISGRYZLxsbMFc9NTdXV1dXV1dXV1ddV1ddXVdXV19XV1dXV1dXV1dXV1dXV1dXV1dXV1ddV1dXV1dXV1dXY//AABEIAWgB4AMBIgACEQEDEQH/xAAbAAEAAQUBAAAAAAAAAAAAAAAABQECAwQGB//EAEUQAAIBAgMCCwQGCQQCAwEAAAABAgMRBBIhEzEFFyJBUVJTcZGS0gYyYdEVFjNygbEUIzRUYqGywfBCc4LhJEMHovE1/8QAGAEBAQEBAQAAAAAAAAAAAAAAAAECAwT/xAAhEQEBAAICAwEBAAMAAAAAAAAAAQIREjEDEyFBYRQiUf/aAAwDAQACEQMRAD8A8/AAAAAAAAAAAAAAAAAAAAAAAAAAAAAAAAAAAAAAAAAAAAAAAAAAAAAAAAAAAAAAAAAAAAAAAAAAAAAAAAAAAAAAAAAAAAAAAAAAAAAAAAAAAAAAAAAAAAAAAAAAAAAAAAAAAAAAAAAAAAAAAAAAAAAAAAAAAAAAAAB1/Fxje1w/nqegcXGN7XD+ep6AOQB1/Fxje1w/nqegcXGN7XD+ep6AOQB1/Fxje1w/nqegcXGN7XD+ep6AOQB1/Fxje1w/nqegcXGN7XD+ep6AOQB1/Fxje1w/nqegcXGN7XD+ep6AOQB1/Fxje1w/nqegcXGN7XD+ep6AOQB1/Fxje1w/nqegcXGN7XD+ep6AOQB1/Fxje1w/nqegcXGN7XD+ep6AOQB1/Fxje1w/nqegcXGN7XD+ep6AOQB1/Fxje1w/nqegcXGN7XD+ep6AOQB1/Fxje1w/nqegcXGN7XD+ep6AOQB1/Fxje1w/nqegcXGN7XD+ep6AOQB1/Fxje1w/nqegcXGN7XD+ep6AOQB1/Fxje1w/nqegcXGN7XD+ep6AOQB1/Fxje1w/nqegcXGN7XD+ep6AOQB1/Fxje1w/nqegcXGN7XD+ep6AOQB1/Fxje1w/nqegcXGN7XD+ep6AOQB1/Fxje1w/nqegcXGN7XD+ep6AOQB1/Fxje1w/nqegcXGN7XD+ep6AOQB1/Fxje1w/nqegcXGN7XD+ep6AOQB1/Fxje1w/nqegcXGN7XD+ep6AOQB1/Fxje1w/nqegcXGN7XD+ep6AOQB1/Fxje1w/nqegcXGN7XD+ep6AOQB1/Fxje1w/nqeg1OEvYnFYaCnOpRacsvJlNu9m+eK6AObBJrgOr1oeL+RcvZ+s/wDVT8ZfIm4ukUCYXs5W61Pxl8jDLgdq96+HVv438i7NI0ErR4DlUdoV6En0Kcr/AJGf6rV+vS8ZekbTSDBOfVav16XjL0lPqvX69Lxl8ibi6qEBNP2Zr9al4y+Ra/Zuv1qfjL5DcNIcEu/Z2t1qfjL5Fr4Ardan4y+Q3DT2oAFQAAAAAAAAAAAAAAAAAAAAAAAAAAAAAAAAAAAAAAAAAAAAAAAAAAAAAAAAAAAgfbD9mh/ur+mRPEF7W/s8P91f0yJSOTijNBGOKM0DDbn+H8bPPsotqCWtud/IhTe4Sd602+s/A00aiVROzutGjquBeG9rKNGouXaylf3mun4nKmSlLJKMlzNPwLUj0Oxa0KVaMoRmmrSV0Vc49K8Tm2xyRikjNKS6V4ljaYGCSMU0Z5IxTWhR6IADo5gMdatGnBznJRhFXcm7JL4lalSMYuUmlGKbbe5JatgXgtjJNJp3TV01zopUqRik5SUU2kru2r3LvAvAKXAqAAABZKrGLjFyScm1FN6tpXdvwQF4KFQAMdOtGTkoyTcXllZ7nZOz+NmvEyAAAAAAAAAAAAAAAAAAAAAAAAAAAAAAAAAAAAAAAAACD9rP2eH+6v6ZE4Qftb+zw/3V/TIl6WOViZYGGJlgc2nL8KUmq0tOctw2Ac1e9ierYOMs8n8Hr03tbwNStPZ65Nz5tEOTcwnaz6vuULxmmzHH2dqvkqUb2fSSWC4QjLTLJPu/uiTwDcm52ajuV97+JmZZbauOOttShhpUcPSpzd5K9/HcXZTZ4Rfu/iaimacxxMmG5zHtEZMK072AyyMM9zM0jDPcyo9DAB0YRPtT/wDzsV/tSM/C7/8ACxD5thU/oZuVaUZwlCaUoyTUk9zT0aIp8AqUFSnicRPDr/1OULOK/wBLko52vxAtpzrSnh6MKuzg8Lmk1GLldOCVr6Lfz3MU8TVVGUaklUlTxlOnmlCOsXOFm1a17S3omP0WO2VW7uqbglpazaf9jBPgyElJOUuVWjWe73ouLS3buSgNOMsRWq4uMcQ6UaVRRhlhBv7OEtW07q7fx+Jq0qlTEz4OrOrKDqU5ScYxha+VOVrq+u78iboYOMJ1pJu9aSlK9tGoqOn4RRqrgaMaeHhTq1IPDq0JrI21azTumtV8ANF8JTqzqtVatJQqShCMMNKonldm5PK73d9E1oZP0zEVauFgpbDa0Kk6iyXalFwWmZae89659xuVOC3nnOlXq0do804w2bi5WtflxdnpzWM/6DHa0quaTlTpypq7vdSy3b52+Sv5gREuEq9KniKbmqlWGIp0Kc5RS+0VOzko2Ttne617Gaph6sMThM9d1U5z96EU09nLdlSVvw/E3KnBNKarqWZqvOM5a2cZRjFRcWt1sifeW0uCmqlOpUxFarKm2458iWsXG1oxSe/fvAi48KVasJVo1KsZXls6Sw0502k2kpSUG23bVp6fgbixNbE19nCcsPGFGnUnyYublUvaPKTSSyu+m9mb6IytqliK1KnJuTpwyZbt3dm4uUb/AAa+FjLi+DVUqKrCrUo1VHI5U8rzRvezUk07Pc7X1YGvwEpKWLU2pS/SHdpWv+rhrYrKdaviK1OnVdGFHKm4xi5SnKKl/qTSik1zdJtYDARobTLKcnUm5yc3d5mkn+X+Ix4ngzNUdWnWqUakkozdPI1JLddSTV1ffvAwValeVanhlVUJKltKtWMFd65Uoxd0udveauJ4Qr0qeLpualVo7JwqZVrGo7LMt11Z7vgSFbgtSVNxq1YVaacY1U05tPepZk1K9lvXcW/Q0HSqU5TnKVWSlUqSazycWrc1ktNyVgMadeliqUZVtrCqp3i4RjllFJrLZXtvWtzX4Px1R1YRxFapTrSbUqU6SVNvXk05pa+Zv4dEvWwsZ1KdRt3p5rJbnmVnc1IcEvNBzxFapCEs0ITyWTW67UVJ2+L77gRseE6tZVKkatWm1OcacI4ac4chuPLeVt3a5mrGysZWxFWnSjKWG/8AHhWqcmLnebaUOUmlbLK+nQbMuCbSk6WIrUYTk5ShDI4uT3tZotxv8GukyYvg3aThUhVqUqsY5c8Mrbj0SUk09ddwEb9IV4wxSlUUpUsTSpxlkS5MtlfTp5TJPFYmUMRRjfkShVlJW35ctvzZoYTgltY2lVdTLUrRlGbazO0IctPddSj0W03WNyhwZlqwqzrVas4xlFOeRK0rX0ikubfvAh4cLVp0P0iE6rm1njQWGm6bjvUM2W92tM17X+BIOpXrYutSjWdKnClRkrQi5Xm531kn1VzeBlpcEZHaniK0KN77KOTKtb2UnHMl8Ezbp4SMa9Ssm81SMItcyUM1reZgRNHhCvUpYempxVapUqwlUy7o0nJOSjuzPKvhq+gzY6vWwlCUnV2zlOnCDlTV4uclFtqFs1r3SSvzGeXA9PZRpqU041JVITTWeE5OTbWlv9TVmt28r9FqVOcK1WrWz2eabjFxcdYuORJRaet0gNTC4ypGvTgp1q0J3UnUw8qeRpNqV8iVna1n0os4OxtR1KccRWqU60m81KdJKm3Z8mnNLW33n3EjhcFOErzxNarpZKezSXx5EVd95ihwS80HUxFarCEs0ITyWUlubaipO3xfiBIlQAAAAAAAAAAAAAAAAAAAAEF7Xfs8P91f0yJ05322rKGEjJ7lVX9MiUcymYsTj6dFcp680VvILEcL1ZaReRfDf4mg3fVu7+JNNbdTgcbGtQq30kpbv4eb+dzGsVlk23fQ5qE5Rd4tp/AyU8VJSTetjFwbmfx0OF4RUqtnyUr2dtCS4M4VoTWVVEp63UtL93ScvW4QTi1GLTfxdvA0CzAyz/Hb8MVlHJ+JE1MXchFip2UXJuK3Ju9jdp0HKKkmrM1pjbNLEfEk+Bp3jLvIaWGfSSvAccsZJ9IvQk5GKe5l8mYpvQyr0UAHRgAAAAAAAAAAAAAAAAAAAAAAAAAAAAAAAAAAAAAAAAAAAAAAAAAAAAAAAAAAA5D/AOS3/wCDS/34/wBMzryD9reBJ4/DwpU5xg41FO8r2soyVtO8DyAHZcXOJ7ej4S+RXi5xPb0fCXyA40HZcXOI7ej4S+Q4ucT29Hwl8gONB2XFzie3o+EvkOLnE9vR8JfIDjTcwTqS5MLtrWy6DpuLnE9vR8JfIz4L2BxNKrGar0tHqrS1XOtwHNPC4jqSJTgenOEZZ01rznV/Vqr16f8AP5Fr9ma3aU//ALfIz9aQsmYpvRk6/Zet2lP/AO3yLJey1az/AFlPd/F8iaNuuABtkAAAAAChUAaLqValSpGnKMI02k245m5NJ/grNf8ARc8XKFoSg6lRRzSVJKyW6/Ka323asrUwks8p0qmRytmTjmTa0TtzOxR4OaalGq1PJllKUU81m2nbSzV38NQMS4SvN5YSqQ2cJrIle0s127tdC03maGPjKWWEZy5CnmSVssk7c9+bcY48HOD/AFVVx/VxhrFS0jfXv1LlwbFRqQUmozpRp6b0kpK9+nlAU+lIZZOUJxcVF2eR3zOys02t/S1Y2qVTNG+WUfhK39m0aseD2nJ54pyio6U0o2Tb1V9b3sZsHhVSi4prWTlZLLFX5kuZaAa1PhPkReSc5bKNSWSMVo762cvg9NTPi8Q40ozhbWdNa9EpxT/kyyhweoK2Zv8AVRp7ui+v8zJVwualGne2V03e3Ukn/OwFn0gs1sk8ufJntHLmva2+/wCNjHPhFuVPJCWWVXJnaWVrW9tb829ozPB6Wzf+3abv4r2MUeD2si2n6uE88Y5Vfn5LfRqAXCNqUJuMpZk28qitE+hy/krm7CalFSWqauu5kf8ARSskpL3HB5oKWjbd1ro9fyN+jTyQjG98sUr9yAvAAAAAAAAAAA0cRiJOc4xnGnCmk5zkr6vclzLTn+JvGrWwjdTaU55JNKMrxzRkluuulXeoFkMbampaVndq9JxS0+87J/C5SXCccqlGFSScNpolpHnvdrX4Fq4Ms4yz3mnNtygmm5Wvpze6rF1Lg5Rhkzf+rZ7u/X+YFVwlDlNxnHLGMldLlKTtG1nzvSzsZqGJU24uMoSik3GVr2d7PRtcz8DBV4NjOLTk9acIblvg7p+PMZcJhVTu+Rd29ymobvzAxvhGN3yKmWM8jnaOVSvbpva9tbCONag24OT2lSKUcq0jJpe80uYxU8FOW0UpZYSrOWWyu1e615k7F74P1UlJXTqPlRzK05Znpferb+8DJHhCm4ylqlGmqmq3xd93g0bMJXSdmrq9nvRGzwDzYemlLLTXLnolKK1UbfejF9yfSSgAAAAAAAAAAAChUAUBUAUBUAUKgAAAAAAFCk/dfcy4tn7r7mBcAAAAAFCpQDTqcK0IycZVEpJ2as9/gW/TGG7VeD+Ry/CK/wDIrffl+Zr2OF8llbmMdj9MYftV4P5D6Yw/arwfyOOirtLnZa52teyu9F0/9FmeVOMdn9MYftV4P5FPpjDdqvB/I4mtjYxdnFcy0VrX3XepnoUHJXdovcktWvjc1cqmo6/6Yw3arwfyH0zhu1XhL5HLwwllq3fvsi6eFXS/jcnOrxjpvprDdqvB/IfTOG7VeD+Rx/6O9dVp0u1ijoTukkpN80WnZdJOeRxjslwxh3/7V4P5FfpWh2i8H8jjINptNNW6U0ZoSHOnGOv+k6HaLwY+kqPaLwZy8ZGRMc6cXSrhCj114Mr+nUuuvBnNqZXal504ujePpddeDLJcKUFvqLwZzVTEGnWq3HOkxd1TqKcVKLvFq6fwLpOybe5GrwV+zUfuR/Iz1/cn91/kdIwivrXgP3mPhL5D61YD95j4S+RAcF47DU8JspJXSkpwytubd9d2v9jno4RKKz0Zac6bX9jenO56egfWrAfvMfCXyH1qwH7zHwl8jgJ0afYyX/J7vAxToRekabV7b230/wDXgXinseifWrAfvMfCXyH1qwH7zHwl8jzn9F6PyMv6DZXSHFPa9B+tWA/eY+EvkPrVgP3mPhL5Hm8sPruKfo44r7HpP1qwH7zHwl8h9asB+8x8JfI82/Rh+jDiex6T9asB+8x8JfIfWrAfvMfCXyPNv0cfow4nsek/WrAfvMfCXyH1qwH7zHwl8jzb9GH6OOJ7HpP1rwH7zDwl8h9asB+8x8JfI4bAyeHVS0aU9pDLyne3+XNGeDy2V0+53JxPY9H+tWA/eY+EvkSeExUK1ONSlLNCW5rn5jyvEUOTCFqVo31ha7vb3nz7j0L2Tjbg+gvhL+pks01jltMAAjYAAAAAAAAAAAAAAAAWz919zLi2fuvuYFwAAAAAAUA47hCn+vqv+OX5ms4Ezi6N6s/vP8zWdA82U+us6QFafLf8Om//AD/EXU6kIO08zcrNNrTxHCeHcKrcbST1a1vr/jZiVeMopcppP8LGuoMPCXBSlNThNxT96Otm0t6JvCYrMr237/y/salLFQtaTWm4xTxiV8ml/wCEtrKYnUuadbHRiudu+ln+b5iPlWlLWz1X+p6eCMbp9LfdYg2ZYzlXduZtRfN3mrXxkHbSa11s7mKa+DNaVm/y/wAYG5DhipbLJqpTW6Djb+Zu0uEI1HBU4ZHucZc/xTIWMLXVn8ddH+BWysuU0k+S+eLNI6iEk3JRd7OzMiuiFwGLVOc815VFHTWyl8Sfwk41qcakdz/k1o14mbNNSsdzHI3XRKOgQR8kY3TJLYFHQCuj4MVsPSX8C/IzV/cn91/kY8CrUaa/hRkr+5P7r/I7zpyeapNTk0m3m5ubUvrYyUouLSy3/vctVVxlO1tZc/eWRdne2t+k76eK29LZNPTLztvV7y2y6P5mWpUu7vwTLL3+TNdoR+HPokZq1lubvZeJTDwvLp+K5vxMuNi4pJtsg0rCxUBFLCxUJAUsLFQBSwsVuAKWFjNh6LqTUE0m1fUtq03CTi96dtCcpvX6urrbHY9A9mP2Gl/y/qZwB3/sz+w0v+X9TM5uvh7SoAOb0gAAAAAAAAAAAAAAABbP3X3MuLZ+6+5gXAAAAAAAAhsR9pL7zMaimWYqp+tn95lkaupwvbpKjeBGq069Z9pKMfgr/JRJCfB9GTu6cG+4h+Aoyw06tGesJ1JOEv4uq+9Wa7mTm0GQ5n2kw7pVKeygoxa/08/SQcuS5O92nf5I6b2qjKdOnl3KTu77jm6sVmktW9H8PganSM0MS960f8jZpVnZuTX9yMlmSUudf5axuU5aN7k9H0ogySd9UWzjm3q/5l38OmnP0mVQ5IGi4rnumtxVbs29bpJ2X/4bc6bccye41m7T5SS5nz6dPxQ2gtLpRtNJunL+x0XAONUlTgklGcZW++tWu96+Bz8b5eS9ab0Xw6CQ4LxGStN9XLOK+FrSt8bXL3B1jiUcS+9927mKMw2x5CjgZABL4T7OH3UXV/cn91/kUw32cO5Fa/uT+6/yO86cnmNX35fef5lpdV9+Xe/zLJSSV3uPQ8N7VBZTqKW4vB03eDtZW6L3vzmxwpRnlUlHk87XN3kbRqOMrr8e4n6OMSpSUYqSa0cruOj5zGds+ybbx+/K52xM8N4SMNhGCS5DUmudq2/47zV4P4bjK18NSjZ2dorx3EtwvhdrUoxk3vbTWWKStvfieTyZ53yYzWu25hNVzk42dr/iSGB4LrTdnZU3ZuaatYy8I4anSpZLxcr3TTuyOpRqOLyKbit+W9l32PTx5YSZOetXVMZRjTqyjF5knozCXqlK6Vnd7viZadFOTgpxVWLWZNX0tey8TWWcxXHx3K/GWpwXVioy5LhJXUoyTj4mkbePx126UEs26dlyYfORquNrd2ncTDK3tryYTHoi7NNb1uZWbvre7e8pJ3KG9fduW/xW+lv7I772Z/YaX/L+pnAHoHs0/wDwqXdL+pmc+nbw9pQAHN6AAAAAAAAAAAAAAAAAtn7r7mXFs/dfcwLgAAAAAoVAHMY1/ran3n+ZhzGXG/bVPvP8zAzjWls4pt33NK/4bmXxqO2pYArBwvB1MNUjHfo/BnMtWcVZXa1fcdbKKaae5qzOWrR2fIupSjJx07wNVRsn8NX3mfDRy2b/ABL6MFqt7ld23bi6MWopvfe7uio3Z0lHK75r/wCIzyw0srk9GrWQptWholGXOnzm7H3rWc/iS1USrqVrabjXnS1cVyWtVfcv+jexdPK/jv7mReGxcalaeZt8p5bvctwkChVjOemt009efo/M2MLJqdGMtNZRbfRZ21NN4PZ1c0dYX16U76Gw88bpWu6kbfiy9DtqE04Qa0WVWMlzUw9RZI26EZNoYVnBh2hXOFTuG+zj3IrX+zn91/kW4X7OH3UXYj7Of3X+R3nTk4R4GN5PR3b3sjeEcJKGq+z0uzbdeeeaTuk+i5btZ7r3XPdJoXP8Z4xrcGYaM003aXda34FjNtTaTSUYp78sbGq5J3a3XNeLL8cvNP1gnGe0vF6ZecvjVqwUrSjZp305vgZo1LRcbR1ad2tV3Mo6by3adnonbQ7VxlrDwZGMpxs0nm00d3/0dvWw0Kzoznb9U79/+Oz/AAOHwtN01a+t+Y3o8I1oxajK7s0k7c/MZyx26zyTanCVejKvKUKianJu9nZXNrguvsozqJuO+08/JypvWSta/wCRDRm1QnSyU5Z5J3avONk/d6N+8vhGTpxhN8mLvl5r66vp3nO8svjf+mH1uw4Se1dRRcqdsqW526V0L4FuIxbm3kiqae+WmeX48xhatbcG72vzaLuLPFh8rF82X2KKKSSirfMGzQwE581l0y0Nx8Ecmyly10rQt8mM+MzxZ5fdIoF9Sm4O0lZlh0l252a+UO/9mV/4NL/l/UzgDv8A2Z/YaX/L+pmM+nXw9pUAHN6QAAAAAAAAAAAAAAAAtn7r7mXFs/dfcwLgAAAAAAAcpjpfrqn33+ZguZcf9vV+/L8zAjkq+4Lbi4F5BcKUFGrNq3KSla3Pu/sTeYj+E4Lkz59Y96YVExnFNTle9rfDpuReJxcppuDaW9/2JKcFKm8197S1s0adbg+cabjpbfpq2uYsE9was1Ncm7yruuiUw8pSit0bXTIbgPNClFXtZ2aa1syVo5VKW/fuuYqtPFxu5Xd1/mpzOLhHbzTWXo7+n8TrsTSk80lGyt0cxEVsFGbzSTUlu6H3mpdDHQi1SbbUuQm9Ofdf8UKrcM7T35Mtum9jYq8zdoyyO6et1ey/nbxNapJxi5prSmrLod+gUjpsPJqEb77K5l2hr0bqEU9+VX77al9yIy7QbQw3KXGh1uCf6mn91F9f7Of3X+Ri4P8AsKf3UZcR9nP7r/I6xl5dOE41JuM2rye9X5zHs5LWNSV/jqjZrLlS11zPQssrb9eY68cf+PJzy32xWqNWlU0+CsXxSSstxckud2CtzuxZJj0lty7UM/6TLYqk9Utzb5uYwFUMsZe/xJlZ0oCqdnu0vuZRmkGgVbvqygAtdeVOala8La6X1L279BQmtz6svG7ie4M4RpTgtOWr79dGv81RlxPCUN8mnbTk+8rc1zmadJRnmjpz25i9vw5ktyOHp+/x6f8AI+f1s47F7VrRJLd0/iawB3xxmM1HmyyuV3Q7/wBmf2Gl/wAv6mcAd/7M/sNL/l/UzOfTp4e0qADm9IAAAAAAAAAAAAAAAAWz919zLi2fuvuYFwAAAAAAAOSx329T78vzMBlx/wBvV+/L8zXuc9KvFiiZW40KGLEwzQkn3/itUZrgggG2nN2TW9LeXV68YrM03PLuva75jJiabVaVnzaIxpytBPlPm0v3k202eC6rzcpcp2bS116CXk3LdF6/2IXCSlCpdJPvdkSNOtKLusv8+caGxVhNxd2rc/xIpu0mpJO6tboZt18TPRXVufQ1KnvJ38RoabvyOlXS+Kt/ngUw+b34tXVO1rf6r/Mutqlv1dua2lzJgqbck098YprnWt7kExF2SV9UtWLltxc3pF1yjZa2UZUdjwd9hS+4jLX+zn91/kYeDf2el9xGbEfZz+6/yNo8yqrly+8/zLZKzszbo4OnVlUUqmzqJvI37u/nL8XQhToxTnGda+ri7q3QdN3lr8eKz9aAsAbZAAAKWKtAAACgACAACgAAB3/sx+w0v+X9TOBbXQd97M/sNL/l/Uznn07+HtKgA5vQAAAAAAAAAAAAAAAAFs/dfcy4tn7r7mBcAAAAAFCpQDkMf9vV+/L8zASmL4Jryq1JRimnJtcpbrmL6GxHUXmiZVog3voev1F5kV+h8R1F5kBoXFze+h8R1F5kPobEdReZE0ILGpbWL53B/wAn/wBmpGm8kVFp7762OjrcBV5W5CunpyomovZnFZUlBJrplHX+ZiytSoulB52szunq0b9uhu/eZ6Xs3iFLlU019+PzNr6Cr6fq42XxiakqbRdV2vf4b2YZq8luuS2I4AxMotKC3daJZ9AYptNwV1/FH8RZRBS5ue+bfzP4Gbg6PKm9dLJ+C0JCXs3irNKmtYv/AFx3u3xNjA+z+IhGSdNLlNrlxd10kkq7a6BI/QtfqLzIp9C4jqLzI0yj7i5vvgTEdReaI+hMR1F5ogdDwb+z0vuIzV/cn91/kWYKm4UacZaSUUn3mSqrxklvaZtHk0uEKcpNrc22rmN8JQ6GT1H2Qx8YRjnotR3XadufqmSj7KcIU5wnCVBShJyjez1d735Ou9m+VcvVi56PCEG7WaM0sRHLmV2r2Z0UuAuFJTc3LDOTd3yV8Ph8EYV7JYzJNNUM8p5rp2S0d0kl/lhM6l8UQ2Gmqik04xy80pJN93SYFj480WdBg/YytGMlUjSm21Z5tyXRoUx3sZiKjWzjRho72drtv4IvJPX/ABG04bSOZOKT3JySfhYtowc02sq1atKVnpz9x0/CnAWJr4WFCOWDjk5WfqqxCfUTGduvM/mc8M8r3NNZeOIqriVFtOLdnvW7xNnD0Z1EmoZU1dZmldd2/wDkbsfYbFq/62Mrpqzk7aoksJ7P42nLM1S2mXK5xqNNrTenFq+nNY645T9Z9UREME5bpRb6Fd/2E+D6i6H4r80T74Dxby8tLK7r3f57rmdcH45LSUJd7hH8os3csF9WLjnGop5HSkpWvq42tzu97WNmrgK0Y5sl+hJ6vS+l7X0Jar7OY6c7y2DhZpwzy52m3e178lfDTcbdTgjHZVGLg7WtnmrK0VFboJvRLnJyxPVHOYbB1akFNQsnuzPXX4K5bVo1YzySpOLS1ldKNr72/wAe86PDcDY+EFHNBO6blCpbM7Japxe9JXsY8VwDjqsnn2Lg98c7vfTW6jo9FzW+BOWP6euNeODVJfrKDcWvhmfTv3cx0vs5KLwdNw91ueW/RndiGq8CY209ns1mk5JSqXjFve1yb8269vgTnAGBnhsHSo1LZoJp23b2c8pN7jpJpIgAy0AAAAAAAAAAAAAAAAFs/dfcy4tn7r7mBcAAAAAFCoAAAAAAAAAAAAUKgCgKgCgKgCgKgCgKgChUAAAABQqAAAAoCoAoCoAFCpZWTcJWV3Z6AXA0dnVW5NfHMtfi+4uy1td976axtzf9k21x/rdKGjCnVimkm9Ek3JJ77vnfTYrlrfHfzOPT8tBs4/1vAxYdNR5Ss7/AylZAAAAAAAAAAAAAAAAAAALZ+6+5lxbP3X3MC4EftpdZjbS6zAkAR+2l1mNtLrMCQBoKtLrMbaXSwN8GhtpdZlNtLrMCQBH7aXWY20uswJAGgq0usym2l1mBIAj9tLrMbaXWYEgCP20usxtpdZgSAI/bS6zG2l1mBIAj9tLrMbaXWYEgCP20usxtpdZgSAI/bS6zG2l1mBIAj9tLrMbaXWYEgCP20usxtpdZgSAI/bS6zMGK4QdNK8tXuzOyS01b6NV4gS4Oa4S4RxNKF45qjektnHLZSekk5N3aSd18b6EnTxFRrlOzu9zurc2tugCSBH7aXWY20uswJAEftpdZjbS6zAkAR+2l1mNtLrMDfBobaXWY20uswJAoaG2l1mNtLrMCQBH7aXWY20+swJAEftp9ZjbS6zAkAR+2l1mNtLrMCQBH7afWY20uswJAEftp9ZjbT6zAkAR+2n1mNtLrMCQBH7afWY20+swJAEftpdZjbS6zAkC2fuvuZHQxmZtRqJtb0pJtd5dOtKz5T3AWkNiqeLjVqulfLKd42cHqqcErqW6F1K9teg6HZR6Bsl0Ac7BY6U5ptwg5aNbJuK/WaLTVaU96vqHTxkr5no7LJyElyabvda3zbRbzotkugbJdAHPTo4qrhq9Oo5KcppQknCLy3V7Zd1lfe2aawGOc5SlN5pK14ySUctOrFNLmbezb+Mvgdbsl0DZLoA5eFDGRc5JTblazcqeZXVBN21jfk1NLfmYq1bGzToyzbSVGSyxUFFPZS1ct6lntre2463ZR6Bs10Ac8njs1O63Xz22bi9ZblvslltrfXU2MJSrzw6VWc6dVTu5LJdxT6ErJPoJnZLoGyXQBz/C+FrTqScI1JXppUnCrkVOpd8qSurr3en3Wra64Zfpk3K0qmWNRXsqcb5asfc5/dUr5t+n49Nsl0DZLoA5vY41RiozlC0WrJU3rlm73aeubIu5v8LnHGRnyVLLerJpOllbfuLXVa866FodFsl0DZLoA5h0cbLJmc3rZpumlba05JytbXLm3dHx1vUcfLRycVfV2o3TyTuo6NZM2ztflb7nSbJdA2S6ANSjmyRz+9lWbvtr/ADLzY2S6Bsl0Aa4NjZLoGyXQBrg2NkugbJdAGuDY2S6Bsl0Aa4NjZLoGyXQBrg2NkugbJdAGuRXCeLjCpBZZTU5KnK0MyjqpXd9LWv3E7sl0Fk8NCTTcb2TW92s9+nOBCWyyio/rJO/6uc1KVN2drW3LlO7fN+BJ0oZYRje+WKV+mysbUaEFuil3FdkugDXBsbJdA2S6ANcGxsl0DZLoA1wbGyXQNkugDXBsbJdA2S6ANcGxsl0DZLoA1zBjqLqUakE3GUotJp2afM/E39kugbKPQBykMNj7ud2pWzpZou0qko54K+nJjF2vpyjLXp4+cZxb0dKysoJOWTpTvGWbo0sdNso9A2S6AIHE4fEVcE4ylJV9XyZRim09Emv9PRz7r85I7J7Zz2ksrjbJplTvfN03N3ZLoGyXQBy1DC4qmr04VIvK1Nyqxlmk5q0oqTklaObo32Nrg+riXWUKr0jTjOo7R95rLs9Fbes+nT0E/so9A2S6AILg/DYiNbEOrLSpGOWUZtpSvL3U1pZOPhzl+PwEp4aNPNOpUi48rO4SfKWZvK1zXJrZroGyj0Ac1Up4z3I54whPRxdO8oKssqTertTve++2ty+ksdKSU21HOs7tS3ZZ3Ubf6L7NK/K1Z0WzXQNmugDmYU8a3GDTVNRh/qhvi6bumtdf1l733ElOhP8AS4VE5OnspxkrrKpXhl06XytfgSmzXQNmugDXBsbNdA2a6ANKnStOc3a8rJW5orcvFt/iXz3PuNrZLoLZ01Z6czAygAAAAAAAAAAAAAAAAAAAAAAAAAAAAAAAAAAAAAAAAAAAAAAAAAAAAAAAAAAAAAAAAAAAAAAAAAAAABbPc+5lxbPc+5gXA804wsZ2eH8s/UOMLGdnh/LP1Aelg804wsZ2eH8s/UOMLGdnh/LP1Aelg804wsZ2eH8s/UOMLGdnh/LP1Aelg804wsZ2eH8s/UOMLGdnh/LP1Aelg804wsZ2eH8s/UOMLGdnh/LP1Aelg804wsZ2eH8s/UOMLGdnh/LP1Aelg804wsZ2eH8s/UOMLGdnh/LP1Aelg804wsZ2eH8s/UOMLGdnh/LP1Aelg804wsZ2eH8s/UOMLGdnh/LP1Aelg804wsZ2eH8s/UOMLGdnh/LP1Aelg804wsZ2eH8s/UOMLGdnh/LP1Aelg804wsZ2eH8s/UOMLGdnh/LP1Aelg804wsZ2eH8s/UOMLGdnh/LP1Aelg804wsZ2eH8s/UOMLGdnh/LP1Aelg804wsZ2eH8s/UOMLGdnh/LP1Aelg804wsZ2eH8s/UOMLGdnh/LP1Aelg804wsZ2eH8s/UOMLGdnh/LP1Aelg804wsZ2eH8s/UOMLGdnh/LP1Aelg804wsZ2eH8s/UOMLGdnh/LP1Aelg804wsZ2eH8s/UOMLGdnh/LP1Aelg804wsZ2eH8s/UOMLGdnh/LP1Aelg804wsZ2eH8s/UOMLGdnh/LP1Aelg804wsZ2eH8s/UOMLGdnh/LP1Aelg804wsZ2eH8s/UOMLGdnh/LP1Aelg804wsZ2eH8s/UOMLGdnh/LP1Aelg804wsZ2eH8s/UOMLGdnh/LP1Aelg804wsZ2eH8s/UOMLGdnh/LP1Aelg804wsZ2eH8s/UOMLGdnh/LP1Aelg804wsZ2eH8s/UOMLGdnh/LP1Aells9z7mebcYWM7PD+WfqD/wDkHGNfZ4fyz9QHJgAAAAAAAAAAAAAAAAAAAAAAAAAAAAAAAAAAAAAAAAAAAAAAAAAAAAAAAAAAAAAAAAAAAAAAAAAAAAAAAAAAAAAAAAAAAAAAAAAAAAAAAAAAAAAAAAAAAAAAAAAAAAAAAAAAAAAAAAAAAAAAAAAAAAAAAAAAAAAAAAAAAAAAAAAAAAAAAAAAAAAAAAAAAAAAAAAAAAAAAAAAAAAAAAAAAAAAAAAAAAAAAAAAAAAAAAAAAAAAA//Z\n"
              }
            ],
            "_view_module": "@jupyter-widgets/output",
            "_model_module_version": "1.0.0",
            "_view_count": null,
            "_view_module_version": "1.0.0",
            "layout": "IPY_MODEL_ea2a019c6bcc4287a7b80402a92280c6",
            "_model_module": "@jupyter-widgets/output"
          }
        },
        "cabaa23a0c3340eb813bfbf9e24f1062": {
          "model_module": "@jupyter-widgets/output",
          "model_name": "OutputModel",
          "state": {
            "_view_name": "OutputView",
            "msg_id": "",
            "_dom_classes": [],
            "_model_name": "OutputModel",
            "outputs": [
              {
                "output_type": "stream",
                "metadata": {
                  "tags": []
                },
                "text": "Video available at https://www.bilibili.com/video/BV1VB4y1K7Vr\n",
                "stream": "stdout"
              },
              {
                "output_type": "display_data",
                "metadata": {
                  "tags": []
                },
                "text/html": "\n        <iframe\n            width=\"854\"\n            height=\"480\"\n            src=\"https://player.bilibili.com/player.html?bvid=BV1VB4y1K7Vr&page=1?fs=1\"\n            frameborder=\"0\"\n            allowfullscreen\n        ></iframe>\n        ",
                "text/plain": "<__main__.BiliVideo at 0x7f7fca3bbd10>"
              }
            ],
            "_view_module": "@jupyter-widgets/output",
            "_model_module_version": "1.0.0",
            "_view_count": null,
            "_view_module_version": "1.0.0",
            "layout": "IPY_MODEL_e9e0f94f2a2644d5ad39851235cc22f9",
            "_model_module": "@jupyter-widgets/output"
          }
        },
        "ea2a019c6bcc4287a7b80402a92280c6": {
          "model_module": "@jupyter-widgets/base",
          "model_name": "LayoutModel",
          "state": {
            "_view_name": "LayoutView",
            "grid_template_rows": null,
            "right": null,
            "justify_content": null,
            "_view_module": "@jupyter-widgets/base",
            "overflow": null,
            "_model_module_version": "1.2.0",
            "_view_count": null,
            "flex_flow": null,
            "width": null,
            "min_width": null,
            "border": null,
            "align_items": null,
            "bottom": null,
            "_model_module": "@jupyter-widgets/base",
            "top": null,
            "grid_column": null,
            "overflow_y": null,
            "overflow_x": null,
            "grid_auto_flow": null,
            "grid_area": null,
            "grid_template_columns": null,
            "flex": null,
            "_model_name": "LayoutModel",
            "justify_items": null,
            "grid_row": null,
            "max_height": null,
            "align_content": null,
            "visibility": null,
            "align_self": null,
            "height": null,
            "min_height": null,
            "padding": null,
            "grid_auto_rows": null,
            "grid_gap": null,
            "max_width": null,
            "order": null,
            "_view_module_version": "1.2.0",
            "grid_template_areas": null,
            "object_position": null,
            "object_fit": null,
            "grid_auto_columns": null,
            "margin": null,
            "display": null,
            "left": null
          }
        },
        "e9e0f94f2a2644d5ad39851235cc22f9": {
          "model_module": "@jupyter-widgets/base",
          "model_name": "LayoutModel",
          "state": {
            "_view_name": "LayoutView",
            "grid_template_rows": null,
            "right": null,
            "justify_content": null,
            "_view_module": "@jupyter-widgets/base",
            "overflow": null,
            "_model_module_version": "1.2.0",
            "_view_count": null,
            "flex_flow": null,
            "width": null,
            "min_width": null,
            "border": null,
            "align_items": null,
            "bottom": null,
            "_model_module": "@jupyter-widgets/base",
            "top": null,
            "grid_column": null,
            "overflow_y": null,
            "overflow_x": null,
            "grid_auto_flow": null,
            "grid_area": null,
            "grid_template_columns": null,
            "flex": null,
            "_model_name": "LayoutModel",
            "justify_items": null,
            "grid_row": null,
            "max_height": null,
            "align_content": null,
            "visibility": null,
            "align_self": null,
            "height": null,
            "min_height": null,
            "padding": null,
            "grid_auto_rows": null,
            "grid_gap": null,
            "max_width": null,
            "order": null,
            "_view_module_version": "1.2.0",
            "grid_template_areas": null,
            "object_position": null,
            "object_fit": null,
            "grid_auto_columns": null,
            "margin": null,
            "display": null,
            "left": null
          }
        }
      }
    }
  },
  "cells": [
    {
      "cell_type": "markdown",
      "metadata": {
        "id": "view-in-github",
        "colab_type": "text"
      },
      "source": [
        "<a href=\"https://colab.research.google.com/github/MyronZhang13/Numpy-and-Pandas/blob/main/tutorials/W1D4_Optimization/student/W1D4_Tutorial1.ipynb\" target=\"_parent\"><img src=\"https://colab.research.google.com/assets/colab-badge.svg\" alt=\"Open In Colab\"/></a>"
      ]
    },
    {
      "cell_type": "markdown",
      "metadata": {
        "execution": {},
        "id": "GSQPLfssw2vp"
      },
      "source": [
        "# Tutorial 1: Optimization techniques\n",
        "**Week 1, Day 4: Optimization**\n",
        "\n",
        "**By Neuromatch Academy**\n",
        "\n",
        "__Content creators:__ Jose Gallego-Posada, Ioannis Mitliagkas\n",
        "\n",
        "__Content reviewers:__ Piyush Chauhan, Vladimir Haltakov, Siwei Bai, Kelson Shilling-Scrivo\n",
        "\n",
        "__Content editors:__ Charles J Edelson, Gagana B, Spiros Chavlis\n",
        "\n",
        "__Production editors:__ Arush Tagade, Spiros Chavlis"
      ]
    },
    {
      "cell_type": "markdown",
      "metadata": {
        "execution": {},
        "id": "cfL0GuS4w2vr"
      },
      "source": [
        "**Our 2021 Sponsors, including Presenting Sponsor Facebook Reality Labs**\n",
        "\n",
        "<p align='center'><img src='https://github.com/NeuromatchAcademy/widgets/blob/master/sponsors.png?raw=True'/></p>"
      ]
    },
    {
      "cell_type": "markdown",
      "metadata": {
        "execution": {},
        "id": "Mx5l93Kjw2vs"
      },
      "source": [
        "---\n",
        "# Tutorial Objectives\n",
        "\n",
        "Objectives:\n",
        "*   Necessity and importance of optimization\n",
        "*   Introduction to commonly used optimization techniques\n",
        "*   Optimization in non-convex loss landscapes \n",
        "*   'Adaptive' hyperparameter tuning \n",
        "*   Ethical concerns\n",
        "\n"
      ]
    },
    {
      "cell_type": "code",
      "metadata": {
        "cellView": "form",
        "execution": {},
        "id": "bQlzqN4bw2vt",
        "outputId": "34ce9437-e328-457e-dd23-86a0a88a3cb3",
        "colab": {
          "base_uri": "https://localhost:8080/",
          "height": 500
        }
      },
      "source": [
        "# @title Tutorial slides\n",
        "\n",
        "# @markdown These are the slides for the videos in this tutorial\n",
        "from IPython.display import IFrame\n",
        "IFrame(src=f\"https://mfr.ca-1.osf.io/render?url=https://osf.io/ft2sz/?direct%26mode=render%26action=download%26mode=render\", width=854, height=480)"
      ],
      "execution_count": 1,
      "outputs": [
        {
          "output_type": "execute_result",
          "data": {
            "text/html": [
              "\n",
              "        <iframe\n",
              "            width=\"854\"\n",
              "            height=\"480\"\n",
              "            src=\"https://mfr.ca-1.osf.io/render?url=https://osf.io/ft2sz/?direct%26mode=render%26action=download%26mode=render\"\n",
              "            frameborder=\"0\"\n",
              "            allowfullscreen\n",
              "        ></iframe>\n",
              "        "
            ],
            "text/plain": [
              "<IPython.lib.display.IFrame at 0x7f80261291d0>"
            ]
          },
          "metadata": {
            "tags": []
          },
          "execution_count": 1
        }
      ]
    },
    {
      "cell_type": "markdown",
      "metadata": {
        "execution": {},
        "id": "wudeeatvw2vu"
      },
      "source": [
        "---\n",
        "# Setup"
      ]
    },
    {
      "cell_type": "code",
      "metadata": {
        "cellView": "form",
        "execution": {},
        "id": "mLS1RPZww2vu",
        "outputId": "ee60c25c-4a81-4d46-d087-3257a5e0712c",
        "colab": {
          "base_uri": "https://localhost:8080/"
        }
      },
      "source": [
        "# @title Install dependencies\n",
        "!pip install git+https://github.com/NeuromatchAcademy/evaltools --quiet\n",
        "from evaltools.airtable import AirtableForm\n",
        "\n",
        "# generate airtable form\n",
        "atform = AirtableForm('appn7VdPRseSoMXEG','W1D4_T1','https://portal.neuromatchacademy.org/api/redirect/to/9548a279-c9f9-4586-b89c-f0ceceba5c14')"
      ],
      "execution_count": 2,
      "outputs": [
        {
          "output_type": "stream",
          "text": [
            "  Building wheel for evaltools (setup.py) ... \u001b[?25l\u001b[?25hdone\n"
          ],
          "name": "stdout"
        }
      ]
    },
    {
      "cell_type": "code",
      "metadata": {
        "execution": {},
        "id": "Lv6wpy9Bw2vv"
      },
      "source": [
        "# Imports\n",
        "import time\n",
        "import copy\n",
        "import torch\n",
        "import torchvision\n",
        "\n",
        "import numpy as np\n",
        "import ipywidgets as widgets\n",
        "import matplotlib.pyplot as plt\n",
        "\n",
        "import torch.nn as nn\n",
        "import torch.optim as optim\n",
        "import torch.nn.functional as F\n",
        "import torchvision.datasets as datasets\n",
        "\n",
        "from tqdm.auto import tqdm"
      ],
      "execution_count": 3,
      "outputs": []
    },
    {
      "cell_type": "code",
      "metadata": {
        "cellView": "form",
        "execution": {},
        "id": "qda94UlFw2vw"
      },
      "source": [
        "# @title Figure settings\n",
        "import ipywidgets as widgets       # interactive display\n",
        "%config InlineBackend.figure_format = 'retina'\n",
        "plt.style.use(\"https://raw.githubusercontent.com/NeuromatchAcademy/content-creation/main/nma.mplstyle\")\n",
        "plt.rc('axes', unicode_minus=False)"
      ],
      "execution_count": 4,
      "outputs": []
    },
    {
      "cell_type": "code",
      "metadata": {
        "cellView": "form",
        "execution": {},
        "id": "PLfMiW7cw2vx"
      },
      "source": [
        "# @title Helper functions\n",
        "def print_params(model):\n",
        "  for name, param in model.named_parameters():\n",
        "    if param.requires_grad:\n",
        "      print(name, param.data)"
      ],
      "execution_count": 5,
      "outputs": []
    },
    {
      "cell_type": "code",
      "metadata": {
        "cellView": "form",
        "execution": {},
        "id": "AhT7Z3PHw2vy"
      },
      "source": [
        "# @title Set random seed\n",
        "\n",
        "# @markdown Executing `set_seed(seed=seed)` you are setting the seed\n",
        "\n",
        "# for DL its critical to set the random seed so that students can have a\n",
        "# baseline to compare their results to expected results.\n",
        "# Read more here: https://pytorch.org/docs/stable/notes/randomness.html\n",
        "\n",
        "# Call `set_seed` function in the exercises to ensure reproducibility.\n",
        "import random\n",
        "import torch\n",
        "\n",
        "def set_seed(seed=None, seed_torch=True):\n",
        "  if seed is None:\n",
        "    seed = np.random.choice(2 ** 32)\n",
        "  random.seed(seed)\n",
        "  np.random.seed(seed)\n",
        "  if seed_torch:\n",
        "    torch.manual_seed(seed)\n",
        "    torch.cuda.manual_seed_all(seed)\n",
        "    torch.cuda.manual_seed(seed)\n",
        "    torch.backends.cudnn.benchmark = False\n",
        "    torch.backends.cudnn.deterministic = True\n",
        "\n",
        "  print(f'Random seed {seed} has been set.')\n",
        "\n",
        "\n",
        "# In case that `DataLoader` is used\n",
        "def seed_worker(worker_id):\n",
        "  worker_seed = torch.initial_seed() % 2**32\n",
        "  np.random.seed(worker_seed)\n",
        "  random.seed(worker_seed)"
      ],
      "execution_count": 6,
      "outputs": []
    },
    {
      "cell_type": "code",
      "metadata": {
        "cellView": "form",
        "execution": {},
        "id": "lD0w72IOw2vy"
      },
      "source": [
        "# @title Set device (GPU or CPU). Execute `set_device()`\n",
        "# especially if torch modules used.\n",
        "\n",
        "# inform the user if the notebook uses GPU or CPU.\n",
        "\n",
        "def set_device():\n",
        "  device = \"cuda\" if torch.cuda.is_available() else \"cpu\"\n",
        "  if device != \"cuda\":\n",
        "    print(\"WARNING: For this notebook to perform best, \"\n",
        "        \"if possible, in the menu under `Runtime` -> \"\n",
        "        \"`Change runtime type.`  select `GPU` \")\n",
        "  else:\n",
        "    print(\"GPU is enabled in this notebook.\")\n",
        "\n",
        "  return device"
      ],
      "execution_count": 7,
      "outputs": []
    },
    {
      "cell_type": "code",
      "metadata": {
        "execution": {},
        "id": "l0hrH81jw2vy",
        "outputId": "d6c3fef5-6467-404d-dae6-eefb525ffa85",
        "colab": {
          "base_uri": "https://localhost:8080/"
        }
      },
      "source": [
        "SEED = 2021\n",
        "set_seed(seed=SEED)\n",
        "DEVICE = set_device()"
      ],
      "execution_count": 8,
      "outputs": [
        {
          "output_type": "stream",
          "text": [
            "Random seed 2021 has been set.\n",
            "GPU is enabled in this notebook.\n"
          ],
          "name": "stdout"
        }
      ]
    },
    {
      "cell_type": "markdown",
      "metadata": {
        "execution": {},
        "id": "Hsg0kx1dw2vz"
      },
      "source": [
        "---\n",
        "# Section 1. Introduction\n",
        "\n",
        "*Time estimate: ~15 mins*"
      ]
    },
    {
      "cell_type": "code",
      "metadata": {
        "cellView": "form",
        "execution": {},
        "id": "SEa8HjTJw2vz",
        "outputId": "d126f6d1-bbb8-4e59-fca5-155f15746267",
        "colab": {
          "base_uri": "https://localhost:8080/",
          "height": 579,
          "referenced_widgets": [
            "8e2bc2e92d914f45ae9733621df2a1f4",
            "3d14f91c673348b8a43ea6feedb686b9",
            "7c90518d1a55442b874a61806591b665",
            "cabaa23a0c3340eb813bfbf9e24f1062",
            "ea2a019c6bcc4287a7b80402a92280c6",
            "e9e0f94f2a2644d5ad39851235cc22f9"
          ]
        }
      },
      "source": [
        "# @title Video 1: Introduction\n",
        "from ipywidgets import widgets\n",
        "\n",
        "out2 = widgets.Output()\n",
        "with out2:\n",
        "  from IPython.display import IFrame\n",
        "  class BiliVideo(IFrame):\n",
        "    def __init__(self, id, page=1, width=400, height=300, **kwargs):\n",
        "      self.id=id\n",
        "      src = \"https://player.bilibili.com/player.html?bvid={0}&page={1}\".format(id, page)\n",
        "      super(BiliVideo, self).__init__(src, width, height, **kwargs)\n",
        "\n",
        "  video = BiliVideo(id=f\"BV1VB4y1K7Vr\", width=854, height=480, fs=1)\n",
        "  print(\"Video available at https://www.bilibili.com/video/{0}\".format(video.id))\n",
        "  display(video)\n",
        "\n",
        "out1 = widgets.Output()\n",
        "with out1:\n",
        "  from IPython.display import YouTubeVideo\n",
        "  video = YouTubeVideo(id=f\"zm9oekdkJbQ\", width=854, height=480, fs=1, rel=0)\n",
        "  print(\"Video available at https://youtube.com/watch?v=\" + video.id)\n",
        "  display(video)\n",
        "\n",
        "out = widgets.Tab([out1, out2])\n",
        "out.set_title(0, 'Youtube')\n",
        "out.set_title(1, 'Bilibili')\n",
        "\n",
        "# add event to airtable\n",
        "atform.add_event('Video 1: Introduction')\n",
        "\n",
        "display(out)"
      ],
      "execution_count": 9,
      "outputs": [
        {
          "output_type": "display_data",
          "data": {
            "application/vnd.jupyter.widget-view+json": {
              "model_id": "8e2bc2e92d914f45ae9733621df2a1f4",
              "version_minor": 0,
              "version_major": 2
            },
            "text/plain": [
              "Tab(children=(Output(), Output()), _titles={'0': 'Youtube', '1': 'Bilibili'})"
            ]
          },
          "metadata": {
            "tags": []
          }
        }
      ]
    },
    {
      "cell_type": "markdown",
      "metadata": {
        "execution": {},
        "id": "CK_IR_caw2v0"
      },
      "source": [
        "## Discuss: Unexpected consequences\n",
        "\n",
        "Can you think of examples from your own experience/life where poorly chosen incentives or objectives have lead to unexpected consequences?"
      ]
    },
    {
      "cell_type": "markdown",
      "metadata": {
        "execution": {},
        "id": "jVfcvRsNw2v0"
      },
      "source": [
        "[*Click for solution*](https://github.com/NeuromatchAcademy/course-content-dl/tree/main//tutorials/W1D4_Optimization/solutions/W1D4_Tutorial1_Solution_b8bbba6f.py)\n",
        "\n"
      ]
    },
    {
      "cell_type": "markdown",
      "metadata": {
        "execution": {},
        "id": "4qXFgW0Xw2v0"
      },
      "source": [
        "---\n",
        "# Section 2: Case study: successfully training an MLP for image classification\n",
        "\n",
        "*Time estimate: ~40 mins*"
      ]
    },
    {
      "cell_type": "markdown",
      "metadata": {
        "execution": {},
        "id": "HrdSgLdfw2v0"
      },
      "source": [
        "Many of the core ideas (and tricks) in modern optimization for deep learning can be illustrated in the simple setting of training an MLP to solve an image classification task. In this tutorial we will guide you through the key challenges that arise when optimizing high-dimensional, non-convex$^\\dagger$ problems. We will use these challenges to motivate and explain some commonly used solutions.\n",
        "\n",
        "**Disclaimer:** Some of the functions you will code in this tutorial are already implemented in Pytorch and many other libraries. For pedagogical reasons, we decided to bring these simple coding tasks into the spotlight and place a relatively higher emphasis in your understanding of the algorithms, rather than the use of a specific library. \n",
        "\n",
        "In 'day-to-day' research projects you will likely to rely on the community-vetted, optimized libraries rather than the 'manual implementations' you will write today. In Section 8 you will have a chance to 'put it all together' and use the full power of Pytorch to tune the parameters of an MLP to classify handwritten digits."
      ]
    },
    {
      "cell_type": "markdown",
      "metadata": {
        "execution": {},
        "id": "_KE-Se1Vw2v0"
      },
      "source": [
        "$^\\dagger$: A **convex** function has one, global minimum - a nice property, as an optimization algorithm won't get stuck in a local minimum that isn't a global one (e.g., $f(x)=x^2 + 2x + 1$). A **non-convex** function is wavy - has some 'valleys' (local minima) that aren't as deep as the overall deepest 'valley' (global minimum). Thus, the optimization algorithms can get stuck in the local minimum, and it can be hard to tell when this happens (e.g., $f(x) = x^4 + x^3 - 2x^2 - 2x$). See also **Section 5** for more details."
      ]
    },
    {
      "cell_type": "code",
      "metadata": {
        "cellView": "form",
        "execution": {},
        "id": "vIdyOQtiw2v1"
      },
      "source": [
        "# @title Video 2: Case Study - MLP Classification\n",
        "from ipywidgets import widgets\n",
        "\n",
        "out2 = widgets.Output()\n",
        "with out2:\n",
        "  from IPython.display import IFrame\n",
        "  class BiliVideo(IFrame):\n",
        "    def __init__(self, id, page=1, width=400, height=300, **kwargs):\n",
        "      self.id=id\n",
        "      src = \"https://player.bilibili.com/player.html?bvid={0}&page={1}\".format(id, page)\n",
        "      super(BiliVideo, self).__init__(src, width, height, **kwargs)\n",
        "\n",
        "  video = BiliVideo(id=f\"BV1GB4y1K7Ha\", width=854, height=480, fs=1)\n",
        "  print(\"Video available at https://www.bilibili.com/video/{0}\".format(video.id))\n",
        "  display(video)\n",
        "\n",
        "out1 = widgets.Output()\n",
        "with out1:\n",
        "  from IPython.display import YouTubeVideo\n",
        "  video = YouTubeVideo(id=f\"pJc2ENhYbqA\", width=854, height=480, fs=1, rel=0)\n",
        "  print(\"Video available at https://youtube.com/watch?v=\" + video.id)\n",
        "  display(video)\n",
        "\n",
        "out = widgets.Tab([out1, out2])\n",
        "out.set_title(0, 'Youtube')\n",
        "out.set_title(1, 'Bilibili')\n",
        "\n",
        "# add event to airtable\n",
        "atform.add_event('Video 2: Case Study - MLP Classification')\n",
        "\n",
        "display(out)"
      ],
      "execution_count": null,
      "outputs": []
    },
    {
      "cell_type": "markdown",
      "metadata": {
        "execution": {},
        "id": "RoGavLhDw2v1"
      },
      "source": [
        "## Section 2.1: Data\n",
        "\n",
        "We will use the MNIST dataset of handwritten digits. We load the data via the Pytorch `datasets` module, as you learned in W1D1.\n",
        "\n",
        "**Note:** Although we can download the MNIST dataset directly from `datasets` using the optional argument `download=True`, we are going to download them from NMA directory on OSF to ensure network reliability.\n"
      ]
    },
    {
      "cell_type": "code",
      "metadata": {
        "cellView": "form",
        "execution": {},
        "id": "zMYj4Y-9w2v1"
      },
      "source": [
        "# @title Download MNIST dataset\n",
        "import tarfile, requests, os\n",
        "\n",
        "fname = 'MNIST.tar.gz'\n",
        "name = 'MNIST'\n",
        "url = 'https://osf.io/y2fj6/download'\n",
        "\n",
        "if not os.path.exists(name):\n",
        "  print('\\nDownloading MNIST dataset...')\n",
        "  r = requests.get(url, allow_redirects=True)\n",
        "  with open(fname, 'wb') as fh:\n",
        "    fh.write(r.content)\n",
        "  print('\\nDownloading MNIST completed.')\n",
        "\n",
        "if not os.path.exists(name):\n",
        "  with tarfile.open(fname) as tar:\n",
        "    tar.extractall()\n",
        "    os.remove(fname)\n",
        "else:\n",
        "  print('MNIST dataset has been dowloaded.')"
      ],
      "execution_count": null,
      "outputs": []
    },
    {
      "cell_type": "code",
      "metadata": {
        "execution": {},
        "id": "Es-BrzaJw2v1"
      },
      "source": [
        "def load_mnist_data(change_tensors=False, download=False):\n",
        "  \"\"\"Load training and test examples for the MNIST digits dataset\n",
        "\n",
        "  Returns:\n",
        "    train_data (tensor): training input tensor of size (train_size x 784)\n",
        "    train_target (tensor): training 0-9 integer label tensor of size (train_size)\n",
        "    test_data (tensor): test input tensor of size (70k-train_size x 784)\n",
        "    test_target (tensor): training 0-9 integer label tensor of size (70k-train_size)\n",
        "\n",
        "  \"\"\"\n",
        "  # Load train and test sets\n",
        "  train_set = datasets.MNIST(root='.', train=True, download=download,\n",
        "                             transform=torchvision.transforms.ToTensor())\n",
        "  test_set = datasets.MNIST(root='.', train=False, download=download,\n",
        "                            transform=torchvision.transforms.ToTensor())\n",
        "\n",
        "  # Original data is in range [0, 255]. We normalize the data wrt its mean and std_dev.\n",
        "  ## Note that we only used *training set* information to compute mean and std\n",
        "  mean = train_set.data.float().mean()\n",
        "  std = train_set.data.float().std()\n",
        "\n",
        "  if change_tensors:\n",
        "    # Apply normalization directly to the tensors containing the dataset\n",
        "    train_set.data = (train_set.data.float() - mean) / std\n",
        "    test_set.data = (test_set.data.float() - mean) / std\n",
        "  else:\n",
        "    tform = torchvision.transforms.Compose([torchvision.transforms.ToTensor(),\n",
        "                                            torchvision.transforms.Normalize(mean=[mean / 255.], std=[std / 255.])\n",
        "                                            ])\n",
        "    train_set = datasets.MNIST(root='.', train=True, download=download,\n",
        "                               transform=tform)\n",
        "    test_set = datasets.MNIST(root='.', train=False, download=download,\n",
        "                              transform=tform)\n",
        "\n",
        "  return train_set, test_set\n",
        "\n",
        "\n",
        "train_set, test_set = load_mnist_data(change_tensors=True)"
      ],
      "execution_count": null,
      "outputs": []
    },
    {
      "cell_type": "markdown",
      "metadata": {
        "execution": {},
        "id": "qvBtTihew2v2"
      },
      "source": [
        "As we are just getting started, we will concentrate on a small subset of only 500 examples out of the 60.000 data points contained in the whole training set.\n",
        "\n"
      ]
    },
    {
      "cell_type": "code",
      "metadata": {
        "execution": {},
        "id": "1D_ryN78w2v2"
      },
      "source": [
        "# Sample a random subset of 500 indices\n",
        "subset_index = np.random.choice(len(train_set.data), 500)\n",
        "\n",
        "# We will use these symbols to represent the training data and labels, to stay\n",
        "# as close to the mathematical expressions as possible.\n",
        "X, y = train_set.data[subset_index, :], train_set.targets[subset_index]"
      ],
      "execution_count": null,
      "outputs": []
    },
    {
      "cell_type": "markdown",
      "metadata": {
        "execution": {},
        "id": "yfG9PVRdw2v2"
      },
      "source": [
        "Run the following cell to visualize the content of three examples in our training set. Note how the pre-processing we applied to the data changes the range of pixel values after normalization.\n"
      ]
    },
    {
      "cell_type": "code",
      "metadata": {
        "cellView": "form",
        "execution": {},
        "id": "zjSxSuXvw2v3"
      },
      "source": [
        "# @title Run me!\n",
        "num_figures = 3\n",
        "fig, axs = plt.subplots(1, num_figures, figsize=(5 * num_figures, 5))\n",
        "\n",
        "for sample_id, ax in enumerate(axs):\n",
        "  # Plot the pixel values for each image\n",
        "  ax.matshow(X[sample_id, :], cmap='gray_r')\n",
        "  # 'Write' the pixel value in the corresponding location\n",
        "  for (i, j), z in np.ndenumerate(X[sample_id, :]):\n",
        "    text = '{:.1f}'.format(z)\n",
        "    ax.text(j, i, text, ha='center',\n",
        "            va='center', fontsize=6, c='steelblue')\n",
        "\n",
        "  ax.set_title('Label: ' + str(y[sample_id].item()))\n",
        "  ax.axis('off')\n",
        "\n",
        "plt.show()"
      ],
      "execution_count": null,
      "outputs": []
    },
    {
      "cell_type": "markdown",
      "metadata": {
        "execution": {},
        "id": "bRFzzS17w2v3"
      },
      "source": [
        "## Section 2.2: Model\n",
        "\n",
        "As you will see next week, there are specific model architectures that are better suited to image-like data, such as Convolutional Neural Networks (CNNs). For simplicity, in this tutorial we will focus exclusively on Multi-Layer Perceptron (MLP) models as they allow us to highlight many important optimization challenges shared with more advanced neural network designs."
      ]
    },
    {
      "cell_type": "code",
      "metadata": {
        "execution": {},
        "id": "Lvw-wdUnw2v3"
      },
      "source": [
        "class MLP(nn.Module):\n",
        "  \"\"\" This class implements MLPs in Pytorch of an arbitrary number of hidden\n",
        "  layers of potentially different sizes. Since we concentrate on classification\n",
        "  tasks in this tutorial, we have a log_softmax layer at prediction time.\n",
        "  \"\"\"\n",
        "\n",
        "  def __init__(self, in_dim=784, out_dim=10, hidden_dims=[], use_bias=True):\n",
        "    \"\"\"Constructs a MultiLayerPerceptron\n",
        "\n",
        "    Args:\n",
        "        in_dim (int): dimensionality of input data\n",
        "        out_dim (int): number of classes\n",
        "        hidden_dims (list): contains the dimensions of the hidden layers, an empty\n",
        "            list corresponds to a linear model (in_dim, out_dim)\n",
        "    \"\"\"\n",
        "\n",
        "    super(MLP, self).__init__()\n",
        "\n",
        "    self.in_dim = in_dim\n",
        "    self.out_dim = out_dim\n",
        "\n",
        "    # If we have no hidden layer, just initialize a linear model (e.g. in logistic regression)\n",
        "    if len(hidden_dims) == 0:\n",
        "      layers = [nn.Linear(in_dim, out_dim, bias=use_bias)]\n",
        "    else:\n",
        "      # 'Actual' MLP with dimensions in_dim - num_hidden_layers*[hidden_dim] - out_dim\n",
        "      layers = [nn.Linear(in_dim, hidden_dims[0], bias=use_bias), nn.ReLU()]\n",
        "\n",
        "      # Loop until before the last layer\n",
        "      for i, hidden_dim in enumerate(hidden_dims[:-1]):\n",
        "        layers += [nn.Linear(hidden_dim, hidden_dims[i + 1], bias=use_bias),\n",
        "                   nn.ReLU()]\n",
        "\n",
        "      # Add final layer to the number of classes\n",
        "      layers += [nn.Linear(hidden_dims[-1], out_dim, bias=use_bias)]\n",
        "\n",
        "    self.main = nn.Sequential(*layers)\n",
        "\n",
        "  def forward(self, x):\n",
        "    # Flatten the images into 'vectors'\n",
        "    transformed_x = x.view(-1, self.in_dim)\n",
        "    hidden_output = self.main(transformed_x)\n",
        "    output = F.log_softmax(hidden_output, dim=1)\n",
        "    return output"
      ],
      "execution_count": null,
      "outputs": []
    },
    {
      "cell_type": "markdown",
      "metadata": {
        "execution": {},
        "id": "dC-R8CPbw2v3"
      },
      "source": [
        "Linear models constitute a very special kind of MLPs: they are equivalent to an MLP with *zero* hidden layers. This is simply an affine transformation, in other words a 'linear' map $W x$ with an 'offset' $b$; followed by a softmax function.\n",
        "\n",
        "$$f(x) = \\text{softmax}(W x + b)$$\n",
        "\n",
        "Here $x \\in \\mathbb{R}^{784}$, $W \\in \\mathbb{R}^{10 \\times 784}$ and $b \\in \\mathbb{R}^{10}$. Notice that the dimensions of the weight matrix are $10 \\times 784$ as the input tensors are flattened images, i.e., $28 \\times 28 = 784$-dimensional tensors and the output layer consists of $10$ nodes."
      ]
    },
    {
      "cell_type": "code",
      "metadata": {
        "execution": {},
        "id": "1yjxt0eJw2v3"
      },
      "source": [
        "# Empty hidden_dims means we take a model with zero hidden layers.\n",
        "model = MLP(in_dim=784, out_dim=10, hidden_dims=[])\n",
        "\n",
        "# We print the model structure with 784 inputs and 10 outputs\n",
        "print(model)"
      ],
      "execution_count": null,
      "outputs": []
    },
    {
      "cell_type": "markdown",
      "metadata": {
        "execution": {},
        "id": "zxXt7LaFw2v3"
      },
      "source": [
        "## Section 2.3: Loss\n",
        "\n",
        "While we care about the accuracy of the model, the 'discrete' nature of the 0-1 loss makes it challenging to optimize. In order to learn good parameters for this model, we will use the cross entropy loss (negative log-likelihood), which you saw in last lecture, as a surrogate objective to be minimized. \n",
        "\n",
        "This particular choice of model and optimization objective leads to a *convex* optimization problem with respect to the parameters $W$ and $b$. "
      ]
    },
    {
      "cell_type": "code",
      "metadata": {
        "execution": {},
        "id": "MBDkmGiyw2v4"
      },
      "source": [
        "loss_fn = F.nll_loss"
      ],
      "execution_count": null,
      "outputs": []
    },
    {
      "cell_type": "markdown",
      "metadata": {
        "execution": {},
        "id": "GNfdIe7Vw2v4"
      },
      "source": [
        "## Section 2.4: Interpretability"
      ]
    },
    {
      "cell_type": "markdown",
      "metadata": {
        "execution": {},
        "id": "k9zgTA3ww2v4"
      },
      "source": [
        "In last lecture, you saw that inspecting the weights of a model can provide insights on what 'concepts' the model has learned. Here we show the weights of a partially trained model. The weights corresponding to each class 'learn' to _fire_ when an input of the class is detected.\n"
      ]
    },
    {
      "cell_type": "code",
      "metadata": {
        "cellView": "form",
        "execution": {},
        "id": "epStlllWw2v4"
      },
      "source": [
        "#@markdown Run _this cell_ to train the model. If you are curious about how the training\n",
        "#@markdown takes place, double-click this cell to find out. At the end of this tutorial\n",
        "#@markdown you will have the opportunity to train a more complex model on your own.\n",
        "\n",
        "cell_verbose = False\n",
        "partial_trained_model = MLP(in_dim=784, out_dim=10, hidden_dims=[])\n",
        "\n",
        "if cell_verbose:\n",
        "  print('Init loss', loss_fn(partial_trained_model(X), y).item()) # This matches around np.log(10 = # of classes)\n",
        "\n",
        "optimizer = optim.Adam(partial_trained_model.parameters(), lr=7e-4)\n",
        "for _ in range(200):\n",
        "  loss = loss_fn(partial_trained_model(X), y)\n",
        "  optimizer.zero_grad()\n",
        "  loss.backward()\n",
        "  optimizer.step()\n",
        "\n",
        "if cell_verbose:\n",
        "  print('End loss', loss_fn(partial_trained_model(X), y).item()) # This should be less than 1e-2"
      ],
      "execution_count": null,
      "outputs": []
    },
    {
      "cell_type": "code",
      "metadata": {
        "execution": {},
        "id": "GcwUNfvyw2v4"
      },
      "source": [
        "# Show class filters of a trained model\n",
        "W = partial_trained_model.main[0].weight.data.numpy()\n",
        "\n",
        "fig, axs = plt.subplots(1, 10, figsize=(15, 4))\n",
        "for class_id in range(10):\n",
        "  axs[class_id].imshow(W[class_id, :].reshape(28, 28), cmap='gray_r')\n",
        "  axs[class_id].axis('off')\n",
        "  axs[class_id].set_title('Class ' + str(class_id) )\n",
        "\n",
        "plt.show()"
      ],
      "execution_count": null,
      "outputs": []
    },
    {
      "cell_type": "markdown",
      "metadata": {
        "execution": {},
        "id": "w8OK27XVw2v4"
      },
      "source": [
        "---\n",
        "# Section 3: High dimensional search\n",
        "\n",
        "*Time estimate: ~25 mins*"
      ]
    },
    {
      "cell_type": "markdown",
      "metadata": {
        "execution": {},
        "id": "BioSbsCTw2v4"
      },
      "source": [
        "We now have a model with its corresponding trainable parameters as well as an objective to optimize. Where do we go to next? How do we find a 'good' configuration of parameters?\n",
        "\n",
        "One idea is to choose a random direction and move only if the objective is reduced. However, this is inefficient in high dimensions and you will see how gradient descent (with a suitable step-size) can guarantee consistent improvement in terms of the objective function."
      ]
    },
    {
      "cell_type": "code",
      "metadata": {
        "cellView": "form",
        "execution": {},
        "id": "R3PODuytw2v4"
      },
      "source": [
        "# @title Video 3: Optimization of an Objective Function\n",
        "from ipywidgets import widgets\n",
        "\n",
        "out2 = widgets.Output()\n",
        "with out2:\n",
        "  from IPython.display import IFrame\n",
        "  class BiliVideo(IFrame):\n",
        "    def __init__(self, id, page=1, width=400, height=300, **kwargs):\n",
        "      self.id=id\n",
        "      src = \"https://player.bilibili.com/player.html?bvid={0}&page={1}\".format(id, page)\n",
        "      super(BiliVideo, self).__init__(src, width, height, **kwargs)\n",
        "\n",
        "  video = BiliVideo(id=f\"BV1aL411H7Ce\", width=854, height=480, fs=1)\n",
        "  print(\"Video available at https://www.bilibili.com/video/{0}\".format(video.id))\n",
        "  display(video)\n",
        "\n",
        "out1 = widgets.Output()\n",
        "with out1:\n",
        "  from IPython.display import YouTubeVideo\n",
        "  video = YouTubeVideo(id=f\"aSJTRdjRvvw\", width=854, height=480, fs=1, rel=0)\n",
        "  print(\"Video available at https://youtube.com/watch?v=\" + video.id)\n",
        "  display(video)\n",
        "\n",
        "out = widgets.Tab([out1, out2])\n",
        "out.set_title(0, 'Youtube')\n",
        "out.set_title(1, 'Bilibili')\n",
        "\n",
        "# add event to airtable\n",
        "atform.add_event('Video 3: Optimization of an Objective Function')\n",
        "\n",
        "display(out)"
      ],
      "execution_count": null,
      "outputs": []
    },
    {
      "cell_type": "markdown",
      "metadata": {
        "execution": {},
        "id": "t562Iq76w2v5"
      },
      "source": [
        "## Coding Exercise 3: Implement gradient descent\n",
        "\n",
        "In this exercise you will use PyTorch automatic differentiation capabilities to compute the gradient of the loss with respect to the parameters of the model. You will then use these gradients to implement the update performed by the gradient descent method.  "
      ]
    },
    {
      "cell_type": "code",
      "metadata": {
        "execution": {},
        "id": "rKBgmc7Nw2v5"
      },
      "source": [
        "def zero_grad(params):\n",
        "  \"\"\"Clear up gradients as Pytorch automatically accumulates gradients from\n",
        "  successive backward calls\n",
        "  \"\"\"\n",
        "  for par in params:\n",
        "    if not(par.grad is None):\n",
        "      par.grad.data.zero_()\n",
        "\n",
        "\n",
        "def random_update(model, noise_scale=0.1, normalized=False):\n",
        "  \"\"\" Performs a random update on the parameters of the model\n",
        "  \"\"\"\n",
        "  for par in model.parameters():\n",
        "    noise = torch.randn_like(par)\n",
        "    if normalized:\n",
        "      noise /= torch.norm(noise)\n",
        "    par.data +=  noise_scale * noise"
      ],
      "execution_count": null,
      "outputs": []
    },
    {
      "cell_type": "code",
      "metadata": {
        "execution": {},
        "id": "4whKbqjgw2v5"
      },
      "source": [
        "def gradient_update(loss, params, lr=1e-3):\n",
        "  \"\"\"Perform a gradient descent update on a given loss over a collection of parameters\n",
        "\n",
        "  Args:\n",
        "    loss (tensor): A scalar tensor containing the loss whose gradient will be computed\n",
        "    params (iterable): Collection of parameters with respect to which we compute gradients\n",
        "    lr (float): Scalar specifying the learning rate or step-size for the update\n",
        "  \"\"\"\n",
        "  # Clear up gradients as Pytorch automatically accumulates gradients from\n",
        "  # successive backward calls\n",
        "  zero_grad(params)\n",
        "\n",
        "  # Compute gradients on given objective\n",
        "  loss.backward()\n",
        "\n",
        "  with torch.no_grad():\n",
        "    for par in params:\n",
        "      #################################################\n",
        "      ## TODO for students: update the value of the parameter ##\n",
        "      raise NotImplementedError(\"Student exercise: implement gradient update\")\n",
        "      #################################################\n",
        "      # Here we work with the 'data' attribute of the parameter rather than the\n",
        "      # parameter itself.\n",
        "      par.data -= ...\n",
        "\n",
        "\n",
        "# add event to airtable\n",
        "atform.add_event('Coding Exercise 3: Implement gradient descent')\n",
        "\n",
        "\n",
        "set_seed(seed=SEED)\n",
        "model1 = MLP(in_dim=784, out_dim=10, hidden_dims=[])\n",
        "print('\\n The model1 parameters before the update are: \\n')\n",
        "print_params(model1)\n",
        "loss = loss_fn(model1(X), y)\n",
        "\n",
        "## Uncomment below to test your function\n",
        "# gradient_update(loss, list(model1.parameters()), lr=1e-1)\n",
        "# print('\\n The model1 parameters after the update are: \\n')\n",
        "# print_params(model1)"
      ],
      "execution_count": null,
      "outputs": []
    },
    {
      "cell_type": "markdown",
      "metadata": {
        "execution": {},
        "id": "0JMztd2xw2v5"
      },
      "source": [
        "[*Click for solution*](https://github.com/NeuromatchAcademy/course-content-dl/tree/main//tutorials/W1D4_Optimization/solutions/W1D4_Tutorial1_Solution_1c2b3d1a.py)\n",
        "\n"
      ]
    },
    {
      "cell_type": "markdown",
      "metadata": {
        "execution": {},
        "id": "Y5TeP5Flw2v5"
      },
      "source": [
        "```\n",
        " The model1 parameters after the update are: \n",
        "\n",
        "main.0.weight tensor([[-0.0263,  0.0010,  0.0174,  ...,  0.0298,  0.0278, -0.0220],\n",
        "        [-0.0047, -0.0302, -0.0093,  ..., -0.0077,  0.0248, -0.0240],\n",
        "        [ 0.0234, -0.0237,  0.0335,  ...,  0.0117,  0.0263, -0.0187],\n",
        "        ...,\n",
        "        [-0.0006,  0.0156,  0.0110,  ...,  0.0143, -0.0302, -0.0145],\n",
        "        [ 0.0164,  0.0286,  0.0238,  ..., -0.0127, -0.0191,  0.0188],\n",
        "        [ 0.0206, -0.0354, -0.0184,  ..., -0.0272,  0.0098,  0.0002]])\n",
        "main.0.bias tensor([-0.0292, -0.0018,  0.0115, -0.0370,  0.0054,  0.0155,  0.0317,  0.0246,\n",
        "         0.0198, -0.0061])\n",
        "```"
      ]
    },
    {
      "cell_type": "markdown",
      "metadata": {
        "execution": {},
        "id": "ZgtRoAwuw2v5"
      },
      "source": [
        "## Comparing updates\n",
        "\n",
        "These plots compare the effectiveness of updating random directions for the problem of optimizing the parameters of a high-dimensional linear model. We contrast the behavior at initialization and during an intermediate stage of training by showing the histograms of change in loss over 100 different random directions vs the changed in loss induced by the gradient descent update\n",
        "\n",
        "**Remember:** since we are trying to minimize, here negative is better!\n"
      ]
    },
    {
      "cell_type": "code",
      "metadata": {
        "cellView": "form",
        "execution": {},
        "id": "_CdT-odAw2v5"
      },
      "source": [
        "# @markdown _Run this cell_ to visualize the results\n",
        "fig, axs = plt.subplots(1, 2, figsize=(10, 4))\n",
        "\n",
        "for id, (model_name, my_model) in enumerate([('Initialization', model),\n",
        "                                              ('Partially trained', partial_trained_model)]):\n",
        "  # Compue the loss we will be comparing to\n",
        "  base_loss = loss_fn(my_model(X), y)\n",
        "\n",
        "  # Compute the improvement via gradient descent\n",
        "  dummy_model = copy.deepcopy(my_model)\n",
        "  loss1 = loss_fn(dummy_model(X), y)\n",
        "  gradient_update(loss1, list(dummy_model.parameters()), lr=1e-2)\n",
        "  gd_delta = loss_fn(dummy_model(X), y) - base_loss\n",
        "\n",
        "  deltas = []\n",
        "  for trial_id in range(100):\n",
        "    # Compute the improvement obtained with a random direction\n",
        "    dummy_model = copy.deepcopy(my_model)\n",
        "    random_update(dummy_model, noise_scale=1e-2)\n",
        "    deltas.append((loss_fn(dummy_model(X), y) - base_loss).item())\n",
        "\n",
        "  # Plot histogram for random direction and vertical line for gradient descent\n",
        "  axs[id].hist(deltas, label='Random Directions', bins=20)\n",
        "  axs[id].set_title(model_name)\n",
        "  axs[id].set_xlabel('Change in loss')\n",
        "  axs[id].set_ylabel('% samples')\n",
        "  axs[id].axvline(0, c='green', alpha=0.5)\n",
        "  axs[id].axvline(gd_delta.item(), linestyle='--', c='red', alpha=1,\n",
        "                  label='Gradient Descent')\n",
        "\n",
        "\n",
        "handles, labels = axs[id].get_legend_handles_labels()\n",
        "fig.legend(handles, labels, loc='upper center',\n",
        "           bbox_to_anchor=(0.5, 1.05),\n",
        "           fancybox=False, shadow=False, ncol=2)\n",
        "\n",
        "plt.show()"
      ],
      "execution_count": null,
      "outputs": []
    },
    {
      "cell_type": "markdown",
      "metadata": {
        "execution": {},
        "id": "kAk_mVSWw2v5"
      },
      "source": [
        "## Think! 3: Gradient descent vs. random search\n",
        "\n",
        "Compare the behavior of gradient descent and random search based on the histograms above. Is any of the two methods more reliable? How can you explain the changes between behavior of the methods at initialization vs during training?"
      ]
    },
    {
      "cell_type": "code",
      "metadata": {
        "cellView": "form",
        "execution": {},
        "id": "Rn0C6nuRw2v6"
      },
      "source": [
        "# @title Student Response\n",
        "from ipywidgets import widgets\n",
        "\n",
        "\n",
        "text=widgets.Textarea(\n",
        "   value='Type your answer here and click on `Submit!`',\n",
        "   placeholder='Type something',\n",
        "   description='',\n",
        "   disabled=False\n",
        ")\n",
        "\n",
        "button = widgets.Button(description=\"Submit!\")\n",
        "\n",
        "display(text,button)\n",
        "\n",
        "def on_button_clicked(b):\n",
        "   atform.add_answer('q1' , text.value)\n",
        "   print(\"Submission successful!\")\n",
        "\n",
        "\n",
        "button.on_click(on_button_clicked)"
      ],
      "execution_count": null,
      "outputs": []
    },
    {
      "cell_type": "markdown",
      "metadata": {
        "execution": {},
        "id": "8i0DaIaCw2v6"
      },
      "source": [
        "[*Click for solution*](https://github.com/NeuromatchAcademy/course-content-dl/tree/main//tutorials/W1D4_Optimization/solutions/W1D4_Tutorial1_Solution_2de57667.py)\n",
        "\n"
      ]
    },
    {
      "cell_type": "markdown",
      "metadata": {
        "execution": {},
        "id": "mpdYvACBw2v6"
      },
      "source": [
        "---\n",
        "# Section 4: Poor conditioning\n",
        "\n",
        "*Time estimate: ~30 mins*"
      ]
    },
    {
      "cell_type": "markdown",
      "metadata": {
        "execution": {},
        "id": "_kFV2QP6w2v6"
      },
      "source": [
        "Already in this 'simple' logistic regression problem, the issue of bad conditioning is haunting us. Not all parameters are created equal and the sensitivity of the network to changes on the parameters will have a big impact in the dynamics of the optimization.\n"
      ]
    },
    {
      "cell_type": "code",
      "metadata": {
        "cellView": "form",
        "execution": {},
        "id": "wpNeDN-Lw2v6"
      },
      "source": [
        "# @title Video 4: Momentum\n",
        "from ipywidgets import widgets\n",
        "\n",
        "out2 = widgets.Output()\n",
        "with out2:\n",
        "  from IPython.display import IFrame\n",
        "  class BiliVideo(IFrame):\n",
        "    def __init__(self, id, page=1, width=400, height=300, **kwargs):\n",
        "      self.id=id\n",
        "      src = \"https://player.bilibili.com/player.html?bvid={0}&page={1}\".format(id, page)\n",
        "      super(BiliVideo, self).__init__(src, width, height, **kwargs)\n",
        "\n",
        "  video = BiliVideo(id=f\"BV1NL411H71t\", width=854, height=480, fs=1)\n",
        "  print(\"Video available at https://www.bilibili.com/video/{0}\".format(video.id))\n",
        "  display(video)\n",
        "\n",
        "out1 = widgets.Output()\n",
        "with out1:\n",
        "  from IPython.display import YouTubeVideo\n",
        "  video = YouTubeVideo(id=f\"3ES5O58Y_2M\", width=854, height=480, fs=1, rel=0)\n",
        "  print(\"Video available at https://youtube.com/watch?v=\" + video.id)\n",
        "  display(video)\n",
        "\n",
        "out = widgets.Tab([out1, out2])\n",
        "out.set_title(0, 'Youtube')\n",
        "out.set_title(1, 'Bilibili')\n",
        "\n",
        "# add event to airtable\n",
        "atform.add_event('Video 4: Momentum')\n",
        "\n",
        "display(out)"
      ],
      "execution_count": null,
      "outputs": []
    },
    {
      "cell_type": "markdown",
      "metadata": {
        "execution": {},
        "id": "99ARmi1-w2v6"
      },
      "source": [
        "We illustrate this issue in a 2-dimensional setting. We freeze all but two parameters of the network: one of them is an element of the weight matrix (filter) for class 0, while the other is the bias for class 7. This results in an optimization with two decision variables.\n",
        "\n",
        "How much difference is there in the behavior of these two parameters under gradient descent? What is the effect of momentum in bridging that gap?\n"
      ]
    },
    {
      "cell_type": "code",
      "metadata": {
        "cellView": "form",
        "execution": {},
        "id": "YrSk0JAGw2v6"
      },
      "source": [
        "# @markdown _Run this cell_ to setup some helper functions.\n",
        "\n",
        "def loss_2d(model, u, v, mask_idx=(0, 378), bias_id=7):\n",
        "  \"\"\"Defines a 2-dim function by freezing all but two parameters of a linear\n",
        "  model.\n",
        "\n",
        "  Args:\n",
        "    model (torch module): a pytorch 0-hidden layer (linear) model\n",
        "    u (scalar): first free parameter\n",
        "    v (scalar): second free parameter\n",
        "    mask_idx (tuple): selects parameter in weight matrix replaced by u\n",
        "    bias_idx (int): selects parameter in bias vector replaced by v\n",
        "\n",
        "  Returns:\n",
        "    scalar: loss of the 'new' model over inputs X, y (defined externally)\n",
        "  \"\"\"\n",
        "\n",
        "  # We zero out the element of the weight tensor that will be\n",
        "  # replaced by u\n",
        "  mask = torch.ones_like(model.main[0].weight)\n",
        "  mask[mask_idx[0], mask_idx[1]] = 0.\n",
        "  masked_weights = model.main[0].weight * mask\n",
        "\n",
        "  # u is replacing an element of the weight matrix\n",
        "  masked_weights[mask_idx[0], mask_idx[1]] = u\n",
        "\n",
        "  res = X.reshape(-1, 784) @ masked_weights.T + model.main[0].bias\n",
        "\n",
        "  # v is replacing a bias for class 7\n",
        "  res[:, 7] += v - model.main[0].bias[7]\n",
        "  res =  F.log_softmax(res, dim=1)\n",
        "\n",
        "  return loss_fn(res, y)\n",
        "\n",
        "\n",
        "def plot_surface(U, V, Z, fig):\n",
        "  \"\"\" Plot a 3D loss surface given meshed inputs U, V and values Z\n",
        "  \"\"\"\n",
        "  ax = fig.add_subplot(1, 2, 2, projection='3d')\n",
        "  ax.view_init(45, -130)\n",
        "\n",
        "  surf = ax.plot_surface(U, V, Z, cmap=plt.cm.coolwarm,\n",
        "                      linewidth=0, antialiased=True, alpha=0.5)\n",
        "\n",
        "  # Select certain level contours to plot\n",
        "  # levels = Z.min() * np.array([1.005, 1.1, 1.3, 1.5, 2.])\n",
        "  # plt.contour(U, V, Z)# levels=levels, alpha=0.5)\n",
        "\n",
        "  ax.set_xlabel('Weight')\n",
        "  ax.set_ylabel('Bias')\n",
        "  ax.set_zlabel('Loss', rotation=90)\n",
        "\n",
        "  return ax\n",
        "\n",
        "\n",
        "def plot_param_distance(best_u, best_v, trajs, fig, styles, labels,\n",
        "                        use_log=False, y_min_v=-12.0, y_max_v=1.5):\n",
        "  \"\"\" Plot the distance to each of the two parameters for a collection of 'trajectories'\n",
        "  \"\"\"\n",
        "  ax = fig.add_subplot(1, 1, 1)\n",
        "\n",
        "  for traj, style, label in zip(trajs, styles, labels):\n",
        "    d0 = np.array([np.abs(_[0] - best_u) for _ in traj])\n",
        "    d1 = np.array([np.abs(_[1] - best_v) for _ in traj])\n",
        "    if use_log:\n",
        "      d0 = np.log(1e-16 + d0)\n",
        "      d1 = np.log(1e-16 + d1)\n",
        "    ax.plot(range(len(traj)), d0, style, label='weight - ' + label)\n",
        "    ax.plot(range(len(traj)), d1, style, label='bias - ' + label)\n",
        "  ax.set_xlabel('Iteration')\n",
        "  if use_log:\n",
        "    ax.set_ylabel('Log distance to optimum (per dimension)')\n",
        "    ax.set_ylim(y_min_v, y_max_v)\n",
        "  else:\n",
        "    ax.set_ylabel('Abs distance to optimum (per dimension)')\n",
        "  ax.legend(loc='right', bbox_to_anchor=(1.5, 0.5),\n",
        "            fancybox=False, shadow=False, ncol=1)\n",
        "\n",
        "  return ax\n",
        "\n",
        "\n",
        "def run_optimizer(inits, eval_fn, update_fn, max_steps=500,\n",
        "                  optim_kwargs={'lr':1e-2}, log_traj=True):\n",
        "  \"\"\"Runs an optimizer on a given objective and logs parameter trajectory\n",
        "\n",
        "  Args:\n",
        "      inits list(scalar): initialization of parameters\n",
        "      eval_fn (callable): function computing the objective to be minimized\n",
        "      update_fn (callable): function executing parameter update\n",
        "      max_steps (int): number of iterations to run\n",
        "      optim_kwargs (dict): customize optimizer hyperparameters\n",
        "\n",
        "  Returns:\n",
        "      list[list]: trajectory information [*params, loss] for each optimization step\n",
        "  \"\"\"\n",
        "\n",
        "  # Initialize parameters and optimizer\n",
        "  params = [nn.Parameter(torch.tensor(_)) for _ in inits]\n",
        "  # Methods like momentum and rmsprop keep and auxiliary vector of parameters\n",
        "  aux_tensors = [torch.zeros_like(_) for _ in params]\n",
        "  if log_traj:\n",
        "    traj = np.zeros((max_steps, len(params)+1))\n",
        "  for _ in range(max_steps):\n",
        "    # Evaluate loss\n",
        "    loss = eval_fn(*params)\n",
        "    # Store 'trajectory' information\n",
        "    if log_traj:\n",
        "      traj[_, :] = [_.item() for _ in params] + [loss.item()]\n",
        "    # Perform update\n",
        "    if update_fn == gradient_update:\n",
        "      gradient_update(loss, params, **optim_kwargs)\n",
        "    else:\n",
        "      update_fn(loss, params, aux_tensors, **optim_kwargs)\n",
        "  if log_traj:\n",
        "    return traj\n",
        "\n",
        "\n",
        "L = 4.\n",
        "xs = np.linspace(-L, L, 30)\n",
        "ys = np.linspace(-L, L, 30)\n",
        "U, V = np.meshgrid(xs, ys)"
      ],
      "execution_count": null,
      "outputs": []
    },
    {
      "cell_type": "markdown",
      "metadata": {
        "execution": {},
        "id": "oYrN-hVrw2v6"
      },
      "source": [
        "## Coding Exercise 4: Implement momentum\n",
        "\n",
        "In this exercise you will implement the momentum update given by:\n",
        "\n",
        "\\begin{equation}\n",
        "w_{t+1} = w_t - \\eta \\nabla J(w_t) + \\beta (w_t - w_{t-1})\n",
        "\\end{equation}\n",
        "\n",
        "It is convenient to re-express this update rule in terms of a recursion. For that, we define 'velocity' as the quantity:\n",
        "\\begin{equation}\n",
        "v_{t-1} := w_{t} - w_{t-1}\n",
        "\\end{equation}\n",
        "\n",
        "which leads to the two-step update rule:\n",
        "\n",
        "\\begin{equation}\n",
        "v_t = - \\eta \\nabla J(w_t) + \\beta (\\underbrace{w_t - w_{t-1}}_{v_{t-1}})\n",
        "\\end{equation}\n",
        "\n",
        "\\begin{equation}\n",
        "w_{t+1} \\leftarrow w_t + v_{t}\n",
        "\\end{equation}\n",
        "\n",
        "Pay attention to the positive sign of the update in the last equation, given the definition of $v_t$, above. "
      ]
    },
    {
      "cell_type": "code",
      "metadata": {
        "execution": {},
        "id": "aqg5nIR9w2v7"
      },
      "source": [
        "def momentum_update(loss, params, grad_vel, lr=1e-3, beta=0.8):\n",
        "  \"\"\"Perform a momentum update over a collection of parameters given a loss and 'velocities'\n",
        "\n",
        "  Args:\n",
        "    loss (tensor): A scalar tensor containing the loss whose gradient will be computed\n",
        "    params (iterable): Collection of parameters with respect to which we compute gradients\n",
        "    grad_vel (iterable): Collection containing the 'velocity' v_t for each parameter\n",
        "    lr (float): Scalar specifying the learning rate or step-size for the update\n",
        "    beta (float): Scalar 'momentum' parameter\n",
        "  \"\"\"\n",
        "  # Clear up gradients as Pytorch automatically accumulates gradients from\n",
        "  # successive backward calls\n",
        "  zero_grad(params)\n",
        "  # Compute gradients on given objective\n",
        "  loss.backward()\n",
        "\n",
        "  with torch.no_grad():\n",
        "    for (par, vel) in zip(params, grad_vel):\n",
        "      #################################################\n",
        "      ## TODO for students: update the value of the parameter ##\n",
        "      raise NotImplementedError(\"Student exercise: implement momentum update\")\n",
        "      #################################################\n",
        "      # Update 'velocity'\n",
        "      vel.data = ...\n",
        "      # Update parameters\n",
        "      par.data += ...\n",
        "\n",
        "\n",
        "# add event to airtable\n",
        "atform.add_event('Coding Exercise 4: Implement momentum')\n",
        "\n",
        "\n",
        "set_seed(seed=SEED)\n",
        "model2 = MLP(in_dim=784, out_dim=10, hidden_dims=[])\n",
        "print('\\n The model2 parameters before the update are: \\n')\n",
        "print_params(model2)\n",
        "loss = loss_fn(model2(X), y)\n",
        "initial_vel = [torch.randn_like(p) for p in model2.parameters()]\n",
        "\n",
        "## Uncomment below to test your function\n",
        "# momentum_update(loss, list(model2.parameters()), grad_vel=initial_vel, lr=1e-1, beta=0.9)\n",
        "# print('\\n The model2 parameters after the update are: \\n')\n",
        "# print_params(model2)"
      ],
      "execution_count": null,
      "outputs": []
    },
    {
      "cell_type": "markdown",
      "metadata": {
        "execution": {},
        "id": "LC6sAKCsw2v7"
      },
      "source": [
        "[*Click for solution*](https://github.com/NeuromatchAcademy/course-content-dl/tree/main//tutorials/W1D4_Optimization/solutions/W1D4_Tutorial1_Solution_ba72f88a.py)\n",
        "\n"
      ]
    },
    {
      "cell_type": "markdown",
      "metadata": {
        "execution": {},
        "id": "Fdp5p9ARw2v7"
      },
      "source": [
        "```\n",
        " The model2 parameters after the update are: \n",
        "\n",
        "main.0.weight tensor([[ 1.5898,  0.0116, -2.0239,  ..., -1.0871,  0.4030, -0.9577],\n",
        "        [ 0.4653,  0.6022, -0.7363,  ...,  0.5485, -0.2747, -0.6539],\n",
        "        [-1.4117, -1.1045,  0.6492,  ..., -1.0201,  0.6503,  0.1310],\n",
        "        ...,\n",
        "        [-0.5098,  0.5075, -0.0718,  ...,  1.1192,  0.2900, -0.9657],\n",
        "        [-0.4405, -0.1174,  0.7542,  ...,  0.0792, -0.1857,  0.3537],\n",
        "        [-1.0824,  1.0080, -0.4254,  ..., -0.3760, -1.7491,  0.6025]])\n",
        "main.0.bias tensor([ 0.4147, -1.0440,  0.8720, -1.6201, -0.9632,  0.9430, -0.5180,  1.3417,\n",
        "         0.6574,  0.3677])\n",
        "```"
      ]
    },
    {
      "cell_type": "markdown",
      "metadata": {
        "execution": {},
        "id": "4equFlnuw2v7"
      },
      "source": [
        "## Interactive Demo 4: Momentum vs. GD\n",
        "\n",
        "The plots below show the distance to the optimum for both variables across the two methods, as well as the parameter trajectory over the loss surface."
      ]
    },
    {
      "cell_type": "code",
      "metadata": {
        "cellView": "form",
        "execution": {},
        "id": "5O01Vq67w2v7"
      },
      "source": [
        "# @markdown Run this cell to enable the widget!\n",
        "from matplotlib.lines import Line2D\n",
        "\n",
        "# Find the optimum of this 2D problem using Newton's method\n",
        "def run_newton(func, init_list=[0., 0.], max_iter=200):\n",
        "\n",
        "  par_tensor = torch.tensor(init_list, requires_grad=True)\n",
        "  t_g = lambda par_tensor: func(par_tensor[0], par_tensor[1])\n",
        "\n",
        "  for _ in tqdm(range(max_iter)):\n",
        "    eval_loss = t_g(par_tensor)\n",
        "    eval_grad = torch.autograd.grad(eval_loss, [par_tensor])[0]\n",
        "    eval_hess = torch.autograd.functional.hessian(t_g, par_tensor)\n",
        "    # Newton's update is:  - inverse(Hessian) x gradient\n",
        "    par_tensor.data -= torch.inverse(eval_hess) @ eval_grad\n",
        "\n",
        "  return par_tensor.data.numpy()\n",
        "\n",
        "\n",
        "set_seed(2021)\n",
        "model = MLP(in_dim=784, out_dim=10, hidden_dims=[])\n",
        "# Define 2d loss objectives and surface values\n",
        "g = lambda u, v: loss_2d(copy.deepcopy(model), u, v)\n",
        "Z = np.fromiter(map(g, U.ravel(), V.ravel()), U.dtype).reshape(V.shape)\n",
        "\n",
        "best_u, best_v  = run_newton(func=g)\n",
        "\n",
        "# Initialization of the variables\n",
        "INITS = [2.5, 3.7]\n",
        "\n",
        "# Used for plotting\n",
        "LABELS = ['GD', 'Momentum']\n",
        "COLORS = ['black', 'red']\n",
        "LSTYLES = ['-', '--']\n",
        "\n",
        "\n",
        "@widgets.interact_manual\n",
        "def momentum_experiment(max_steps=widgets.IntSlider(300, 50, 500, 5),\n",
        "                        lr=widgets.FloatLogSlider(value=1e-1, min=-3, max=0.7, step=0.1),\n",
        "                        beta=widgets.FloatSlider(value=9e-1, min=0, max=1., step=0.01)\n",
        "                        ):\n",
        "\n",
        "  # Execute both optimizers\n",
        "  sgd_traj = run_optimizer(INITS, eval_fn=g, update_fn=gradient_update,\n",
        "                           max_steps=max_steps, optim_kwargs={'lr': lr})\n",
        "  mom_traj = run_optimizer(INITS, eval_fn=g, update_fn=momentum_update,\n",
        "                           max_steps=max_steps, optim_kwargs={'lr': lr, 'beta':beta})\n",
        "\n",
        "  TRAJS = [sgd_traj, mom_traj]\n",
        "\n",
        "  # Plot distances\n",
        "  fig = plt.figure(figsize=(9,4))\n",
        "  plot_param_distance(best_u, best_v, TRAJS, fig,\n",
        "                      LSTYLES, LABELS, use_log=True, y_min_v=-12.0, y_max_v=1.5)\n",
        "\n",
        "  # # Plot trajectories\n",
        "  fig = plt.figure(figsize=(12, 5))\n",
        "  ax = plot_surface(U, V, Z, fig)\n",
        "  for traj, c, label in zip(TRAJS, COLORS, LABELS):\n",
        "    ax.plot3D(*traj.T, c, linewidth=0.3, label=label)\n",
        "    ax.scatter3D(*traj.T, '.-', s=1, c=c)\n",
        "\n",
        "  # Plot optimum point\n",
        "  ax.scatter(best_u, best_v, Z.min(), marker='*', s=80, c='lime', label='Opt.');\n",
        "  lines = [Line2D([0], [0],\n",
        "                  color=c,\n",
        "                  linewidth=3,\n",
        "                  linestyle='--') for c in COLORS]\n",
        "  lines.append(Line2D([0], [0], color='lime', linewidth=0, marker='*'))\n",
        "  ax.legend(lines, LABELS + ['Optimum'], loc='right',\n",
        "            bbox_to_anchor=(.8, -0.1), ncol=len(LABELS) + 1)"
      ],
      "execution_count": null,
      "outputs": []
    },
    {
      "cell_type": "markdown",
      "metadata": {
        "execution": {},
        "id": "fw0jQNPKw2v7"
      },
      "source": [
        "## Think! 4: Momentum and oscillations\n",
        "\n",
        "- Discuss how this specific example illustrates the issue of poor conditioning in optimization? How does momentum help resolve these difficulties?\n",
        "\n",
        "- Do you see oscillations for any of these methods? Why does this happen?\n",
        "\n",
        "- Finally, tune the learning rate and momentum parameters to achieve a loss below $10^{-6}$ (for both dimensions) within 100 iterations."
      ]
    },
    {
      "cell_type": "code",
      "metadata": {
        "cellView": "form",
        "execution": {},
        "id": "vMI0kOFaw2v7"
      },
      "source": [
        "# @title Student Response\n",
        "from ipywidgets import widgets\n",
        "\n",
        "\n",
        "text=widgets.Textarea(\n",
        "   value='Type your answer here and click on `Submit!`',\n",
        "   placeholder='Type something',\n",
        "   description='',\n",
        "   disabled=False\n",
        ")\n",
        "\n",
        "button = widgets.Button(description=\"Submit!\")\n",
        "\n",
        "display(text,button)\n",
        "\n",
        "def on_button_clicked(b):\n",
        "   atform.add_answer('q2' , text.value)\n",
        "   print(\"Submission successful!\")\n",
        "\n",
        "\n",
        "button.on_click(on_button_clicked)"
      ],
      "execution_count": null,
      "outputs": []
    },
    {
      "cell_type": "markdown",
      "metadata": {
        "execution": {},
        "id": "N0JwA5u3w2v8"
      },
      "source": [
        "[*Click for solution*](https://github.com/NeuromatchAcademy/course-content-dl/tree/main//tutorials/W1D4_Optimization/solutions/W1D4_Tutorial1_Solution_5eaa9306.py)\n",
        "\n"
      ]
    },
    {
      "cell_type": "markdown",
      "metadata": {
        "execution": {},
        "id": "kvbenxYlw2v8"
      },
      "source": [
        "---\n",
        "# Section 5: Non-convexity\n",
        "\n",
        "*Time estimate: ~30 mins*"
      ]
    },
    {
      "cell_type": "markdown",
      "metadata": {
        "execution": {},
        "id": "leFpN4aWw2v8"
      },
      "source": [
        "The introduction of even just 1 hidden layer in the neural network transforms the previous convex optimization problem into a non-convex one. And with great non-convexity, comes great responsibility... (Sorry, we couldn't help it!)\n",
        "\n",
        "**Note:** From this section onwards we will be dealing with non-convex optimization problems for the remaining of the tutorial. "
      ]
    },
    {
      "cell_type": "code",
      "metadata": {
        "cellView": "form",
        "execution": {},
        "id": "hikk0tRSw2v8"
      },
      "source": [
        "# @title Video 5: Overparametrization\n",
        "from ipywidgets import widgets\n",
        "\n",
        "out2 = widgets.Output()\n",
        "with out2:\n",
        "  from IPython.display import IFrame\n",
        "  class BiliVideo(IFrame):\n",
        "    def __init__(self, id, page=1, width=400, height=300, **kwargs):\n",
        "      self.id=id\n",
        "      src = \"https://player.bilibili.com/player.html?bvid={0}&page={1}\".format(id, page)\n",
        "      super(BiliVideo, self).__init__(src, width, height, **kwargs)\n",
        "\n",
        "  video = BiliVideo(id=f\"BV16h41167Jr\", width=854, height=480, fs=1)\n",
        "  print(\"Video available at https://www.bilibili.com/video/{0}\".format(video.id))\n",
        "  display(video)\n",
        "\n",
        "out1 = widgets.Output()\n",
        "with out1:\n",
        "  from IPython.display import YouTubeVideo\n",
        "  video = YouTubeVideo(id=f\"7vUpUEKKl5o\", width=854, height=480, fs=1, rel=0)\n",
        "  print(\"Video available at https://youtube.com/watch?v=\" + video.id)\n",
        "  display(video)\n",
        "\n",
        "out = widgets.Tab([out1, out2])\n",
        "out.set_title(0, 'Youtube')\n",
        "out.set_title(1, 'Bilibili')\n",
        "\n",
        "# add event to airtable\n",
        "atform.add_event(\"Video 5: Overparametrization\")\n",
        "\n",
        "display(out)"
      ],
      "execution_count": null,
      "outputs": []
    },
    {
      "cell_type": "markdown",
      "metadata": {
        "execution": {},
        "id": "ccx46EEqw2v8"
      },
      "source": [
        "Take a couple of minutes to play with a more complex 3D visualization of the loss landscape of a neural network on a non-convex problem. Visit https://losslandscape.com/explorer.\n",
        "\n",
        "1. Explore the features on the bottom left corner. You can see an explanation for each icon by clicking on the [i] button located on the top right corner.\n",
        "2. Use the 'gradient descent' feature to perform a thought experiment:\n",
        "    -   Choose an initialization\n",
        "    -   Choose the learning rate\n",
        "    -   Mentally formulate your hypothesis about what kind of trajectory you expect to observe \n",
        "3. Run the experiment and contrast your intuition with the observed behavior.\n",
        "4. Repeat this experiment a handful of times for several initialization/learning rate configurations\n"
      ]
    },
    {
      "cell_type": "markdown",
      "metadata": {
        "execution": {},
        "id": "Q0U7kzA2w2v8"
      },
      "source": [
        "## Interactive Demo 5: Overparametrization to the rescue!\n",
        "\n",
        "As you may have seen, the non-convex nature of the surface can lead the optimization process to get stuck in undesirable local-optima. There is ample empirical evidence supporting the claim that 'overparameterized' models are easier to train.\n",
        "\n",
        "We will explore this assertion in the context of our MLP training. For this, we initialize a fixed model and construct several models by small random perturbations to the original initialized weights. Now, we train each of these perturbed models and see how the loss evolves. If we were in the convex setting, we should reach very similar objective values upon convergence since all these models were very close at the beginning of training, and in convex problems, every local optimum is also a global optimum.\n",
        "\n",
        "Use the interactive plot below to visualize the loss progression for these perturbed models:\n",
        "\n",
        "1. Select different settings from the `hidden_dims` drop-down menu.\n",
        "2. Explore the effect of the number of steps and learning rate."
      ]
    },
    {
      "cell_type": "code",
      "metadata": {
        "cellView": "form",
        "execution": {},
        "id": "lIArgREHw2v8"
      },
      "source": [
        "# @markdown Execute this cell to enable the widget!\n",
        "\n",
        "@widgets.interact_manual\n",
        "def overparam(max_steps=widgets.IntSlider(150, 50, 500, 5),\n",
        "              hidden_dims=widgets.Dropdown(options=[\"10\", \"20, 20\", \"100, 100\"],\n",
        "                                           value=\"10\"),\n",
        "              lr=widgets.FloatLogSlider(value=5e-2, min=-3, max=0, step=0.1),\n",
        "              num_inits=widgets.IntSlider(7, 5, 10, 1)):\n",
        "\n",
        "    X, y = train_set.data[subset_index, :], train_set.targets[subset_index]\n",
        "\n",
        "    hdims = [int(s) for s in hidden_dims.split(',')]\n",
        "    base_model = MLP(in_dim=784, out_dim=10, hidden_dims=hdims)\n",
        "\n",
        "    fig, axs = plt.subplots(1, 1, figsize=(5, 4))\n",
        "\n",
        "    for _ in tqdm(range(num_inits)):\n",
        "      model = copy.deepcopy(base_model)\n",
        "      random_update(model, noise_scale=2e-1)\n",
        "\n",
        "      loss_hist = np.zeros((max_steps, 2))\n",
        "      for step in range(max_steps):\n",
        "        loss = loss_fn(model(X), y)\n",
        "        gradient_update(loss, list(model.parameters()), lr=lr)\n",
        "        loss_hist[step] = np.array([step, loss.item()])\n",
        "\n",
        "      plt.plot(loss_hist[:, 0], loss_hist[:, 1])\n",
        "\n",
        "    plt.xlabel('Iteration')\n",
        "    plt.ylabel('Loss')\n",
        "    plt.ylim(0, 3)\n",
        "    plt.show()\n",
        "\n",
        "    num_params = sum([np.prod(_.shape) for _ in model.parameters()])\n",
        "    print('Number of paramaters in model:  ' + str(num_params))"
      ],
      "execution_count": null,
      "outputs": []
    },
    {
      "cell_type": "markdown",
      "metadata": {
        "execution": {},
        "id": "L9P_aajQw2v8"
      },
      "source": [
        "### Think! 5.1: Width and depth of the network\n",
        "\n",
        "- We see that as we increase the width/depth of the network, training becomes faster and more consistent across different initializations. What might be the reasons for this behavior? \n",
        "\n",
        "- What are some potential downsides of this approach to dealing with non-convexity? \n"
      ]
    },
    {
      "cell_type": "code",
      "metadata": {
        "cellView": "form",
        "execution": {},
        "id": "Rg0IHnImw2v8"
      },
      "source": [
        "# @title Student Response\n",
        "from ipywidgets import widgets\n",
        "\n",
        "\n",
        "text=widgets.Textarea(\n",
        "   value='Type your answer here and click on `Submit!`',\n",
        "   placeholder='Type something',\n",
        "   description='',\n",
        "   disabled=False\n",
        ")\n",
        "\n",
        "button = widgets.Button(description=\"Submit!\")\n",
        "\n",
        "display(text,button)\n",
        "\n",
        "def on_button_clicked(b):\n",
        "   atform.add_answer('q3' , text.value)\n",
        "   print(\"Submission successful!\")"
      ],
      "execution_count": null,
      "outputs": []
    },
    {
      "cell_type": "markdown",
      "metadata": {
        "execution": {},
        "id": "3C58IJyhw2v9"
      },
      "source": [
        "[*Click for solution*](https://github.com/NeuromatchAcademy/course-content-dl/tree/main//tutorials/W1D4_Optimization/solutions/W1D4_Tutorial1_Solution_d69ca8d7.py)\n",
        "\n"
      ]
    },
    {
      "cell_type": "markdown",
      "metadata": {
        "execution": {},
        "id": "DDTQp32Sw2v9"
      },
      "source": [
        "---\n",
        "# Section 6: Full gradients are expensive\n",
        "\n",
        "*Time estimate: ~25 mins*"
      ]
    },
    {
      "cell_type": "markdown",
      "metadata": {
        "execution": {},
        "id": "oznHpthXw2v9"
      },
      "source": [
        "So far we have used only a small (fixed) subset of 500 training examples to perform the updates on the model parameters in our quest to minimize the loss. But what if we decided to use the training set? Do our current approach scale to datasets with tens of thousands, or millions of datapoints?\n",
        "\n",
        "In this section we explore an efficient alternative to avoid having to perform computations on all the training examples before performing a parameter update."
      ]
    },
    {
      "cell_type": "code",
      "metadata": {
        "cellView": "form",
        "execution": {},
        "id": "x8LqyYUYw2v9"
      },
      "source": [
        "# @title Video 6: Mini-batches\n",
        "from ipywidgets import widgets\n",
        "\n",
        "out2 = widgets.Output()\n",
        "with out2:\n",
        "  from IPython.display import IFrame\n",
        "  class BiliVideo(IFrame):\n",
        "    def __init__(self, id, page=1, width=400, height=300, **kwargs):\n",
        "      self.id=id\n",
        "      src = \"https://player.bilibili.com/player.html?bvid={0}&page={1}\".format(id, page)\n",
        "      super(BiliVideo, self).__init__(src, width, height, **kwargs)\n",
        "\n",
        "  video = BiliVideo(id=f\"BV1ty4y1T7Uh\", width=854, height=480, fs=1)\n",
        "  print(\"Video available at https://www.bilibili.com/video/{0}\".format(video.id))\n",
        "  display(video)\n",
        "\n",
        "out1 = widgets.Output()\n",
        "with out1:\n",
        "  from IPython.display import YouTubeVideo\n",
        "  video = YouTubeVideo(id=f\"hbqUxpNBUGk\", width=854, height=480, fs=1, rel=0)\n",
        "  print(\"Video available at https://youtube.com/watch?v=\" + video.id)\n",
        "  display(video)\n",
        "\n",
        "out = widgets.Tab([out1, out2])\n",
        "out.set_title(0, 'Youtube')\n",
        "out.set_title(1, 'Bilibili')\n",
        "\n",
        "# add event to airtable\n",
        "atform.add_event(\"Video 6: Mini-batches\")\n",
        "\n",
        "display(out)"
      ],
      "execution_count": null,
      "outputs": []
    },
    {
      "cell_type": "markdown",
      "metadata": {
        "execution": {},
        "id": "H4e5o4o_w2v9"
      },
      "source": [
        "## Interactive Demo 6.1: Cost of computation\n",
        "\n",
        "Evaluating a neural network is a relatively fast process. However, when repeated millions of times, the computational cost of performing forward and backward passes through the network starts to become significant.\n",
        "\n",
        "In the visualization below, we show the time (averaged over 5 runs) of computing a forward and backward pass with a changing number of input examples. Choose from the different options in the drop-down box and note how the vertical scale changes depending on the size of the network. \n",
        "\n",
        "**Remarks:** Note that the computational cost of a forward pass shows a clear linear relationship with the number of input examples, and the cost of the corresponding backward pass exhibits a similar computational complexity."
      ]
    },
    {
      "cell_type": "code",
      "metadata": {
        "cellView": "form",
        "execution": {},
        "id": "6bxrTfS0w2v9"
      },
      "source": [
        "# @markdown Execute this cell to enable the widget!\n",
        "\n",
        "def measure_update_time(model, num_points):\n",
        "  X, y = train_set.data[:num_points], train_set.targets[:num_points]\n",
        "  start_time = time.time()\n",
        "  loss = loss_fn(model(X), y)\n",
        "  loss_time = time.time()\n",
        "  gradient_update(loss, list(model.parameters()), lr=0)\n",
        "  gradient_time = time.time()\n",
        "  return loss_time - start_time, gradient_time - loss_time\n",
        "\n",
        "\n",
        "@widgets.interact\n",
        "def computation_time(hidden_dims=widgets.Dropdown(options=[\"1\", \"100\", \"50, 50\"],\n",
        "                                                  value=\"100\")):\n",
        "\n",
        "  hdims = [int(s) for s in hidden_dims.split(',')]\n",
        "  model = MLP(in_dim=784, out_dim=10, hidden_dims=hdims)\n",
        "\n",
        "  NUM_POINTS = [1, 5, 10, 100, 200, 500, 1000, 5000, 10000, 20000, 30000, 50000]\n",
        "  times_list = []\n",
        "  for _ in range(5):\n",
        "    times_list.append(np.array([measure_update_time(model, _) for _ in NUM_POINTS]))\n",
        "\n",
        "  times = np.array(times_list).mean(axis=0)\n",
        "\n",
        "  fig, axs = plt.subplots(1, 1, figsize=(5,4))\n",
        "  plt.plot(NUM_POINTS, times[:, 0], label='Forward')\n",
        "  plt.plot(NUM_POINTS, times[:, 1], label='Backward')\n",
        "  plt.xlabel('Number of data points')\n",
        "  plt.ylabel('Seconds')\n",
        "  plt.legend()"
      ],
      "execution_count": null,
      "outputs": []
    },
    {
      "cell_type": "markdown",
      "metadata": {
        "execution": {},
        "id": "YhoFlfSPw2v9"
      },
      "source": [
        "## Coding Exercise 6: Implement minibatch sampling\n",
        "\n",
        "Complete the code in `sample_minibatch` so as to produce IID subsets of the training set of the desired size. (This is _not_ a trick question.) "
      ]
    },
    {
      "cell_type": "code",
      "metadata": {
        "execution": {},
        "id": "dxNUbpXew2v9"
      },
      "source": [
        "def sample_minibatch(input_data, target_data, num_points=100):\n",
        "  \"\"\"Sample a minibatch of size num_point from the provided input-target data\n",
        "\n",
        "  Args:\n",
        "    input_data (tensor): Multi-dimensional tensor containing the input data\n",
        "    target_data (tensor): 1D tensor containing the class labels\n",
        "    num_points (int): Number of elements to be included in minibatch\n",
        "\n",
        "  Returns:\n",
        "    batch_inputs (tensor): Minibatch inputs\n",
        "    batch_targets (tensor): Minibatch targets\n",
        "  \"\"\"\n",
        "  #################################################\n",
        "  ## TODO for students: sample minibatch of data ##\n",
        "  raise NotImplementedError(\"Student exercise: implement gradient update\")\n",
        "  #################################################\n",
        "  # Sample a collection of IID indices from the existing data\n",
        "  batch_indices = ...\n",
        "  # Use batch_indices to extract entries from the input and target data tensors\n",
        "  batch_inputs = input_data[...]\n",
        "  batch_targets = target_data[...]\n",
        "\n",
        "  return batch_inputs, batch_targets\n",
        "\n",
        "# add event to airtable\n",
        "atform.add_event('Coding Exercise 6: Implement minibatch sampling')\n",
        "\n",
        "\n",
        "## Uncomment to test your function\n",
        "# x_batch, y_batch = sample_minibatch(X, y, num_points=100)\n",
        "# print(f\"The input shape is {x_batch.shape} and the target shape is: {y_batch.shape}\")"
      ],
      "execution_count": null,
      "outputs": []
    },
    {
      "cell_type": "markdown",
      "metadata": {
        "execution": {},
        "id": "XZRtoytuw2v9"
      },
      "source": [
        "[*Click for solution*](https://github.com/NeuromatchAcademy/course-content-dl/tree/main//tutorials/W1D4_Optimization/solutions/W1D4_Tutorial1_Solution_6bf245d5.py)\n",
        "\n"
      ]
    },
    {
      "cell_type": "markdown",
      "metadata": {
        "execution": {},
        "id": "h8oMSsghw2v-"
      },
      "source": [
        "```\n",
        "The input shape is torch.Size([100, 28, 28]) and the target shape is: torch.Size([100])\n",
        "```"
      ]
    },
    {
      "cell_type": "markdown",
      "metadata": {
        "execution": {},
        "id": "F1naSNY2w2v-"
      },
      "source": [
        "## Interactive Demo 6.2: *Compare* different minibatch sizes\n",
        "\n",
        "What are the trade-offs induced by the choice of minibatch size? The interactive plot below shows the training evolution of a 2-hidden layer MLP with 100 hidden units in each hidden layer. Different plots correspond to a different choice of minibatch size. We have a fixed time budget for all the cases, reflected in the horizontal axes of these plots."
      ]
    },
    {
      "cell_type": "code",
      "metadata": {
        "cellView": "form",
        "execution": {},
        "id": "V1OObrByw2v-"
      },
      "source": [
        "# @markdown Execute this cell to enable the widget!\n",
        "\n",
        "@widgets.interact_manual\n",
        "def minibatch_experiment(batch_sizes='20, 250, 1000',\n",
        "                         lrs='5e-3, 5e-3, 5e-3',\n",
        "                         time_budget=widgets.Dropdown(options=[\"2.5\", \"5\", \"10\"],\n",
        "                                                      value=\"2.5\")):\n",
        "\n",
        "  batch_sizes = [int(s) for s in batch_sizes.split(',')]\n",
        "  lrs = [float(s) for s in lrs.split(',')]\n",
        "\n",
        "  LOSS_HIST = {_:[] for _ in batch_sizes}\n",
        "\n",
        "  X, y = train_set.data, train_set.targets\n",
        "  base_model = MLP(in_dim=784, out_dim=10, hidden_dims=[100, 100])\n",
        "\n",
        "  for id, batch_size in enumerate(tqdm(batch_sizes)):\n",
        "    start_time = time.time()\n",
        "    # Create a new copy of the model for each batch size\n",
        "    model = copy.deepcopy(base_model)\n",
        "    params = list(model.parameters())\n",
        "    lr = lrs[id]\n",
        "    # Fixed budget per choice of batch size\n",
        "    while (time.time() - start_time) < float(time_budget):\n",
        "      data, labels = sample_minibatch(X, y, batch_size)\n",
        "      loss = loss_fn(model(data), labels)\n",
        "      gradient_update(loss, params, lr=lr)\n",
        "      LOSS_HIST[batch_size].append([time.time() - start_time,\n",
        "                                    loss.item()])\n",
        "\n",
        "  fig, axs = plt.subplots(1, len(batch_sizes), figsize=(10, 3))\n",
        "  for ax, batch_size in zip(axs, batch_sizes):\n",
        "    plot_data = np.array(LOSS_HIST[batch_size])\n",
        "    ax.plot(plot_data[:, 0], plot_data[:, 1], label=batch_size,\n",
        "            alpha=0.8)\n",
        "    ax.set_title('Batch size: ' + str(batch_size))\n",
        "    ax.set_xlabel('Seconds')\n",
        "    ax.set_ylabel('Loss')\n",
        "  plt.show()"
      ],
      "execution_count": null,
      "outputs": []
    },
    {
      "cell_type": "markdown",
      "metadata": {
        "execution": {},
        "id": "Ooww19i4w2v-"
      },
      "source": [
        "**Remarks:** SGD works! We have an algorithm that can be applied (with the due precautions) to learn datasets of arbitrary size. \n",
        "\n",
        "However, **note the diference in the vertical scale** across the plots above. When using a larger minibatch, we can perform fewer parameter updates as the forward and backward passes are more expensive.\n",
        "\n",
        "This highlights the interplay between the minibatch size and the learning rate: when our minibatch is larger, we have a more confident estimator of the direction to move, and thus can afford a larger learning rate. On the other hand, extremely small minibatches are very fast computationally but are not representative of the data distribution and yield estimations of the gradient with high variance.\n",
        "\n",
        "We encourage you to tune the value of the learning rate for each of the minibatch sizes in the previous demo, to achieve a training loss steadily below 0.5 within 5 seconds."
      ]
    },
    {
      "cell_type": "markdown",
      "metadata": {
        "execution": {},
        "id": "0V-TGjqDw2v-"
      },
      "source": [
        "---\n",
        "# Section 7: Adaptive methods\n",
        "\n",
        "*Time estimate: ~25 mins*"
      ]
    },
    {
      "cell_type": "markdown",
      "metadata": {
        "execution": {},
        "id": "t3djKZYVw2v-"
      },
      "source": [
        "As of now, you should be aware that there are many knobs to turn when working on a machine learning problem. Some of these relate to the optimization algorithm, to the choice of model, or to the objective to minimize. Here are some prototypical examples:\n",
        "\n",
        "- Problem: loss function, regularization coefficients (Day 5)\n",
        "- Model: architecture, activations function\n",
        "- Optimizer: learning rate, batch size, momentum coefficient\n",
        "\n",
        "We concentrate on the choices that are directly related with optimization. In particular, we will explore some _automatic_ methods for setting the learning rate, in a way that fixes the poor-conditioning problem and is robust across different problems."
      ]
    },
    {
      "cell_type": "code",
      "metadata": {
        "cellView": "form",
        "execution": {},
        "id": "beyaUb39w2v-"
      },
      "source": [
        "# @title Video 7: Adaptive Methods\n",
        "from ipywidgets import widgets\n",
        "\n",
        "out2 = widgets.Output()\n",
        "with out2:\n",
        "  from IPython.display import IFrame\n",
        "  class BiliVideo(IFrame):\n",
        "    def __init__(self, id, page=1, width=400, height=300, **kwargs):\n",
        "      self.id=id\n",
        "      src = \"https://player.bilibili.com/player.html?bvid={0}&page={1}\".format(id, page)\n",
        "      super(BiliVideo, self).__init__(src, width, height, **kwargs)\n",
        "\n",
        "  video = BiliVideo(id=f\"BV1eq4y1W7JG\", width=854, height=480, fs=1)\n",
        "  print(\"Video available at https://www.bilibili.com/video/{0}\".format(video.id))\n",
        "  display(video)\n",
        "\n",
        "out1 = widgets.Output()\n",
        "with out1:\n",
        "  from IPython.display import YouTubeVideo\n",
        "  video = YouTubeVideo(id=f\"Zr6r2kfmQUM\", width=854, height=480, fs=1, rel=0)\n",
        "  print(\"Video available at https://youtube.com/watch?v=\" + video.id)\n",
        "  display(video)\n",
        "\n",
        "out = widgets.Tab([out1, out2])\n",
        "out.set_title(0, 'Youtube')\n",
        "out.set_title(1, 'Bilibili')\n",
        "\n",
        "# add event to airtable\n",
        "atform.add_event('Video 7: Adaptive Methods')\n",
        "\n",
        "display(out)"
      ],
      "execution_count": null,
      "outputs": []
    },
    {
      "cell_type": "markdown",
      "metadata": {
        "execution": {},
        "id": "RPi12NJDw2v-"
      },
      "source": [
        "## Coding Exercise 7: Implement RMSprop\n",
        "\n",
        "In this exercise you will implement the update of the RMSprop optimizer:\n",
        "\n",
        "\\begin{align}\n",
        "v_{t} &= \\alpha v_{t-1} + (1 - \\alpha) \\nabla J(w_t)^2 \\\\ \\\\\n",
        "w_{t+1} &= w_t - \\eta \\frac{\\nabla J(w_t)}{\\sqrt{v_t + \\epsilon}}\n",
        "\\end{align}\n",
        "\n",
        "where the non-standard operations (division of two vectors, squaring a vector, etc) are to be interpreted as element-wise operations, i.e., the operation is applied to each (pair of) entry[ies] of the vector(s) considered as real number(s).\n",
        "\n",
        "Here, the $\\epsilon$ hyperparameter provides numerical estability to the algorithm, by preventing the learning rate to become too big when $v_t$ is small. Typically, we set $\\epsilon$ to a default small value, like $10^{-8}$.  "
      ]
    },
    {
      "cell_type": "code",
      "metadata": {
        "execution": {},
        "id": "s94htJiGw2v-"
      },
      "source": [
        "def rmsprop_update(loss, params, grad_sq, lr=1e-3, alpha=0.8, epsilon=1e-8):\n",
        "  \"\"\"Perform an RMSprop update on a collection of parameters\n",
        "\n",
        "  Args:\n",
        "    loss (tensor): A scalar tensor containing the loss whose gradient will be computed\n",
        "    params (iterable): Collection of parameters with respect to which we compute gradients\n",
        "    grad_sq (iterable): Moving average of squared gradients\n",
        "    lr (float): Scalar specifying the learning rate or step-size for the update\n",
        "    alpha (float): Moving average parameter\n",
        "    epsilon (float): for numerical estability\n",
        "  \"\"\"\n",
        "  # Clear up gradients as Pytorch automatically accumulates gradients from\n",
        "  # successive backward calls\n",
        "  zero_grad(params)\n",
        "  # Compute gradients on given objective\n",
        "  loss.backward()\n",
        "\n",
        "  with torch.no_grad():\n",
        "    for (par, gsq) in zip(params, grad_sq):\n",
        "      #################################################\n",
        "      ## TODO for students: update the value of the parameter ##\n",
        "      # Use gsq.data and par.grad\n",
        "      raise NotImplementedError(\"Student exercise: implement gradient update\")\n",
        "      #################################################\n",
        "      # Update estimate of gradient variance\n",
        "      gsq.data = ...\n",
        "      # Update parameters\n",
        "      par.data -=  ...\n",
        "\n",
        "\n",
        "# add event to airtable\n",
        "atform.add_event('Coding Exercise 7: Implement RMSprop')\n",
        "\n",
        "\n",
        "set_seed(seed=SEED)\n",
        "model3 = MLP(in_dim=784, out_dim=10, hidden_dims=[])\n",
        "print('\\n The model3 parameters before the update are: \\n')\n",
        "print_params(model3)\n",
        "loss = loss_fn(model3(X), y)\n",
        "# Intialize the moving average of squared gradients\n",
        "grad_sq = [1e-6*i for i in list(model3.parameters())]\n",
        "\n",
        "\n",
        "\n",
        "## Uncomment below to test your function\n",
        "# rmsprop_update(loss, list(model3.parameters()), grad_sq=grad_sq, lr=1e-3)\n",
        "# print('\\n The model3 parameters after the update are: \\n')\n",
        "# print_params(model3)"
      ],
      "execution_count": null,
      "outputs": []
    },
    {
      "cell_type": "markdown",
      "metadata": {
        "execution": {},
        "id": "AQmVSN5zw2v_"
      },
      "source": [
        "[*Click for solution*](https://github.com/NeuromatchAcademy/course-content-dl/tree/main//tutorials/W1D4_Optimization/solutions/W1D4_Tutorial1_Solution_b4a7e579.py)\n",
        "\n"
      ]
    },
    {
      "cell_type": "markdown",
      "metadata": {
        "execution": {},
        "id": "48ElCbzDw2v_"
      },
      "source": [
        "```\n",
        " The model3 parameters after the update are: \n",
        "\n",
        "main.0.weight tensor([[-0.0240,  0.0031,  0.0193,  ...,  0.0316,  0.0297, -0.0198],\n",
        "        [-0.0063, -0.0318, -0.0109,  ..., -0.0093,  0.0232, -0.0255],\n",
        "        [ 0.0218, -0.0253,  0.0320,  ...,  0.0102,  0.0248, -0.0203],\n",
        "        ...,\n",
        "        [-0.0027,  0.0136,  0.0089,  ...,  0.0123, -0.0324, -0.0166],\n",
        "        [ 0.0159,  0.0281,  0.0233,  ..., -0.0133, -0.0197,  0.0182],\n",
        "        [ 0.0186, -0.0376, -0.0205,  ..., -0.0293,  0.0077, -0.0019]])\n",
        "main.0.bias tensor([-0.0313, -0.0011,  0.0122, -0.0342,  0.0045,  0.0199,  0.0329,  0.0265,\n",
        "         0.0182, -0.0041])\n",
        "```"
      ]
    },
    {
      "cell_type": "markdown",
      "metadata": {
        "execution": {},
        "id": "a3T0gF-8w2v_"
      },
      "source": [
        "## Interactive Demo 7: Compare optimizers\n",
        "\n",
        "Below, we compare your implementations of SGD, momentum and RMSprop. If you have successfully coded all the exercises so far: congrats! You are now *in the know* of some of the most commonly used and powerful tools of optimization for deep learning. "
      ]
    },
    {
      "cell_type": "code",
      "metadata": {
        "cellView": "form",
        "execution": {},
        "id": "Hx1vANJ_w2v_"
      },
      "source": [
        "# @markdown Execute this cell to enable the widget!\n",
        "X, y = train_set.data, train_set.targets\n",
        "\n",
        "@widgets.interact_manual\n",
        "def compare_optimizers(\n",
        "    batch_size=(25, 250, 5),\n",
        "    lr=widgets.FloatLogSlider(value=2e-3, min=-5, max=0),\n",
        "    max_steps=(50, 500, 5)):\n",
        "\n",
        "  SGD_DICT = [gradient_update, 'SGD', 'black', '-', {'lr': lr}]\n",
        "  MOM_DICT = [momentum_update, 'Momentum', 'red', '--', {'lr': lr, 'beta': 0.9}]\n",
        "  RMS_DICT = [rmsprop_update, 'RMSprop', 'fuchsia', '-', {'lr': lr, 'alpha': 0.8}]\n",
        "\n",
        "  ALL_DICTS = [SGD_DICT, MOM_DICT, RMS_DICT]\n",
        "\n",
        "  base_model = MLP(in_dim=784, out_dim=10, hidden_dims=[100, 100])\n",
        "\n",
        "  LOSS_HIST = {}\n",
        "\n",
        "  for opt_dict in tqdm(ALL_DICTS):\n",
        "    update_fn, opt_name, color, lstyle, kwargs = opt_dict\n",
        "    LOSS_HIST[opt_name] = []\n",
        "\n",
        "    model = copy.deepcopy(base_model)\n",
        "    params = list(model.parameters())\n",
        "\n",
        "    if opt_name != 'SGD':\n",
        "      aux_tensors = [torch.zeros_like(_) for _ in params]\n",
        "\n",
        "    for step in range(max_steps):\n",
        "      data, labels = sample_minibatch(X, y, batch_size)\n",
        "      loss = loss_fn(model(data), labels)\n",
        "      if opt_name == 'SGD':\n",
        "        update_fn(loss, params, **kwargs)\n",
        "      else:\n",
        "        update_fn(loss, params, aux_tensors, **kwargs)\n",
        "      LOSS_HIST[opt_name].append(loss.item())\n",
        "\n",
        "  fig, axs = plt.subplots(1, len(ALL_DICTS), figsize=(9, 3))\n",
        "  for ax, optim_dict in zip(axs, ALL_DICTS):\n",
        "    opt_name = optim_dict[1]\n",
        "    ax.plot(range(max_steps), LOSS_HIST[opt_name], alpha=0.8)\n",
        "    ax.set_title(opt_name)\n",
        "    ax.set_xlabel('Iteration')\n",
        "    ax.set_ylabel('Loss')\n",
        "    ax.set_ylim(0, 2.5)\n",
        "  plt.show()"
      ],
      "execution_count": null,
      "outputs": []
    },
    {
      "cell_type": "markdown",
      "metadata": {
        "execution": {},
        "id": "mQU3ndXJw2v_"
      },
      "source": [
        "### **Discussion**\n",
        "\n",
        "Tune the 3 methods above in order to make each individually excel and discuss your findings. How do the methods compare in terms of robustness to small changes of the hyperparameters? How easy was it to find a good hyperparameter configuration? "
      ]
    },
    {
      "cell_type": "markdown",
      "metadata": {
        "execution": {},
        "id": "yNEmTSdAw2v_"
      },
      "source": [
        "\n",
        "**Remarks:** Note that RMSprop is allowing us to use a 'per-dimension' learning rate _without having to tune one learning rate for each dimension **ourselves**_. The method uses information collected about the variance of the gradients throughout training to **adapt** the step size for each of the parameters automatically. The savings in tuning efforts of RMSprop over SGD or 'plain' momentum are undisputed on this task. \n",
        "\n",
        "Moreover, adaptive optimization methods are currently a highly active research domain, with many related algorithms like Adam, AMSgrad, Adagrad being used in practical application and theoretically investigated. "
      ]
    },
    {
      "cell_type": "markdown",
      "metadata": {
        "execution": {},
        "id": "J8bUn2tOw2v_"
      },
      "source": [
        "### Locality of Gradients\n",
        "As we've seen throught this tutorial, poor conditioning can be a significant burden on convergence to an optimum while using gradient based optimization. Of the methods we've seen to deal with this issue, notice how both momentum and adaptive learning rates incorperate past gradient values into their update schemes. Why do we use past values of our loss function's gradient while updating our current MLP weights?\n",
        "\n",
        "Recall from W1D2 that the gradient of a function, $\\nabla f(w_t)$, is a **local** property and computes the direction of maximum change of $f(w_t)$ at the point $w_t$. However, when we train our MLP model we are hoping to find the __global__ optimum for our training loss. By incorperating past values of our function's gradient into our optimization schemes, we use more information about the overall shape of our function than just a single gradient alone can provide. "
      ]
    },
    {
      "cell_type": "markdown",
      "metadata": {
        "execution": {},
        "id": "Exe42BZIw2v_"
      },
      "source": [
        "## Think! 7: Loss function and optimization\n",
        "\n",
        "Can you think of other ways we can incorperate more information about our loss function into our optimization schemes?"
      ]
    },
    {
      "cell_type": "code",
      "metadata": {
        "cellView": "form",
        "execution": {},
        "id": "JUgEBBN5w2v_"
      },
      "source": [
        "# @title Student Response\n",
        "from ipywidgets import widgets\n",
        "\n",
        "\n",
        "text=widgets.Textarea(\n",
        "   value='Type your answer here and click on `Submit!`',\n",
        "   placeholder='Type something',\n",
        "   description='',\n",
        "   disabled=False\n",
        ")\n",
        "\n",
        "button = widgets.Button(description=\"Submit!\")\n",
        "\n",
        "display(text,button)\n",
        "\n",
        "def on_button_clicked(b):\n",
        "   atform.add_answer('q4' , text.value)\n",
        "   print(\"Submission successful!\")"
      ],
      "execution_count": null,
      "outputs": []
    },
    {
      "cell_type": "markdown",
      "metadata": {
        "execution": {},
        "id": "Wgipekcvw2v_"
      },
      "source": [
        "[*Click for solution*](https://github.com/NeuromatchAcademy/course-content-dl/tree/main//tutorials/W1D4_Optimization/solutions/W1D4_Tutorial1_Solution_a3f4354b.py)\n",
        "\n"
      ]
    },
    {
      "cell_type": "markdown",
      "metadata": {
        "execution": {},
        "id": "vRT9ji33w2wA"
      },
      "source": [
        "---\n",
        "# Section 8: Ethical concerns\n",
        "\n",
        "*Time estimate: ~15mins*"
      ]
    },
    {
      "cell_type": "code",
      "metadata": {
        "cellView": "form",
        "execution": {},
        "id": "c1YtxRviw2wA"
      },
      "source": [
        "# @title Video 8: Ethical concerns\n",
        "from ipywidgets import widgets\n",
        "\n",
        "out2 = widgets.Output()\n",
        "with out2:\n",
        "  from IPython.display import IFrame\n",
        "  class BiliVideo(IFrame):\n",
        "    def __init__(self, id, page=1, width=400, height=300, **kwargs):\n",
        "      self.id=id\n",
        "      src = \"https://player.bilibili.com/player.html?bvid={0}&page={1}\".format(id, page)\n",
        "      super(BiliVideo, self).__init__(src, width, height, **kwargs)\n",
        "\n",
        "  video = BiliVideo(id=f\"BV1TU4y1G7Je\", width=854, height=480, fs=1)\n",
        "  print(\"Video available at https://www.bilibili.com/video/{0}\".format(video.id))\n",
        "  display(video)\n",
        "\n",
        "out1 = widgets.Output()\n",
        "with out1:\n",
        "  from IPython.display import YouTubeVideo\n",
        "  video = YouTubeVideo(id=f\"0EthSI0cknI\", width=854, height=480, fs=1, rel=0)\n",
        "  print(\"Video available at https://youtube.com/watch?v=\" + video.id)\n",
        "  display(video)\n",
        "\n",
        "out = widgets.Tab([out1, out2])\n",
        "out.set_title(0, 'Youtube')\n",
        "out.set_title(1, 'Bilibili')\n",
        "\n",
        "# add event to airtable\n",
        "atform.add_event('Video 8: Ethical concerns')\n",
        "\n",
        "display(out)"
      ],
      "execution_count": null,
      "outputs": []
    },
    {
      "cell_type": "markdown",
      "metadata": {
        "execution": {},
        "id": "CePdrrgRw2wA"
      },
      "source": [
        "---\n",
        "# Summary\n",
        "\n",
        "* Optimization is necessary to create Deep Learning models that are guaranteed to converge \n",
        "* Stochastic Gradient Descent and Momentum are two commonly used optimization techniques\n",
        "* RMSProp is a way of adaptive hyper parameter tuning which utilises a per-dimension learning rate\n",
        "* Poor choice of optimization objectives can lead to unforeseen, undesirable consequences \n",
        "\n",
        "If you have time left, you can read the Bonus material, were we put all together and we compare our model with a benchmark model."
      ]
    },
    {
      "cell_type": "code",
      "metadata": {
        "cellView": "form",
        "execution": {},
        "id": "f1g1vFLdw2wA"
      },
      "source": [
        "# @title Airtable Submission Link\n",
        "from IPython import display as IPydisplay\n",
        "IPydisplay.HTML(\n",
        "   f\"\"\"\n",
        " <div>\n",
        "   <a href= \"{atform.url()}\" target=\"_blank\">\n",
        "   <img src=\"https://github.com/NeuromatchAcademy/course-content-dl/blob/main/tutorials/static/SurveyButton.png?raw=1\"\n",
        " alt=\"button link end of day Survey\" style=\"width:410px\"></a>\n",
        "   </div>\"\"\" )"
      ],
      "execution_count": null,
      "outputs": []
    },
    {
      "cell_type": "markdown",
      "metadata": {
        "execution": {},
        "id": "RjOJVNJQw2wA"
      },
      "source": [
        "---\n",
        "# Bonus: Putting it all together\n",
        "\n",
        "*Time estimate: ~40 mins*"
      ]
    },
    {
      "cell_type": "markdown",
      "metadata": {
        "execution": {},
        "id": "8hAekPozw2wA"
      },
      "source": [
        "We have progressively built a sophisticated optimization algorithm which is able to deal with a non-convex, poor-conditioned problem concerning tens of thousands of training examples. Now we present _you_ with a small challenge: beat us! :P\n",
        "\n",
        "Your mission is to train an MLP model that can compete with a benchmark model which we have pre-trained for you. In this section you will be able to use the full Pytorch power: loading the data, defining the model, sampling minibatches as well as Pytorch's **optimizer implementations**. \n",
        "\n",
        "There is a big engineering component behind the design of optimizers and their implementation can sometimes become tricky. So unless you are directly doing research in optimization, it's recommended to use an implementation provided by a widely reviewed open-source library."
      ]
    },
    {
      "cell_type": "code",
      "metadata": {
        "cellView": "form",
        "execution": {},
        "id": "nZbn-yOuw2wA"
      },
      "source": [
        "# @title Video 9: Putting it all together\n",
        "from ipywidgets import widgets\n",
        "\n",
        "out2 = widgets.Output()\n",
        "with out2:\n",
        "  from IPython.display import IFrame\n",
        "  class BiliVideo(IFrame):\n",
        "    def __init__(self, id, page=1, width=400, height=300, **kwargs):\n",
        "      self.id=id\n",
        "      src = \"https://player.bilibili.com/player.html?bvid={0}&page={1}\".format(id, page)\n",
        "      super(BiliVideo, self).__init__(src, width, height, **kwargs)\n",
        "\n",
        "  video = BiliVideo(id=f\"BV1MK4y1u7u2\", width=854, height=480, fs=1)\n",
        "  print(\"Video available at https://www.bilibili.com/video/{0}\".format(video.id))\n",
        "  display(video)\n",
        "\n",
        "out1 = widgets.Output()\n",
        "with out1:\n",
        "  from IPython.display import YouTubeVideo\n",
        "  video = YouTubeVideo(id=f\"DP9c13vLiOM\", width=854, height=480, fs=1, rel=0)\n",
        "  print(\"Video available at https://youtube.com/watch?v=\" + video.id)\n",
        "  display(video)\n",
        "\n",
        "out = widgets.Tab([out1, out2])\n",
        "out.set_title(0, 'Youtube')\n",
        "out.set_title(1, 'Bilibili')\n",
        "\n",
        "# add event to airtable\n",
        "atform.add_event('Video 9: Putting it all together')\n",
        "\n",
        "display(out)"
      ],
      "execution_count": null,
      "outputs": []
    },
    {
      "cell_type": "code",
      "metadata": {
        "cellView": "form",
        "execution": {},
        "id": "aSjSzBcXw2wA"
      },
      "source": [
        "# @title Download parameters of the benchmark model\n",
        "import requests\n",
        "\n",
        "fname = 'benchmark_model.pt'\n",
        "url = \"https://osf.io/sj4e8/download\"\n",
        "r = requests.get(url, allow_redirects=True)\n",
        "with open(fname, 'wb') as fh:\n",
        "  fh.write(r.content)\n",
        "\n",
        "# Load the benchmark model's parameters\n",
        "DEVICE = set_device()\n",
        "if DEVICE == \"cuda\":\n",
        "  benchmark_state_dict = torch.load(fname)\n",
        "else:\n",
        "  benchmark_state_dict = torch.load(fname, map_location=torch.device('cpu'))"
      ],
      "execution_count": null,
      "outputs": []
    },
    {
      "cell_type": "code",
      "metadata": {
        "execution": {},
        "id": "hkUUXuSow2wB"
      },
      "source": [
        "# Create MLP object and update weights with those of saved model\n",
        "benchmark_model = MLP(in_dim=784, out_dim=10,\n",
        "                      hidden_dims=[200, 100, 50]).to(DEVICE)\n",
        "benchmark_model.load_state_dict(benchmark_state_dict)\n",
        "\n",
        "\n",
        "# Define helper function to evaluate models\n",
        "def eval_model(model, data_loader, num_batches=np.inf, device='cpu'):\n",
        "\n",
        "  loss_log, acc_log = [], []\n",
        "  model.to(device=device)\n",
        "\n",
        "  # We are just evaluating the model, no need to compute gradients\n",
        "  with torch.no_grad():\n",
        "    for batch_id, batch in enumerate(data_loader):\n",
        "      # If we only evaluate a number of batches, stop after we reach that number\n",
        "      if batch_id > num_batches:\n",
        "        break\n",
        "      # Extract minibatch data\n",
        "      data, labels = batch[0].to(device), batch[1].to(device)\n",
        "      # Evaluate model and loss on minibatch\n",
        "      preds = model(data)\n",
        "      loss_log.append(loss_fn(preds, labels).item())\n",
        "      acc_log.append(torch.mean(1. * (preds.argmax(dim=1) == labels)).item())\n",
        "\n",
        "  return np.mean(loss_log), np.mean(acc_log)"
      ],
      "execution_count": null,
      "outputs": []
    },
    {
      "cell_type": "markdown",
      "metadata": {
        "execution": {},
        "id": "sJjk9_WCw2wB"
      },
      "source": [
        "We define an optimizer in the following steps:\n",
        "\n",
        "1. Load  the corresponding class that implements the parameter updates and other internal management activities, including:\n",
        "    - create auxiliary variables,\n",
        "    - update moving averages,\n",
        "    - adjust learning rate.\n",
        "2. Pass the parameters of the Pytorch model that the optimizer has control over. Note that different parameter groups can potentially be controlled by different optimizers.\n",
        "3. Specify hyperparameters, including learning rate, momentum, moving average factors, etc.\n",
        "\n"
      ]
    },
    {
      "cell_type": "markdown",
      "metadata": {
        "execution": {},
        "id": "2QaeOlgpw2wB"
      },
      "source": [
        "## Exercise Bonus: Train your own model\n",
        "\n",
        "Now, train the model with your preferred optimizer and find a good combination of hyperparameter settings."
      ]
    },
    {
      "cell_type": "code",
      "metadata": {
        "execution": {},
        "id": "JuzUQnrlw2wB"
      },
      "source": [
        "#################################################\n",
        "## TODO for students: adjust training settings ##\n",
        "\n",
        "# The three parameters below are in your full control\n",
        "MAX_EPOCHS = 2  # select number of epochs to train\n",
        "LR = 1e-5  # choose the step size\n",
        "BATCH_SIZE = 64  # number of examples per minibatch\n",
        "\n",
        "# Define the model and associated optimizer -- you may change its architecture!\n",
        "model = MLP(in_dim=784, out_dim=10, hidden_dims=[200, 100, 50]).to(DEVICE)\n",
        "\n",
        "# You can take your pick from many different optimizers\n",
        "# Check the optimizer documentation and hyperparameter meaning before using!\n",
        "# More details on Pytorch optimizers: https://pytorch.org/docs/stable/optim.html\n",
        "# optimizer = torch.optim.SGD(model.parameters(), lr=LR, momentum=0.9)\n",
        "# optimizer = torch.optim.RMSprop(model.parameters(), lr=LR, alpha=0.99)\n",
        "# optimizer = torch.optim.Adagrad(model.parameters(), lr=LR)\n",
        "optimizer = torch.optim.Adam(model.parameters(), lr=LR)\n",
        "#################################################"
      ],
      "execution_count": null,
      "outputs": []
    },
    {
      "cell_type": "code",
      "metadata": {
        "execution": {},
        "id": "mNrqeXeBw2wB"
      },
      "source": [
        "set_seed(seed=SEED)\n",
        "# Print trainig stats every LOG_FREQ minibatches\n",
        "LOG_FREQ = 200\n",
        "# Frequency for evaluating the validation metrics\n",
        "VAL_FREQ = 200\n",
        "# Load data using a Pytorch Dataset\n",
        "train_set_orig, test_set_orig = load_mnist_data(change_tensors=False)\n",
        "\n",
        "# We separate 10,000 training samples to create a validation set\n",
        "train_set_orig, val_set_orig = torch.utils.data.random_split(train_set, [50000, 10000])\n",
        "\n",
        "# Create the corresponding DataLoaders for training and test\n",
        "g_seed = torch.Generator()\n",
        "g_seed.manual_seed(SEED)\n",
        "\n",
        "train_loader = torch.utils.data.DataLoader(train_set_orig,\n",
        "                                           shuffle=True,\n",
        "                                           batch_size=BATCH_SIZE,\n",
        "                                           worker_init_fn=seed_worker,\n",
        "                                           generator=g_seed)\n",
        "val_loader = torch.utils.data.DataLoader(val_set_orig,\n",
        "                                         shuffle=True,\n",
        "                                         batch_size=256,\n",
        "                                         worker_init_fn=seed_worker,\n",
        "                                         generator=g_seed)\n",
        "test_loader = torch.utils.data.DataLoader(test_set_orig,\n",
        "                                          batch_size=256,\n",
        "                                          worker_init_fn=seed_worker,\n",
        "                                          generator=g_seed)\n",
        "\n",
        "# Run training\n",
        "metrics = {'train_loss':[],\n",
        "           'train_acc':[],\n",
        "           'val_loss':[],\n",
        "           'val_acc':[],\n",
        "           'val_idx':[]}\n",
        "\n",
        "step_idx = 0\n",
        "for epoch in tqdm(range(MAX_EPOCHS)):\n",
        "\n",
        "  running_loss, running_acc = 0., 0.\n",
        "\n",
        "  for batch_id, batch in enumerate(train_loader):\n",
        "    step_idx += 1\n",
        "    # Extract minibatch data and labels\n",
        "    data, labels = batch[0].to(DEVICE), batch[1].to(DEVICE)\n",
        "    # Just like before, refresh gradient accumulators.\n",
        "    # Note that this is now a method of the optimizer.\n",
        "    optimizer.zero_grad()\n",
        "    # Evaluate model and loss on minibatch\n",
        "    preds = model(data)\n",
        "    loss = loss_fn(preds, labels)\n",
        "    acc = torch.mean(1.0 * (preds.argmax(dim=1) == labels))\n",
        "    # Compute gradients\n",
        "    loss.backward()\n",
        "    # Update parameters\n",
        "    # Note how all the magic in the update of the parameters is encapsulated by\n",
        "    # the optimizer class.\n",
        "    optimizer.step()\n",
        "    # Log metrics for plotting\n",
        "    metrics['train_loss'].append(loss.cpu().item())\n",
        "    metrics['train_acc'].append(acc.cpu().item())\n",
        "\n",
        "    if batch_id % VAL_FREQ == (VAL_FREQ - 1):\n",
        "      # Get an estimate of the validation accuracy with 100 batches\n",
        "      val_loss, val_acc = eval_model(model, val_loader,\n",
        "                                     num_batches=100,\n",
        "                                     device=DEVICE)\n",
        "      metrics['val_idx'].append(step_idx)\n",
        "      metrics['val_loss'].append(val_loss)\n",
        "      metrics['val_acc'].append(val_acc)\n",
        "\n",
        "      print(f\"[VALID] Epoch {epoch + 1} - Batch {batch_id + 1} - \"\n",
        "            f\"Loss: {val_loss:.3f} - Acc: {100*val_acc:.3f}%\")\n",
        "\n",
        "    # print statistics\n",
        "    running_loss += loss.cpu().item()\n",
        "    running_acc += acc.cpu().item()\n",
        "    # Print every LOG_FREQ minibatches\n",
        "    if batch_id % LOG_FREQ == (LOG_FREQ-1):\n",
        "      print(f\"[TRAIN] Epoch {epoch + 1} - Batch {batch_id + 1} - \"\n",
        "            f\"Loss: {running_loss / LOG_FREQ:.3f} - \"\n",
        "            f\"Acc: {100 * running_acc / LOG_FREQ:.3f}%\")\n",
        "\n",
        "      running_loss, running_acc = 0., 0."
      ],
      "execution_count": null,
      "outputs": []
    },
    {
      "cell_type": "code",
      "metadata": {
        "execution": {},
        "id": "pRKnqcWyw2wB"
      },
      "source": [
        "fig, ax = plt.subplots(1, 2, figsize=(10, 4))\n",
        "\n",
        "ax[0].plot(range(len(metrics['train_loss'])), metrics['train_loss'],\n",
        "           alpha=0.8, label='Train')\n",
        "ax[0].plot(metrics['val_idx'], metrics['val_loss'], label='Valid')\n",
        "ax[0].set_xlabel('Iteration')\n",
        "ax[0].set_ylabel('Loss')\n",
        "ax[0].legend()\n",
        "\n",
        "ax[1].plot(range(len(metrics['train_acc'])), metrics['train_acc'],\n",
        "           alpha=0.8, label='Train')\n",
        "ax[1].plot(metrics['val_idx'], metrics['val_acc'], label='Valid')\n",
        "ax[1].set_xlabel('Iteration')\n",
        "ax[1].set_ylabel('Accuracy')\n",
        "ax[1].legend()\n",
        "plt.tight_layout()\n",
        "plt.show()"
      ],
      "execution_count": null,
      "outputs": []
    },
    {
      "cell_type": "markdown",
      "metadata": {
        "execution": {},
        "id": "y8zWc8vpw2wC"
      },
      "source": [
        "## Think! Bonus: Metrics\n",
        "\n",
        "Which metric did you optimize when searching for the right configuration? The training set loss? Accuracy? Validation/test set metrics? Why? Discuss!"
      ]
    },
    {
      "cell_type": "markdown",
      "metadata": {
        "execution": {},
        "id": "11WvexY7w2wC"
      },
      "source": [
        "[*Click for solution*](https://github.com/NeuromatchAcademy/course-content-dl/tree/main//tutorials/W1D4_Optimization/solutions/W1D4_Tutorial1_Solution_093a66ad.py)\n",
        "\n"
      ]
    },
    {
      "cell_type": "markdown",
      "metadata": {
        "execution": {},
        "id": "MBisjSnCw2wC"
      },
      "source": [
        "### Evaluation\n",
        "\n",
        "We _finally_ can evaluate and compare the performance of the models on previously unseen examples. \n",
        "\n",
        "Which model would you keep? (\\*drum roll*)    "
      ]
    },
    {
      "cell_type": "code",
      "metadata": {
        "execution": {},
        "id": "tWPBQKzVw2wC"
      },
      "source": [
        "print('Your model...')\n",
        "train_loss, train_accuracy = eval_model(my_model, train_loader, device=DEVICE)\n",
        "test_loss, test_accuracy = eval_model(my_model, test_loader, device=DEVICE)\n",
        "print(f'Train Loss {train_loss:.3f} / Test Loss {test_loss:.3f}')\n",
        "print(f'Train Accuracy {100*train_accuracy:.3f}% / Test Accuracy {100*test_accuracy:.3f}%')\n",
        "\n",
        "print('\\nBenchmark model')\n",
        "train_loss, train_accuracy = eval_model(benchmark_model, train_loader, device=DEVICE)\n",
        "test_loss, test_accuracy = eval_model(benchmark_model, test_loader, device=DEVICE)\n",
        "print(f'Train Loss {train_loss:.3f} / Test Loss {test_loss:.3f}')\n",
        "print(f'Train Accuracy {100*train_accuracy:.3f}% / Test Accuracy {100*test_accuracy:.3f}%')"
      ],
      "execution_count": null,
      "outputs": []
    }
  ]
}