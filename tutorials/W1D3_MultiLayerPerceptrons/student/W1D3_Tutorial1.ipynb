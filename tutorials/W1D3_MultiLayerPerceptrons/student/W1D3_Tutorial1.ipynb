{
  "nbformat": 4,
  "nbformat_minor": 0,
  "metadata": {
    "colab": {
      "name": "W1D3_Tutorial1",
      "provenance": [],
      "collapsed_sections": [],
      "toc_visible": true,
      "include_colab_link": true
    },
    "kernel": {
      "display_name": "Python 3",
      "language": "python",
      "name": "python3"
    },
    "kernelspec": {
      "display_name": "Python 3",
      "name": "python3"
    },
    "language_info": {
      "codemirror_mode": {
        "name": "ipython",
        "version": 3
      },
      "file_extension": ".py",
      "mimetype": "text/x-python",
      "name": "python",
      "nbconvert_exporter": "python",
      "pygments_lexer": "ipython3",
      "version": "3.7.11"
    },
    "widgets": {
      "application/vnd.jupyter.widget-state+json": {
        "14f8ed834d234dfb93870fe17d657d3c": {
          "model_module": "@jupyter-widgets/controls",
          "model_name": "TabModel",
          "state": {
            "_view_name": "TabView",
            "_dom_classes": [],
            "_titles": {
              "0": "Youtube",
              "1": "Bilibili"
            },
            "_model_name": "TabModel",
            "_view_module": "@jupyter-widgets/controls",
            "selected_index": 0,
            "_model_module_version": "1.5.0",
            "_view_count": null,
            "_view_module_version": "1.5.0",
            "box_style": "",
            "layout": "IPY_MODEL_dabeebc338b348f68db1cc12e4b63dd9",
            "_model_module": "@jupyter-widgets/controls",
            "children": [
              "IPY_MODEL_85105a5c6f5d47368a836d6e93e18c46",
              "IPY_MODEL_e4ca748ffb5146a8a6fdff3b1ec7febc"
            ]
          }
        },
        "dabeebc338b348f68db1cc12e4b63dd9": {
          "model_module": "@jupyter-widgets/base",
          "model_name": "LayoutModel",
          "state": {
            "_view_name": "LayoutView",
            "grid_template_rows": null,
            "right": null,
            "justify_content": null,
            "_view_module": "@jupyter-widgets/base",
            "overflow": null,
            "_model_module_version": "1.2.0",
            "_view_count": null,
            "flex_flow": null,
            "width": null,
            "min_width": null,
            "border": null,
            "align_items": null,
            "bottom": null,
            "_model_module": "@jupyter-widgets/base",
            "top": null,
            "grid_column": null,
            "overflow_y": null,
            "overflow_x": null,
            "grid_auto_flow": null,
            "grid_area": null,
            "grid_template_columns": null,
            "flex": null,
            "_model_name": "LayoutModel",
            "justify_items": null,
            "grid_row": null,
            "max_height": null,
            "align_content": null,
            "visibility": null,
            "align_self": null,
            "height": null,
            "min_height": null,
            "padding": null,
            "grid_auto_rows": null,
            "grid_gap": null,
            "max_width": null,
            "order": null,
            "_view_module_version": "1.2.0",
            "grid_template_areas": null,
            "object_position": null,
            "object_fit": null,
            "grid_auto_columns": null,
            "margin": null,
            "display": null,
            "left": null
          }
        },
        "85105a5c6f5d47368a836d6e93e18c46": {
          "model_module": "@jupyter-widgets/output",
          "model_name": "OutputModel",
          "state": {
            "_view_name": "OutputView",
            "msg_id": "",
            "_dom_classes": [],
            "_model_name": "OutputModel",
            "outputs": [
              {
                "output_type": "stream",
                "metadata": {
                  "tags": []
                },
                "text": "Video available at https://youtube.com/watch?v=Gh0KYl7ViAc\n",
                "stream": "stdout"
              },
              {
                "output_type": "display_data",
                "metadata": {
                  "tags": []
                },
                "text/html": "\n        <iframe\n            width=\"854\"\n            height=\"480\"\n            src=\"https://www.youtube.com/embed/Gh0KYl7ViAc?fs=1&rel=0\"\n            frameborder=\"0\"\n            allowfullscreen\n        ></iframe>\n        ",
                "text/plain": "<IPython.lib.display.YouTubeVideo at 0x7f3f54b675d0>",
                "image/jpeg": "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\n"
              }
            ],
            "_view_module": "@jupyter-widgets/output",
            "_model_module_version": "1.0.0",
            "_view_count": null,
            "_view_module_version": "1.0.0",
            "layout": "IPY_MODEL_a310c4160c4443c4ad2934726cbec921",
            "_model_module": "@jupyter-widgets/output"
          }
        },
        "e4ca748ffb5146a8a6fdff3b1ec7febc": {
          "model_module": "@jupyter-widgets/output",
          "model_name": "OutputModel",
          "state": {
            "_view_name": "OutputView",
            "msg_id": "",
            "_dom_classes": [],
            "_model_name": "OutputModel",
            "outputs": [
              {
                "output_type": "stream",
                "metadata": {
                  "tags": []
                },
                "text": "Video available at https://www.bilibili.com/video/BV1E3411r7TL\n",
                "stream": "stdout"
              },
              {
                "output_type": "display_data",
                "metadata": {
                  "tags": []
                },
                "text/html": "\n        <iframe\n            width=\"854\"\n            height=\"480\"\n            src=\"https://player.bilibili.com/player.html?bvid=BV1E3411r7TL&page=1?fs=1\"\n            frameborder=\"0\"\n            allowfullscreen\n        ></iframe>\n        ",
                "text/plain": "<__main__.BiliVideo at 0x7f3f54709590>"
              }
            ],
            "_view_module": "@jupyter-widgets/output",
            "_model_module_version": "1.0.0",
            "_view_count": null,
            "_view_module_version": "1.0.0",
            "layout": "IPY_MODEL_5a37ef5d98a2463e86d8cd3aa2020ae5",
            "_model_module": "@jupyter-widgets/output"
          }
        },
        "a310c4160c4443c4ad2934726cbec921": {
          "model_module": "@jupyter-widgets/base",
          "model_name": "LayoutModel",
          "state": {
            "_view_name": "LayoutView",
            "grid_template_rows": null,
            "right": null,
            "justify_content": null,
            "_view_module": "@jupyter-widgets/base",
            "overflow": null,
            "_model_module_version": "1.2.0",
            "_view_count": null,
            "flex_flow": null,
            "width": null,
            "min_width": null,
            "border": null,
            "align_items": null,
            "bottom": null,
            "_model_module": "@jupyter-widgets/base",
            "top": null,
            "grid_column": null,
            "overflow_y": null,
            "overflow_x": null,
            "grid_auto_flow": null,
            "grid_area": null,
            "grid_template_columns": null,
            "flex": null,
            "_model_name": "LayoutModel",
            "justify_items": null,
            "grid_row": null,
            "max_height": null,
            "align_content": null,
            "visibility": null,
            "align_self": null,
            "height": null,
            "min_height": null,
            "padding": null,
            "grid_auto_rows": null,
            "grid_gap": null,
            "max_width": null,
            "order": null,
            "_view_module_version": "1.2.0",
            "grid_template_areas": null,
            "object_position": null,
            "object_fit": null,
            "grid_auto_columns": null,
            "margin": null,
            "display": null,
            "left": null
          }
        },
        "5a37ef5d98a2463e86d8cd3aa2020ae5": {
          "model_module": "@jupyter-widgets/base",
          "model_name": "LayoutModel",
          "state": {
            "_view_name": "LayoutView",
            "grid_template_rows": null,
            "right": null,
            "justify_content": null,
            "_view_module": "@jupyter-widgets/base",
            "overflow": null,
            "_model_module_version": "1.2.0",
            "_view_count": null,
            "flex_flow": null,
            "width": null,
            "min_width": null,
            "border": null,
            "align_items": null,
            "bottom": null,
            "_model_module": "@jupyter-widgets/base",
            "top": null,
            "grid_column": null,
            "overflow_y": null,
            "overflow_x": null,
            "grid_auto_flow": null,
            "grid_area": null,
            "grid_template_columns": null,
            "flex": null,
            "_model_name": "LayoutModel",
            "justify_items": null,
            "grid_row": null,
            "max_height": null,
            "align_content": null,
            "visibility": null,
            "align_self": null,
            "height": null,
            "min_height": null,
            "padding": null,
            "grid_auto_rows": null,
            "grid_gap": null,
            "max_width": null,
            "order": null,
            "_view_module_version": "1.2.0",
            "grid_template_areas": null,
            "object_position": null,
            "object_fit": null,
            "grid_auto_columns": null,
            "margin": null,
            "display": null,
            "left": null
          }
        },
        "5e21ad45ff5e45dd9ac9f44845453685": {
          "model_module": "@jupyter-widgets/controls",
          "model_name": "TabModel",
          "state": {
            "_view_name": "TabView",
            "_dom_classes": [],
            "_titles": {
              "0": "Youtube",
              "1": "Bilibili"
            },
            "_model_name": "TabModel",
            "_view_module": "@jupyter-widgets/controls",
            "selected_index": 0,
            "_model_module_version": "1.5.0",
            "_view_count": null,
            "_view_module_version": "1.5.0",
            "box_style": "",
            "layout": "IPY_MODEL_bd7e092f43fa4d09b781d99363408070",
            "_model_module": "@jupyter-widgets/controls",
            "children": [
              "IPY_MODEL_20632456f8274218bcb53801c9512b51",
              "IPY_MODEL_c18e2ff7bc4e491eb016053399001020"
            ]
          }
        },
        "bd7e092f43fa4d09b781d99363408070": {
          "model_module": "@jupyter-widgets/base",
          "model_name": "LayoutModel",
          "state": {
            "_view_name": "LayoutView",
            "grid_template_rows": null,
            "right": null,
            "justify_content": null,
            "_view_module": "@jupyter-widgets/base",
            "overflow": null,
            "_model_module_version": "1.2.0",
            "_view_count": null,
            "flex_flow": null,
            "width": null,
            "min_width": null,
            "border": null,
            "align_items": null,
            "bottom": null,
            "_model_module": "@jupyter-widgets/base",
            "top": null,
            "grid_column": null,
            "overflow_y": null,
            "overflow_x": null,
            "grid_auto_flow": null,
            "grid_area": null,
            "grid_template_columns": null,
            "flex": null,
            "_model_name": "LayoutModel",
            "justify_items": null,
            "grid_row": null,
            "max_height": null,
            "align_content": null,
            "visibility": null,
            "align_self": null,
            "height": null,
            "min_height": null,
            "padding": null,
            "grid_auto_rows": null,
            "grid_gap": null,
            "max_width": null,
            "order": null,
            "_view_module_version": "1.2.0",
            "grid_template_areas": null,
            "object_position": null,
            "object_fit": null,
            "grid_auto_columns": null,
            "margin": null,
            "display": null,
            "left": null
          }
        },
        "20632456f8274218bcb53801c9512b51": {
          "model_module": "@jupyter-widgets/output",
          "model_name": "OutputModel",
          "state": {
            "_view_name": "OutputView",
            "msg_id": "",
            "_dom_classes": [],
            "_model_name": "OutputModel",
            "outputs": [
              {
                "output_type": "stream",
                "metadata": {
                  "tags": []
                },
                "text": "Video available at https://youtube.com/watch?v=tg8HHKo1aH4\n",
                "stream": "stdout"
              },
              {
                "output_type": "display_data",
                "metadata": {
                  "tags": []
                },
                "text/html": "\n        <iframe\n            width=\"854\"\n            height=\"480\"\n            src=\"https://www.youtube.com/embed/tg8HHKo1aH4?fs=1&rel=0\"\n            frameborder=\"0\"\n            allowfullscreen\n        ></iframe>\n        ",
                "text/plain": "<IPython.lib.display.YouTubeVideo at 0x7f3f54b67dd0>",
                "image/jpeg": "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\n"
              }
            ],
            "_view_module": "@jupyter-widgets/output",
            "_model_module_version": "1.0.0",
            "_view_count": null,
            "_view_module_version": "1.0.0",
            "layout": "IPY_MODEL_5ed68213f3f345e59378a4eab4b71b78",
            "_model_module": "@jupyter-widgets/output"
          }
        },
        "c18e2ff7bc4e491eb016053399001020": {
          "model_module": "@jupyter-widgets/output",
          "model_name": "OutputModel",
          "state": {
            "_view_name": "OutputView",
            "msg_id": "",
            "_dom_classes": [],
            "_model_name": "OutputModel",
            "outputs": [
              {
                "output_type": "stream",
                "metadata": {
                  "tags": []
                },
                "text": "Video available at https://www.bilibili.com/video/BV1SP4y147Uv\n",
                "stream": "stdout"
              },
              {
                "output_type": "display_data",
                "metadata": {
                  "tags": []
                },
                "text/html": "\n        <iframe\n            width=\"854\"\n            height=\"480\"\n            src=\"https://player.bilibili.com/player.html?bvid=BV1SP4y147Uv&page=1?fs=1\"\n            frameborder=\"0\"\n            allowfullscreen\n        ></iframe>\n        ",
                "text/plain": "<__main__.BiliVideo at 0x7f3f54b67e90>"
              }
            ],
            "_view_module": "@jupyter-widgets/output",
            "_model_module_version": "1.0.0",
            "_view_count": null,
            "_view_module_version": "1.0.0",
            "layout": "IPY_MODEL_4237ed728d22453492e858ef2199dfe4",
            "_model_module": "@jupyter-widgets/output"
          }
        },
        "5ed68213f3f345e59378a4eab4b71b78": {
          "model_module": "@jupyter-widgets/base",
          "model_name": "LayoutModel",
          "state": {
            "_view_name": "LayoutView",
            "grid_template_rows": null,
            "right": null,
            "justify_content": null,
            "_view_module": "@jupyter-widgets/base",
            "overflow": null,
            "_model_module_version": "1.2.0",
            "_view_count": null,
            "flex_flow": null,
            "width": null,
            "min_width": null,
            "border": null,
            "align_items": null,
            "bottom": null,
            "_model_module": "@jupyter-widgets/base",
            "top": null,
            "grid_column": null,
            "overflow_y": null,
            "overflow_x": null,
            "grid_auto_flow": null,
            "grid_area": null,
            "grid_template_columns": null,
            "flex": null,
            "_model_name": "LayoutModel",
            "justify_items": null,
            "grid_row": null,
            "max_height": null,
            "align_content": null,
            "visibility": null,
            "align_self": null,
            "height": null,
            "min_height": null,
            "padding": null,
            "grid_auto_rows": null,
            "grid_gap": null,
            "max_width": null,
            "order": null,
            "_view_module_version": "1.2.0",
            "grid_template_areas": null,
            "object_position": null,
            "object_fit": null,
            "grid_auto_columns": null,
            "margin": null,
            "display": null,
            "left": null
          }
        },
        "4237ed728d22453492e858ef2199dfe4": {
          "model_module": "@jupyter-widgets/base",
          "model_name": "LayoutModel",
          "state": {
            "_view_name": "LayoutView",
            "grid_template_rows": null,
            "right": null,
            "justify_content": null,
            "_view_module": "@jupyter-widgets/base",
            "overflow": null,
            "_model_module_version": "1.2.0",
            "_view_count": null,
            "flex_flow": null,
            "width": null,
            "min_width": null,
            "border": null,
            "align_items": null,
            "bottom": null,
            "_model_module": "@jupyter-widgets/base",
            "top": null,
            "grid_column": null,
            "overflow_y": null,
            "overflow_x": null,
            "grid_auto_flow": null,
            "grid_area": null,
            "grid_template_columns": null,
            "flex": null,
            "_model_name": "LayoutModel",
            "justify_items": null,
            "grid_row": null,
            "max_height": null,
            "align_content": null,
            "visibility": null,
            "align_self": null,
            "height": null,
            "min_height": null,
            "padding": null,
            "grid_auto_rows": null,
            "grid_gap": null,
            "max_width": null,
            "order": null,
            "_view_module_version": "1.2.0",
            "grid_template_areas": null,
            "object_position": null,
            "object_fit": null,
            "grid_auto_columns": null,
            "margin": null,
            "display": null,
            "left": null
          }
        },
        "26cd8f0e6d554b4ea285f3f976f44881": {
          "model_module": "@jupyter-widgets/controls",
          "model_name": "TabModel",
          "state": {
            "_view_name": "TabView",
            "_dom_classes": [],
            "_titles": {
              "0": "Youtube",
              "1": "Bilibili"
            },
            "_model_name": "TabModel",
            "_view_module": "@jupyter-widgets/controls",
            "selected_index": 0,
            "_model_module_version": "1.5.0",
            "_view_count": null,
            "_view_module_version": "1.5.0",
            "box_style": "",
            "layout": "IPY_MODEL_d7478aae352b4e53ab4664408e745be9",
            "_model_module": "@jupyter-widgets/controls",
            "children": [
              "IPY_MODEL_c85cf6dec2a04f46acacb34d5a4967af",
              "IPY_MODEL_1babd976117844c6911ba83a46a2ece5"
            ]
          }
        },
        "d7478aae352b4e53ab4664408e745be9": {
          "model_module": "@jupyter-widgets/base",
          "model_name": "LayoutModel",
          "state": {
            "_view_name": "LayoutView",
            "grid_template_rows": null,
            "right": null,
            "justify_content": null,
            "_view_module": "@jupyter-widgets/base",
            "overflow": null,
            "_model_module_version": "1.2.0",
            "_view_count": null,
            "flex_flow": null,
            "width": null,
            "min_width": null,
            "border": null,
            "align_items": null,
            "bottom": null,
            "_model_module": "@jupyter-widgets/base",
            "top": null,
            "grid_column": null,
            "overflow_y": null,
            "overflow_x": null,
            "grid_auto_flow": null,
            "grid_area": null,
            "grid_template_columns": null,
            "flex": null,
            "_model_name": "LayoutModel",
            "justify_items": null,
            "grid_row": null,
            "max_height": null,
            "align_content": null,
            "visibility": null,
            "align_self": null,
            "height": null,
            "min_height": null,
            "padding": null,
            "grid_auto_rows": null,
            "grid_gap": null,
            "max_width": null,
            "order": null,
            "_view_module_version": "1.2.0",
            "grid_template_areas": null,
            "object_position": null,
            "object_fit": null,
            "grid_auto_columns": null,
            "margin": null,
            "display": null,
            "left": null
          }
        },
        "c85cf6dec2a04f46acacb34d5a4967af": {
          "model_module": "@jupyter-widgets/output",
          "model_name": "OutputModel",
          "state": {
            "_view_name": "OutputView",
            "msg_id": "",
            "_dom_classes": [],
            "_model_name": "OutputModel",
            "outputs": [
              {
                "output_type": "stream",
                "metadata": {
                  "tags": []
                },
                "text": "Video available at https://youtube.com/watch?v=XtwLnaYJ7uc\n",
                "stream": "stdout"
              },
              {
                "output_type": "display_data",
                "metadata": {
                  "tags": []
                },
                "text/html": "\n        <iframe\n            width=\"854\"\n            height=\"480\"\n            src=\"https://www.youtube.com/embed/XtwLnaYJ7uc?fs=1&rel=0\"\n            frameborder=\"0\"\n            allowfullscreen\n        ></iframe>\n        ",
                "text/plain": "<IPython.lib.display.YouTubeVideo at 0x7f3f546e2810>",
                "image/jpeg": "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\n"
              }
            ],
            "_view_module": "@jupyter-widgets/output",
            "_model_module_version": "1.0.0",
            "_view_count": null,
            "_view_module_version": "1.0.0",
            "layout": "IPY_MODEL_bbdfb3ad5d4c46fb83dbd39b11803ab6",
            "_model_module": "@jupyter-widgets/output"
          }
        },
        "1babd976117844c6911ba83a46a2ece5": {
          "model_module": "@jupyter-widgets/output",
          "model_name": "OutputModel",
          "state": {
            "_view_name": "OutputView",
            "msg_id": "",
            "_dom_classes": [],
            "_model_name": "OutputModel",
            "outputs": [
              {
                "output_type": "stream",
                "metadata": {
                  "tags": []
                },
                "text": "Video available at https://www.bilibili.com/video/BV1zh411z7LY\n",
                "stream": "stdout"
              },
              {
                "output_type": "display_data",
                "metadata": {
                  "tags": []
                },
                "text/html": "\n        <iframe\n            width=\"854\"\n            height=\"480\"\n            src=\"https://player.bilibili.com/player.html?bvid=BV1zh411z7LY&page=1?fs=1\"\n            frameborder=\"0\"\n            allowfullscreen\n        ></iframe>\n        ",
                "text/plain": "<__main__.BiliVideo at 0x7f3f4c4d8d10>"
              }
            ],
            "_view_module": "@jupyter-widgets/output",
            "_model_module_version": "1.0.0",
            "_view_count": null,
            "_view_module_version": "1.0.0",
            "layout": "IPY_MODEL_cb29185ec8864ec3b5a5f9b585166320",
            "_model_module": "@jupyter-widgets/output"
          }
        },
        "bbdfb3ad5d4c46fb83dbd39b11803ab6": {
          "model_module": "@jupyter-widgets/base",
          "model_name": "LayoutModel",
          "state": {
            "_view_name": "LayoutView",
            "grid_template_rows": null,
            "right": null,
            "justify_content": null,
            "_view_module": "@jupyter-widgets/base",
            "overflow": null,
            "_model_module_version": "1.2.0",
            "_view_count": null,
            "flex_flow": null,
            "width": null,
            "min_width": null,
            "border": null,
            "align_items": null,
            "bottom": null,
            "_model_module": "@jupyter-widgets/base",
            "top": null,
            "grid_column": null,
            "overflow_y": null,
            "overflow_x": null,
            "grid_auto_flow": null,
            "grid_area": null,
            "grid_template_columns": null,
            "flex": null,
            "_model_name": "LayoutModel",
            "justify_items": null,
            "grid_row": null,
            "max_height": null,
            "align_content": null,
            "visibility": null,
            "align_self": null,
            "height": null,
            "min_height": null,
            "padding": null,
            "grid_auto_rows": null,
            "grid_gap": null,
            "max_width": null,
            "order": null,
            "_view_module_version": "1.2.0",
            "grid_template_areas": null,
            "object_position": null,
            "object_fit": null,
            "grid_auto_columns": null,
            "margin": null,
            "display": null,
            "left": null
          }
        },
        "cb29185ec8864ec3b5a5f9b585166320": {
          "model_module": "@jupyter-widgets/base",
          "model_name": "LayoutModel",
          "state": {
            "_view_name": "LayoutView",
            "grid_template_rows": null,
            "right": null,
            "justify_content": null,
            "_view_module": "@jupyter-widgets/base",
            "overflow": null,
            "_model_module_version": "1.2.0",
            "_view_count": null,
            "flex_flow": null,
            "width": null,
            "min_width": null,
            "border": null,
            "align_items": null,
            "bottom": null,
            "_model_module": "@jupyter-widgets/base",
            "top": null,
            "grid_column": null,
            "overflow_y": null,
            "overflow_x": null,
            "grid_auto_flow": null,
            "grid_area": null,
            "grid_template_columns": null,
            "flex": null,
            "_model_name": "LayoutModel",
            "justify_items": null,
            "grid_row": null,
            "max_height": null,
            "align_content": null,
            "visibility": null,
            "align_self": null,
            "height": null,
            "min_height": null,
            "padding": null,
            "grid_auto_rows": null,
            "grid_gap": null,
            "max_width": null,
            "order": null,
            "_view_module_version": "1.2.0",
            "grid_template_areas": null,
            "object_position": null,
            "object_fit": null,
            "grid_auto_columns": null,
            "margin": null,
            "display": null,
            "left": null
          }
        },
        "a4a0878aa7d54e00ac055d1f090f3f75": {
          "model_module": "@jupyter-widgets/controls",
          "model_name": "TabModel",
          "state": {
            "_view_name": "TabView",
            "_dom_classes": [],
            "_titles": {
              "0": "Youtube",
              "1": "Bilibili"
            },
            "_model_name": "TabModel",
            "_view_module": "@jupyter-widgets/controls",
            "selected_index": 0,
            "_model_module_version": "1.5.0",
            "_view_count": null,
            "_view_module_version": "1.5.0",
            "box_style": "",
            "layout": "IPY_MODEL_cf54f355ec064627842d060cfe6a2c9d",
            "_model_module": "@jupyter-widgets/controls",
            "children": [
              "IPY_MODEL_2e0d8778f4964586b8d5ddca9f9bb2c3",
              "IPY_MODEL_fdc74ca0aaf741ba8a2e11412468882c"
            ]
          }
        },
        "cf54f355ec064627842d060cfe6a2c9d": {
          "model_module": "@jupyter-widgets/base",
          "model_name": "LayoutModel",
          "state": {
            "_view_name": "LayoutView",
            "grid_template_rows": null,
            "right": null,
            "justify_content": null,
            "_view_module": "@jupyter-widgets/base",
            "overflow": null,
            "_model_module_version": "1.2.0",
            "_view_count": null,
            "flex_flow": null,
            "width": null,
            "min_width": null,
            "border": null,
            "align_items": null,
            "bottom": null,
            "_model_module": "@jupyter-widgets/base",
            "top": null,
            "grid_column": null,
            "overflow_y": null,
            "overflow_x": null,
            "grid_auto_flow": null,
            "grid_area": null,
            "grid_template_columns": null,
            "flex": null,
            "_model_name": "LayoutModel",
            "justify_items": null,
            "grid_row": null,
            "max_height": null,
            "align_content": null,
            "visibility": null,
            "align_self": null,
            "height": null,
            "min_height": null,
            "padding": null,
            "grid_auto_rows": null,
            "grid_gap": null,
            "max_width": null,
            "order": null,
            "_view_module_version": "1.2.0",
            "grid_template_areas": null,
            "object_position": null,
            "object_fit": null,
            "grid_auto_columns": null,
            "margin": null,
            "display": null,
            "left": null
          }
        },
        "2e0d8778f4964586b8d5ddca9f9bb2c3": {
          "model_module": "@jupyter-widgets/output",
          "model_name": "OutputModel",
          "state": {
            "_view_name": "OutputView",
            "msg_id": "",
            "_dom_classes": [],
            "_model_name": "OutputModel",
            "outputs": [
              {
                "output_type": "stream",
                "metadata": {
                  "tags": []
                },
                "text": "Video available at https://youtube.com/watch?v=N8pVCbTlves\n",
                "stream": "stdout"
              },
              {
                "output_type": "display_data",
                "metadata": {
                  "tags": []
                },
                "text/html": "\n        <iframe\n            width=\"854\"\n            height=\"480\"\n            src=\"https://www.youtube.com/embed/N8pVCbTlves?fs=1&rel=0\"\n            frameborder=\"0\"\n            allowfullscreen\n        ></iframe>\n        ",
                "text/plain": "<IPython.lib.display.YouTubeVideo at 0x7f3f546e2810>",
                "image/jpeg": "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\n"
              }
            ],
            "_view_module": "@jupyter-widgets/output",
            "_model_module_version": "1.0.0",
            "_view_count": null,
            "_view_module_version": "1.0.0",
            "layout": "IPY_MODEL_bcd678f698344b86a9f2756d749ec7be",
            "_model_module": "@jupyter-widgets/output"
          }
        },
        "fdc74ca0aaf741ba8a2e11412468882c": {
          "model_module": "@jupyter-widgets/output",
          "model_name": "OutputModel",
          "state": {
            "_view_name": "OutputView",
            "msg_id": "",
            "_dom_classes": [],
            "_model_name": "OutputModel",
            "outputs": [
              {
                "output_type": "stream",
                "metadata": {
                  "tags": []
                },
                "text": "Video available at https://www.bilibili.com/video/BV1Ag41177mB\n",
                "stream": "stdout"
              },
              {
                "output_type": "display_data",
                "metadata": {
                  "tags": []
                },
                "text/html": "\n        <iframe\n            width=\"854\"\n            height=\"480\"\n            src=\"https://player.bilibili.com/player.html?bvid=BV1Ag41177mB&page=1?fs=1\"\n            frameborder=\"0\"\n            allowfullscreen\n        ></iframe>\n        ",
                "text/plain": "<__main__.BiliVideo at 0x7f3f54522090>"
              }
            ],
            "_view_module": "@jupyter-widgets/output",
            "_model_module_version": "1.0.0",
            "_view_count": null,
            "_view_module_version": "1.0.0",
            "layout": "IPY_MODEL_2114610818e44a5ea4316fee2ddb661b",
            "_model_module": "@jupyter-widgets/output"
          }
        },
        "bcd678f698344b86a9f2756d749ec7be": {
          "model_module": "@jupyter-widgets/base",
          "model_name": "LayoutModel",
          "state": {
            "_view_name": "LayoutView",
            "grid_template_rows": null,
            "right": null,
            "justify_content": null,
            "_view_module": "@jupyter-widgets/base",
            "overflow": null,
            "_model_module_version": "1.2.0",
            "_view_count": null,
            "flex_flow": null,
            "width": null,
            "min_width": null,
            "border": null,
            "align_items": null,
            "bottom": null,
            "_model_module": "@jupyter-widgets/base",
            "top": null,
            "grid_column": null,
            "overflow_y": null,
            "overflow_x": null,
            "grid_auto_flow": null,
            "grid_area": null,
            "grid_template_columns": null,
            "flex": null,
            "_model_name": "LayoutModel",
            "justify_items": null,
            "grid_row": null,
            "max_height": null,
            "align_content": null,
            "visibility": null,
            "align_self": null,
            "height": null,
            "min_height": null,
            "padding": null,
            "grid_auto_rows": null,
            "grid_gap": null,
            "max_width": null,
            "order": null,
            "_view_module_version": "1.2.0",
            "grid_template_areas": null,
            "object_position": null,
            "object_fit": null,
            "grid_auto_columns": null,
            "margin": null,
            "display": null,
            "left": null
          }
        },
        "2114610818e44a5ea4316fee2ddb661b": {
          "model_module": "@jupyter-widgets/base",
          "model_name": "LayoutModel",
          "state": {
            "_view_name": "LayoutView",
            "grid_template_rows": null,
            "right": null,
            "justify_content": null,
            "_view_module": "@jupyter-widgets/base",
            "overflow": null,
            "_model_module_version": "1.2.0",
            "_view_count": null,
            "flex_flow": null,
            "width": null,
            "min_width": null,
            "border": null,
            "align_items": null,
            "bottom": null,
            "_model_module": "@jupyter-widgets/base",
            "top": null,
            "grid_column": null,
            "overflow_y": null,
            "overflow_x": null,
            "grid_auto_flow": null,
            "grid_area": null,
            "grid_template_columns": null,
            "flex": null,
            "_model_name": "LayoutModel",
            "justify_items": null,
            "grid_row": null,
            "max_height": null,
            "align_content": null,
            "visibility": null,
            "align_self": null,
            "height": null,
            "min_height": null,
            "padding": null,
            "grid_auto_rows": null,
            "grid_gap": null,
            "max_width": null,
            "order": null,
            "_view_module_version": "1.2.0",
            "grid_template_areas": null,
            "object_position": null,
            "object_fit": null,
            "grid_auto_columns": null,
            "margin": null,
            "display": null,
            "left": null
          }
        },
        "bd52f682cb3e4978bc08bc27a717e8fe": {
          "model_module": "@jupyter-widgets/controls",
          "model_name": "TabModel",
          "state": {
            "_view_name": "TabView",
            "_dom_classes": [],
            "_titles": {
              "0": "Youtube",
              "1": "Bilibili"
            },
            "_model_name": "TabModel",
            "_view_module": "@jupyter-widgets/controls",
            "selected_index": 0,
            "_model_module_version": "1.5.0",
            "_view_count": null,
            "_view_module_version": "1.5.0",
            "box_style": "",
            "layout": "IPY_MODEL_a9b7e9ad8a524501864c46a85df8c7ae",
            "_model_module": "@jupyter-widgets/controls",
            "children": [
              "IPY_MODEL_85d51cd248c5442c92fcb9c5bcb401d1",
              "IPY_MODEL_fb4b2d4c4bbd46f2b4bc2017e5f780f7"
            ]
          }
        },
        "a9b7e9ad8a524501864c46a85df8c7ae": {
          "model_module": "@jupyter-widgets/base",
          "model_name": "LayoutModel",
          "state": {
            "_view_name": "LayoutView",
            "grid_template_rows": null,
            "right": null,
            "justify_content": null,
            "_view_module": "@jupyter-widgets/base",
            "overflow": null,
            "_model_module_version": "1.2.0",
            "_view_count": null,
            "flex_flow": null,
            "width": null,
            "min_width": null,
            "border": null,
            "align_items": null,
            "bottom": null,
            "_model_module": "@jupyter-widgets/base",
            "top": null,
            "grid_column": null,
            "overflow_y": null,
            "overflow_x": null,
            "grid_auto_flow": null,
            "grid_area": null,
            "grid_template_columns": null,
            "flex": null,
            "_model_name": "LayoutModel",
            "justify_items": null,
            "grid_row": null,
            "max_height": null,
            "align_content": null,
            "visibility": null,
            "align_self": null,
            "height": null,
            "min_height": null,
            "padding": null,
            "grid_auto_rows": null,
            "grid_gap": null,
            "max_width": null,
            "order": null,
            "_view_module_version": "1.2.0",
            "grid_template_areas": null,
            "object_position": null,
            "object_fit": null,
            "grid_auto_columns": null,
            "margin": null,
            "display": null,
            "left": null
          }
        },
        "85d51cd248c5442c92fcb9c5bcb401d1": {
          "model_module": "@jupyter-widgets/output",
          "model_name": "OutputModel",
          "state": {
            "_view_name": "OutputView",
            "msg_id": "",
            "_dom_classes": [],
            "_model_name": "OutputModel",
            "outputs": [
              {
                "output_type": "stream",
                "metadata": {
                  "tags": []
                },
                "text": "Video available at https://youtube.com/watch?v=DfXZhRfBEqQ\n",
                "stream": "stdout"
              },
              {
                "output_type": "display_data",
                "metadata": {
                  "tags": []
                },
                "text/html": "\n        <iframe\n            width=\"854\"\n            height=\"480\"\n            src=\"https://www.youtube.com/embed/DfXZhRfBEqQ?fs=1&rel=0\"\n            frameborder=\"0\"\n            allowfullscreen\n        ></iframe>\n        ",
                "text/plain": "<IPython.lib.display.YouTubeVideo at 0x7f3f4c02ec90>",
                "image/jpeg": "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\n"
              }
            ],
            "_view_module": "@jupyter-widgets/output",
            "_model_module_version": "1.0.0",
            "_view_count": null,
            "_view_module_version": "1.0.0",
            "layout": "IPY_MODEL_ba52ad6ae35d4b3f8a3cf42aee5af922",
            "_model_module": "@jupyter-widgets/output"
          }
        },
        "fb4b2d4c4bbd46f2b4bc2017e5f780f7": {
          "model_module": "@jupyter-widgets/output",
          "model_name": "OutputModel",
          "state": {
            "_view_name": "OutputView",
            "msg_id": "",
            "_dom_classes": [],
            "_model_name": "OutputModel",
            "outputs": [
              {
                "output_type": "stream",
                "metadata": {
                  "tags": []
                },
                "text": "Video available at https://www.bilibili.com/video/BV1QV411p7mF\n",
                "stream": "stdout"
              },
              {
                "output_type": "display_data",
                "metadata": {
                  "tags": []
                },
                "text/html": "\n        <iframe\n            width=\"854\"\n            height=\"480\"\n            src=\"https://player.bilibili.com/player.html?bvid=BV1QV411p7mF&page=1?fs=1\"\n            frameborder=\"0\"\n            allowfullscreen\n        ></iframe>\n        ",
                "text/plain": "<__main__.BiliVideo at 0x7f3f4c4c4450>"
              }
            ],
            "_view_module": "@jupyter-widgets/output",
            "_model_module_version": "1.0.0",
            "_view_count": null,
            "_view_module_version": "1.0.0",
            "layout": "IPY_MODEL_e8fa52a7e0cc4478aeb8ec6f343e041a",
            "_model_module": "@jupyter-widgets/output"
          }
        },
        "ba52ad6ae35d4b3f8a3cf42aee5af922": {
          "model_module": "@jupyter-widgets/base",
          "model_name": "LayoutModel",
          "state": {
            "_view_name": "LayoutView",
            "grid_template_rows": null,
            "right": null,
            "justify_content": null,
            "_view_module": "@jupyter-widgets/base",
            "overflow": null,
            "_model_module_version": "1.2.0",
            "_view_count": null,
            "flex_flow": null,
            "width": null,
            "min_width": null,
            "border": null,
            "align_items": null,
            "bottom": null,
            "_model_module": "@jupyter-widgets/base",
            "top": null,
            "grid_column": null,
            "overflow_y": null,
            "overflow_x": null,
            "grid_auto_flow": null,
            "grid_area": null,
            "grid_template_columns": null,
            "flex": null,
            "_model_name": "LayoutModel",
            "justify_items": null,
            "grid_row": null,
            "max_height": null,
            "align_content": null,
            "visibility": null,
            "align_self": null,
            "height": null,
            "min_height": null,
            "padding": null,
            "grid_auto_rows": null,
            "grid_gap": null,
            "max_width": null,
            "order": null,
            "_view_module_version": "1.2.0",
            "grid_template_areas": null,
            "object_position": null,
            "object_fit": null,
            "grid_auto_columns": null,
            "margin": null,
            "display": null,
            "left": null
          }
        },
        "e8fa52a7e0cc4478aeb8ec6f343e041a": {
          "model_module": "@jupyter-widgets/base",
          "model_name": "LayoutModel",
          "state": {
            "_view_name": "LayoutView",
            "grid_template_rows": null,
            "right": null,
            "justify_content": null,
            "_view_module": "@jupyter-widgets/base",
            "overflow": null,
            "_model_module_version": "1.2.0",
            "_view_count": null,
            "flex_flow": null,
            "width": null,
            "min_width": null,
            "border": null,
            "align_items": null,
            "bottom": null,
            "_model_module": "@jupyter-widgets/base",
            "top": null,
            "grid_column": null,
            "overflow_y": null,
            "overflow_x": null,
            "grid_auto_flow": null,
            "grid_area": null,
            "grid_template_columns": null,
            "flex": null,
            "_model_name": "LayoutModel",
            "justify_items": null,
            "grid_row": null,
            "max_height": null,
            "align_content": null,
            "visibility": null,
            "align_self": null,
            "height": null,
            "min_height": null,
            "padding": null,
            "grid_auto_rows": null,
            "grid_gap": null,
            "max_width": null,
            "order": null,
            "_view_module_version": "1.2.0",
            "grid_template_areas": null,
            "object_position": null,
            "object_fit": null,
            "grid_auto_columns": null,
            "margin": null,
            "display": null,
            "left": null
          }
        },
        "a4cd3340af7644ec9dc661a3faa33767": {
          "model_module": "@jupyter-widgets/controls",
          "model_name": "TextareaModel",
          "state": {
            "_view_name": "TextareaView",
            "style": "IPY_MODEL_84c01d36202d4e2c938000ec77d6866c",
            "rows": null,
            "_dom_classes": [],
            "description": "",
            "_model_name": "TextareaModel",
            "placeholder": "Type something",
            "_view_module": "@jupyter-widgets/controls",
            "_model_module_version": "1.5.0",
            "value": "Type answer here and Push submit",
            "_view_count": null,
            "disabled": false,
            "_view_module_version": "1.5.0",
            "continuous_update": true,
            "description_tooltip": null,
            "_model_module": "@jupyter-widgets/controls",
            "layout": "IPY_MODEL_f8a25c2e14b54328aabfca5d8ad94e6f"
          }
        },
        "84c01d36202d4e2c938000ec77d6866c": {
          "model_module": "@jupyter-widgets/controls",
          "model_name": "DescriptionStyleModel",
          "state": {
            "_view_name": "StyleView",
            "_model_name": "DescriptionStyleModel",
            "description_width": "",
            "_view_module": "@jupyter-widgets/base",
            "_model_module_version": "1.5.0",
            "_view_count": null,
            "_view_module_version": "1.2.0",
            "_model_module": "@jupyter-widgets/controls"
          }
        },
        "f8a25c2e14b54328aabfca5d8ad94e6f": {
          "model_module": "@jupyter-widgets/base",
          "model_name": "LayoutModel",
          "state": {
            "_view_name": "LayoutView",
            "grid_template_rows": null,
            "right": null,
            "justify_content": null,
            "_view_module": "@jupyter-widgets/base",
            "overflow": null,
            "_model_module_version": "1.2.0",
            "_view_count": null,
            "flex_flow": null,
            "width": null,
            "min_width": null,
            "border": null,
            "align_items": null,
            "bottom": null,
            "_model_module": "@jupyter-widgets/base",
            "top": null,
            "grid_column": null,
            "overflow_y": null,
            "overflow_x": null,
            "grid_auto_flow": null,
            "grid_area": null,
            "grid_template_columns": null,
            "flex": null,
            "_model_name": "LayoutModel",
            "justify_items": null,
            "grid_row": null,
            "max_height": null,
            "align_content": null,
            "visibility": null,
            "align_self": null,
            "height": null,
            "min_height": null,
            "padding": null,
            "grid_auto_rows": null,
            "grid_gap": null,
            "max_width": null,
            "order": null,
            "_view_module_version": "1.2.0",
            "grid_template_areas": null,
            "object_position": null,
            "object_fit": null,
            "grid_auto_columns": null,
            "margin": null,
            "display": null,
            "left": null
          }
        },
        "58d02ead042b42efaf6b3ce15ee8a5ba": {
          "model_module": "@jupyter-widgets/controls",
          "model_name": "ButtonModel",
          "state": {
            "_view_name": "ButtonView",
            "style": "IPY_MODEL_67a94f58e80e4e44b78d2913b791cc22",
            "_dom_classes": [],
            "description": "Submit!",
            "_model_name": "ButtonModel",
            "button_style": "",
            "_view_module": "@jupyter-widgets/controls",
            "_model_module_version": "1.5.0",
            "tooltip": "",
            "_view_count": null,
            "disabled": false,
            "_view_module_version": "1.5.0",
            "layout": "IPY_MODEL_8483caf62c7f490eaeed056003f133ae",
            "_model_module": "@jupyter-widgets/controls",
            "icon": ""
          }
        },
        "67a94f58e80e4e44b78d2913b791cc22": {
          "model_module": "@jupyter-widgets/controls",
          "model_name": "ButtonStyleModel",
          "state": {
            "_view_name": "StyleView",
            "_model_name": "ButtonStyleModel",
            "_view_module": "@jupyter-widgets/base",
            "_model_module_version": "1.5.0",
            "_view_count": null,
            "button_color": null,
            "font_weight": "",
            "_view_module_version": "1.2.0",
            "_model_module": "@jupyter-widgets/controls"
          }
        },
        "8483caf62c7f490eaeed056003f133ae": {
          "model_module": "@jupyter-widgets/base",
          "model_name": "LayoutModel",
          "state": {
            "_view_name": "LayoutView",
            "grid_template_rows": null,
            "right": null,
            "justify_content": null,
            "_view_module": "@jupyter-widgets/base",
            "overflow": null,
            "_model_module_version": "1.2.0",
            "_view_count": null,
            "flex_flow": null,
            "width": null,
            "min_width": null,
            "border": null,
            "align_items": null,
            "bottom": null,
            "_model_module": "@jupyter-widgets/base",
            "top": null,
            "grid_column": null,
            "overflow_y": null,
            "overflow_x": null,
            "grid_auto_flow": null,
            "grid_area": null,
            "grid_template_columns": null,
            "flex": null,
            "_model_name": "LayoutModel",
            "justify_items": null,
            "grid_row": null,
            "max_height": null,
            "align_content": null,
            "visibility": null,
            "align_self": null,
            "height": null,
            "min_height": null,
            "padding": null,
            "grid_auto_rows": null,
            "grid_gap": null,
            "max_width": null,
            "order": null,
            "_view_module_version": "1.2.0",
            "grid_template_areas": null,
            "object_position": null,
            "object_fit": null,
            "grid_auto_columns": null,
            "margin": null,
            "display": null,
            "left": null
          }
        },
        "4bb9a37f04e3433d9be50b85a578c48b": {
          "model_module": "@jupyter-widgets/controls",
          "model_name": "TabModel",
          "state": {
            "_view_name": "TabView",
            "_dom_classes": [],
            "_titles": {
              "0": "Youtube",
              "1": "Bilibili"
            },
            "_model_name": "TabModel",
            "_view_module": "@jupyter-widgets/controls",
            "selected_index": 0,
            "_model_module_version": "1.5.0",
            "_view_count": null,
            "_view_module_version": "1.5.0",
            "box_style": "",
            "layout": "IPY_MODEL_aef6d485586142328b9648a5c95466c7",
            "_model_module": "@jupyter-widgets/controls",
            "children": [
              "IPY_MODEL_e40555767a1f438f9c78290d3527c012",
              "IPY_MODEL_64a1dad9a4554f1faa04ef9b8cebe535"
            ]
          }
        },
        "aef6d485586142328b9648a5c95466c7": {
          "model_module": "@jupyter-widgets/base",
          "model_name": "LayoutModel",
          "state": {
            "_view_name": "LayoutView",
            "grid_template_rows": null,
            "right": null,
            "justify_content": null,
            "_view_module": "@jupyter-widgets/base",
            "overflow": null,
            "_model_module_version": "1.2.0",
            "_view_count": null,
            "flex_flow": null,
            "width": null,
            "min_width": null,
            "border": null,
            "align_items": null,
            "bottom": null,
            "_model_module": "@jupyter-widgets/base",
            "top": null,
            "grid_column": null,
            "overflow_y": null,
            "overflow_x": null,
            "grid_auto_flow": null,
            "grid_area": null,
            "grid_template_columns": null,
            "flex": null,
            "_model_name": "LayoutModel",
            "justify_items": null,
            "grid_row": null,
            "max_height": null,
            "align_content": null,
            "visibility": null,
            "align_self": null,
            "height": null,
            "min_height": null,
            "padding": null,
            "grid_auto_rows": null,
            "grid_gap": null,
            "max_width": null,
            "order": null,
            "_view_module_version": "1.2.0",
            "grid_template_areas": null,
            "object_position": null,
            "object_fit": null,
            "grid_auto_columns": null,
            "margin": null,
            "display": null,
            "left": null
          }
        },
        "e40555767a1f438f9c78290d3527c012": {
          "model_module": "@jupyter-widgets/output",
          "model_name": "OutputModel",
          "state": {
            "_view_name": "OutputView",
            "msg_id": "",
            "_dom_classes": [],
            "_model_name": "OutputModel",
            "outputs": [
              {
                "output_type": "stream",
                "metadata": {
                  "tags": []
                },
                "text": "Video available at https://youtube.com/watch?v=ELAbflymSLo\n",
                "stream": "stdout"
              },
              {
                "output_type": "display_data",
                "metadata": {
                  "tags": []
                },
                "text/html": "\n        <iframe\n            width=\"854\"\n            height=\"480\"\n            src=\"https://www.youtube.com/embed/ELAbflymSLo?fs=1&rel=0\"\n            frameborder=\"0\"\n            allowfullscreen\n        ></iframe>\n        ",
                "text/plain": "<IPython.lib.display.YouTubeVideo at 0x7f3f54b67e90>",
                "image/jpeg": "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\n"
              }
            ],
            "_view_module": "@jupyter-widgets/output",
            "_model_module_version": "1.0.0",
            "_view_count": null,
            "_view_module_version": "1.0.0",
            "layout": "IPY_MODEL_7cf72a337f6b438c9233220052768838",
            "_model_module": "@jupyter-widgets/output"
          }
        },
        "64a1dad9a4554f1faa04ef9b8cebe535": {
          "model_module": "@jupyter-widgets/output",
          "model_name": "OutputModel",
          "state": {
            "_view_name": "OutputView",
            "msg_id": "",
            "_dom_classes": [],
            "_model_name": "OutputModel",
            "outputs": [
              {
                "output_type": "stream",
                "metadata": {
                  "tags": []
                },
                "text": "Video available at https://www.bilibili.com/video/BV1mf4y157vf\n",
                "stream": "stdout"
              },
              {
                "output_type": "display_data",
                "metadata": {
                  "tags": []
                },
                "text/html": "\n        <iframe\n            width=\"854\"\n            height=\"480\"\n            src=\"https://player.bilibili.com/player.html?bvid=BV1mf4y157vf&page=1?fs=1\"\n            frameborder=\"0\"\n            allowfullscreen\n        ></iframe>\n        ",
                "text/plain": "<__main__.BiliVideo at 0x7f3f54b67bd0>"
              }
            ],
            "_view_module": "@jupyter-widgets/output",
            "_model_module_version": "1.0.0",
            "_view_count": null,
            "_view_module_version": "1.0.0",
            "layout": "IPY_MODEL_cc5915486f7a4f13ba44a0063fcfd7b9",
            "_model_module": "@jupyter-widgets/output"
          }
        },
        "7cf72a337f6b438c9233220052768838": {
          "model_module": "@jupyter-widgets/base",
          "model_name": "LayoutModel",
          "state": {
            "_view_name": "LayoutView",
            "grid_template_rows": null,
            "right": null,
            "justify_content": null,
            "_view_module": "@jupyter-widgets/base",
            "overflow": null,
            "_model_module_version": "1.2.0",
            "_view_count": null,
            "flex_flow": null,
            "width": null,
            "min_width": null,
            "border": null,
            "align_items": null,
            "bottom": null,
            "_model_module": "@jupyter-widgets/base",
            "top": null,
            "grid_column": null,
            "overflow_y": null,
            "overflow_x": null,
            "grid_auto_flow": null,
            "grid_area": null,
            "grid_template_columns": null,
            "flex": null,
            "_model_name": "LayoutModel",
            "justify_items": null,
            "grid_row": null,
            "max_height": null,
            "align_content": null,
            "visibility": null,
            "align_self": null,
            "height": null,
            "min_height": null,
            "padding": null,
            "grid_auto_rows": null,
            "grid_gap": null,
            "max_width": null,
            "order": null,
            "_view_module_version": "1.2.0",
            "grid_template_areas": null,
            "object_position": null,
            "object_fit": null,
            "grid_auto_columns": null,
            "margin": null,
            "display": null,
            "left": null
          }
        },
        "cc5915486f7a4f13ba44a0063fcfd7b9": {
          "model_module": "@jupyter-widgets/base",
          "model_name": "LayoutModel",
          "state": {
            "_view_name": "LayoutView",
            "grid_template_rows": null,
            "right": null,
            "justify_content": null,
            "_view_module": "@jupyter-widgets/base",
            "overflow": null,
            "_model_module_version": "1.2.0",
            "_view_count": null,
            "flex_flow": null,
            "width": null,
            "min_width": null,
            "border": null,
            "align_items": null,
            "bottom": null,
            "_model_module": "@jupyter-widgets/base",
            "top": null,
            "grid_column": null,
            "overflow_y": null,
            "overflow_x": null,
            "grid_auto_flow": null,
            "grid_area": null,
            "grid_template_columns": null,
            "flex": null,
            "_model_name": "LayoutModel",
            "justify_items": null,
            "grid_row": null,
            "max_height": null,
            "align_content": null,
            "visibility": null,
            "align_self": null,
            "height": null,
            "min_height": null,
            "padding": null,
            "grid_auto_rows": null,
            "grid_gap": null,
            "max_width": null,
            "order": null,
            "_view_module_version": "1.2.0",
            "grid_template_areas": null,
            "object_position": null,
            "object_fit": null,
            "grid_auto_columns": null,
            "margin": null,
            "display": null,
            "left": null
          }
        }
      }
    }
  },
  "cells": [
    {
      "cell_type": "markdown",
      "metadata": {
        "id": "view-in-github",
        "colab_type": "text"
      },
      "source": [
        "<a href=\"https://colab.research.google.com/github/MyronZhang13/Numpy-and-Pandas/blob/main/tutorials/W1D3_MultiLayerPerceptrons/student/W1D3_Tutorial1.ipynb\" target=\"_parent\"><img src=\"https://colab.research.google.com/assets/colab-badge.svg\" alt=\"Open In Colab\"/></a>"
      ]
    },
    {
      "cell_type": "markdown",
      "metadata": {
        "execution": {},
        "id": "cuvjiwalq5kZ"
      },
      "source": [
        "# Tutorial 1: Biological vs. Artificial Neural Networks\n",
        "\n",
        "**Week 1, Day 3: Multi Layer Perceptrons**\n",
        "\n",
        "**By Neuromatch Academy**\n",
        "\n",
        "__Content creators:__ Arash Ash, Surya Ganguli\n",
        "\n",
        "__Content reviewers:__ Saeed Salehi, Felix Bartsch, Yu-Fang Yang, Antoine De Comite, Melvin Selim Atay, Kelson Shilling-Scrivo\n",
        "\n",
        "__Content editors:__ Gagana B, Kelson Shilling-Scrivo, Spiros Chavlis\n",
        "\n",
        "__Production editors:__ Anoop Kulkarni, Kelson Shilling-Scrivo, Spiros Chavlis"
      ]
    },
    {
      "cell_type": "markdown",
      "metadata": {
        "execution": {},
        "id": "T6ZFuRDuq5kb"
      },
      "source": [
        "**Our 2021 Sponsors, including Presenting Sponsor Facebook Reality Labs**\n",
        "\n",
        "<p align='center'><img src='https://github.com/NeuromatchAcademy/widgets/blob/master/sponsors.png?raw=True'/></p>"
      ]
    },
    {
      "cell_type": "markdown",
      "metadata": {
        "execution": {},
        "id": "tf3lCoeaq5kc"
      },
      "source": [
        "---\n",
        "# Tutorial objectives\n",
        "\n",
        "In this tutorial, we will explore the Multi-layer Perceptrons (MLPs). MLPs are arguably one of the most tractable models (due to their flexibility) that we can use to study deep learning fundamentals. Here we will learn why they are: \n",
        "\n",
        "* similar to biological networks\n",
        "* good at function approximation\n",
        "* implemented the way they are in PyTorch"
      ]
    },
    {
      "cell_type": "code",
      "metadata": {
        "cellView": "form",
        "execution": {},
        "id": "bFHFUgG0q5kd",
        "outputId": "9d181f61-b65f-4bfa-a74b-d1b48a00216c",
        "colab": {
          "base_uri": "https://localhost:8080/",
          "height": 500
        }
      },
      "source": [
        "# @title Tutorial slides\n",
        "\n",
        "# @markdown These are the slides for the videos in all tutorials today\n",
        "from IPython.display import IFrame\n",
        "IFrame(src=f\"https://mfr.ca-1.osf.io/render?url=https://osf.io/4ye56/?direct%26mode=render%26action=download%26mode=render\", width=854, height=480)"
      ],
      "execution_count": 1,
      "outputs": [
        {
          "output_type": "execute_result",
          "data": {
            "text/html": [
              "\n",
              "        <iframe\n",
              "            width=\"854\"\n",
              "            height=\"480\"\n",
              "            src=\"https://mfr.ca-1.osf.io/render?url=https://osf.io/4ye56/?direct%26mode=render%26action=download%26mode=render\"\n",
              "            frameborder=\"0\"\n",
              "            allowfullscreen\n",
              "        ></iframe>\n",
              "        "
            ],
            "text/plain": [
              "<IPython.lib.display.IFrame at 0x7f3fb08cf3d0>"
            ]
          },
          "metadata": {
            "tags": []
          },
          "execution_count": 1
        }
      ]
    },
    {
      "cell_type": "markdown",
      "metadata": {
        "execution": {},
        "id": "-rekRnrWq5kd"
      },
      "source": [
        "---\n",
        "# Setup\n",
        "\n",
        "This is a GPU free notebook!"
      ]
    },
    {
      "cell_type": "code",
      "metadata": {
        "cellView": "form",
        "execution": {},
        "id": "7cyr5m4mq5ke"
      },
      "source": [
        "# @title Install dependencies\n",
        "!pip install git+https://github.com/NeuromatchAcademy/evaltools --quiet\n",
        "from evaltools.airtable import AirtableForm\n",
        "\n",
        "# generate airtable form\n",
        "atform = AirtableForm('appn7VdPRseSoMXEG','W1D3_T1','https://portal.neuromatchacademy.org/api/redirect/to/9c55f6cb-cdf9-4429-ac1c-ec44fe64c303')"
      ],
      "execution_count": 3,
      "outputs": []
    },
    {
      "cell_type": "code",
      "metadata": {
        "execution": {},
        "id": "KFJWFIpuq5ke"
      },
      "source": [
        "# Imports\n",
        "import random\n",
        "\n",
        "import torch\n",
        "import numpy as np\n",
        "import matplotlib.pyplot as plt\n",
        "\n",
        "import torch.nn as nn\n",
        "import torch.optim as optim\n",
        "from tqdm.auto import tqdm\n",
        "from IPython.display import display\n",
        "from torch.utils.data import DataLoader, TensorDataset"
      ],
      "execution_count": 4,
      "outputs": []
    },
    {
      "cell_type": "code",
      "metadata": {
        "cellView": "form",
        "execution": {},
        "id": "oAuSF3Faq5kg"
      },
      "source": [
        "# @title Figure settings\n",
        "import ipywidgets as widgets       # interactive display\n",
        "%config InlineBackend.figure_format = 'retina'\n",
        "plt.style.use(\"https://raw.githubusercontent.com/NeuromatchAcademy/content-creation/main/nma.mplstyle\")"
      ],
      "execution_count": 5,
      "outputs": []
    },
    {
      "cell_type": "code",
      "metadata": {
        "cellView": "form",
        "execution": {},
        "id": "OFmDBO4Aq5kg"
      },
      "source": [
        "# @title Plotting functions\n",
        "\n",
        "def imshow(img):\n",
        "  img = img / 2 + 0.5     # unnormalize\n",
        "  npimg = img.numpy()\n",
        "  plt.imshow(np.transpose(npimg, (1, 2, 0)))\n",
        "  plt.axis(False)\n",
        "  plt.show()\n",
        "\n",
        "\n",
        "def plot_function_approximation(x, relu_acts, y_hat):\n",
        "  fig, axes = plt.subplots(2, 1)\n",
        "\n",
        "  # Plot ReLU Activations\n",
        "  axes[0].plot(x, relu_acts.T);\n",
        "  axes[0].set(xlabel='x',\n",
        "              ylabel='Activation',\n",
        "              title='ReLU Activations - Basis Functions')\n",
        "  labels = [f\"ReLU {i + 1}\" for i in range(relu_acts.shape[0])]\n",
        "  axes[0].legend(labels, ncol = 2)\n",
        "\n",
        "  # Plot function approximation\n",
        "  axes[1].plot(x, torch.sin(x), label='truth')\n",
        "  axes[1].plot(x, y_hat, label='estimated')\n",
        "  axes[1].legend()\n",
        "  axes[1].set(xlabel='x',\n",
        "              ylabel='y(x)',\n",
        "              title='Function Approximation')\n",
        "\n",
        "  plt.tight_layout()\n",
        "  plt.show()"
      ],
      "execution_count": 6,
      "outputs": []
    },
    {
      "cell_type": "code",
      "metadata": {
        "cellView": "form",
        "execution": {},
        "id": "7wwtk_0iq5kh"
      },
      "source": [
        "# @title Set random seed\n",
        "\n",
        "# @markdown Executing `set_seed(seed=seed)` you are setting the seed\n",
        "\n",
        "# for DL its critical to set the random seed so that students can have a\n",
        "# baseline to compare their results to expected results.\n",
        "# Read more here: https://pytorch.org/docs/stable/notes/randomness.html\n",
        "\n",
        "# Call `set_seed` function in the exercises to ensure reproducibility.\n",
        "import random\n",
        "import torch\n",
        "\n",
        "def set_seed(seed=None, seed_torch=True):\n",
        "  if seed is None:\n",
        "    seed = np.random.choice(2 ** 32)\n",
        "  random.seed(seed)\n",
        "  np.random.seed(seed)\n",
        "  if seed_torch:\n",
        "    torch.manual_seed(seed)\n",
        "    torch.cuda.manual_seed_all(seed)\n",
        "    torch.cuda.manual_seed(seed)\n",
        "    torch.backends.cudnn.benchmark = False\n",
        "    torch.backends.cudnn.deterministic = True\n",
        "\n",
        "  print(f'Random seed {seed} has been set.')\n",
        "\n",
        "\n",
        "# In case that `DataLoader` is used\n",
        "def seed_worker(worker_id):\n",
        "  worker_seed = torch.initial_seed() % 2**32\n",
        "  np.random.seed(worker_seed)\n",
        "  random.seed(worker_seed)"
      ],
      "execution_count": 7,
      "outputs": []
    },
    {
      "cell_type": "code",
      "metadata": {
        "cellView": "form",
        "execution": {},
        "id": "Hr9TsoAeq5ki"
      },
      "source": [
        "# @title Set device (GPU or CPU). Execute `set_device()`\n",
        "# especially if torch modules used.\n",
        "\n",
        "# inform the user if the notebook uses GPU or CPU.\n",
        "\n",
        "def set_device():\n",
        "  device = \"cuda\" if torch.cuda.is_available() else \"cpu\"\n",
        "  if device != \"cuda\":\n",
        "    print(\"GPU is not enabled in this notebook. \\n\"\n",
        "          \"If you want to enable it, in the menu under `Runtime` -> \\n\"\n",
        "          \"`Hardware accelerator.` and select `GPU` from the dropdown menu\")\n",
        "  else:\n",
        "    print(\"GPU is enabled in this notebook. \\n\"\n",
        "          \"If you want to disable it, in the menu under `Runtime` -> \\n\"\n",
        "          \"`Hardware accelerator.` and select `None` from the dropdown menu\")\n",
        "\n",
        "  return device"
      ],
      "execution_count": 8,
      "outputs": []
    },
    {
      "cell_type": "code",
      "metadata": {
        "execution": {},
        "id": "SnlXDI_0q5ki",
        "outputId": "0551b48c-8269-47c5-d94c-cd70dcf66475",
        "colab": {
          "base_uri": "https://localhost:8080/"
        }
      },
      "source": [
        "SEED = 2021\n",
        "set_seed(seed=SEED)\n",
        "DEVICE = set_device()"
      ],
      "execution_count": 9,
      "outputs": [
        {
          "output_type": "stream",
          "text": [
            "Random seed 2021 has been set.\n",
            "GPU is not enabled in this notebook. \n",
            "If you want to enable it, in the menu under `Runtime` -> \n",
            "`Hardware accelerator.` and select `GPU` from the dropdown menu\n"
          ],
          "name": "stdout"
        }
      ]
    },
    {
      "cell_type": "markdown",
      "metadata": {
        "execution": {},
        "id": "Icqh7q5pq5kj"
      },
      "source": [
        "---\n",
        "# Section 0: Introduction to MLPs"
      ]
    },
    {
      "cell_type": "code",
      "metadata": {
        "cellView": "form",
        "execution": {},
        "id": "3ZDctxJ4q5kj",
        "outputId": "2c39f6a2-e0b3-4220-97d5-1ba7c054cbf6",
        "colab": {
          "base_uri": "https://localhost:8080/",
          "height": 579,
          "referenced_widgets": [
            "14f8ed834d234dfb93870fe17d657d3c",
            "dabeebc338b348f68db1cc12e4b63dd9",
            "85105a5c6f5d47368a836d6e93e18c46",
            "e4ca748ffb5146a8a6fdff3b1ec7febc",
            "a310c4160c4443c4ad2934726cbec921",
            "5a37ef5d98a2463e86d8cd3aa2020ae5"
          ]
        }
      },
      "source": [
        "# @title Video 0: Introduction\n",
        "from ipywidgets import widgets\n",
        "\n",
        "out2 = widgets.Output()\n",
        "with out2:\n",
        "  from IPython.display import IFrame\n",
        "  class BiliVideo(IFrame):\n",
        "    def __init__(self, id, page=1, width=400, height=300, **kwargs):\n",
        "      self.id=id\n",
        "      src = \"https://player.bilibili.com/player.html?bvid={0}&page={1}\".format(id, page)\n",
        "      super(BiliVideo, self).__init__(src, width, height, **kwargs)\n",
        "\n",
        "  video = BiliVideo(id=f\"BV1E3411r7TL\", width=854, height=480, fs=1)\n",
        "  print(\"Video available at https://www.bilibili.com/video/{0}\".format(video.id))\n",
        "  display(video)\n",
        "\n",
        "out1 = widgets.Output()\n",
        "with out1:\n",
        "  from IPython.display import YouTubeVideo\n",
        "  video = YouTubeVideo(id=f\"Gh0KYl7ViAc\", width=854, height=480, fs=1, rel=0)\n",
        "  print(\"Video available at https://youtube.com/watch?v=\" + video.id)\n",
        "  display(video)\n",
        "\n",
        "out = widgets.Tab([out1, out2])\n",
        "out.set_title(0, 'Youtube')\n",
        "out.set_title(1, 'Bilibili')\n",
        "\n",
        "#add event to airtable\n",
        "atform.add_event('Video 0: Introduction')\n",
        "\n",
        "display(out)"
      ],
      "execution_count": 10,
      "outputs": [
        {
          "output_type": "display_data",
          "data": {
            "application/vnd.jupyter.widget-view+json": {
              "model_id": "14f8ed834d234dfb93870fe17d657d3c",
              "version_minor": 0,
              "version_major": 2
            },
            "text/plain": [
              "Tab(children=(Output(), Output()), _titles={'0': 'Youtube', '1': 'Bilibili'})"
            ]
          },
          "metadata": {
            "tags": []
          }
        }
      ]
    },
    {
      "cell_type": "markdown",
      "metadata": {
        "execution": {},
        "id": "3YKle2_-q5kj"
      },
      "source": [
        "---\n",
        "# Section 1: The Need for MLPs\n",
        "\n",
        "*Time estimate: ~35 mins*"
      ]
    },
    {
      "cell_type": "code",
      "metadata": {
        "cellView": "form",
        "execution": {},
        "id": "af-IFb2dq5kk",
        "outputId": "1775518a-4b1e-4627-88f4-f0ec5919d3a4",
        "colab": {
          "base_uri": "https://localhost:8080/",
          "height": 579,
          "referenced_widgets": [
            "5e21ad45ff5e45dd9ac9f44845453685",
            "bd7e092f43fa4d09b781d99363408070",
            "20632456f8274218bcb53801c9512b51",
            "c18e2ff7bc4e491eb016053399001020",
            "5ed68213f3f345e59378a4eab4b71b78",
            "4237ed728d22453492e858ef2199dfe4"
          ]
        }
      },
      "source": [
        "# @title Video 1: Universal Approximation Theorem\n",
        "from ipywidgets import widgets\n",
        "\n",
        "out2 = widgets.Output()\n",
        "with out2:\n",
        "  from IPython.display import IFrame\n",
        "  class BiliVideo(IFrame):\n",
        "    def __init__(self, id, page=1, width=400, height=300, **kwargs):\n",
        "      self.id=id\n",
        "      src = \"https://player.bilibili.com/player.html?bvid={0}&page={1}\".format(id, page)\n",
        "      super(BiliVideo, self).__init__(src, width, height, **kwargs)\n",
        "\n",
        "  video = BiliVideo(id=f\"BV1SP4y147Uv\", width=854, height=480, fs=1)\n",
        "  print(\"Video available at https://www.bilibili.com/video/{0}\".format(video.id))\n",
        "  display(video)\n",
        "\n",
        "out1 = widgets.Output()\n",
        "with out1:\n",
        "  from IPython.display import YouTubeVideo\n",
        "  video = YouTubeVideo(id=f\"tg8HHKo1aH4\", width=854, height=480, fs=1, rel=0)\n",
        "  print(\"Video available at https://youtube.com/watch?v=\" + video.id)\n",
        "  display(video)\n",
        "\n",
        "out = widgets.Tab([out1, out2])\n",
        "out.set_title(0, 'Youtube')\n",
        "out.set_title(1, 'Bilibili')\n",
        "\n",
        "# add event to airtable\n",
        "atform.add_event('Video 1: Universal Approximation Theorem')\n",
        "\n",
        "display(out)"
      ],
      "execution_count": 11,
      "outputs": [
        {
          "output_type": "display_data",
          "data": {
            "application/vnd.jupyter.widget-view+json": {
              "model_id": "5e21ad45ff5e45dd9ac9f44845453685",
              "version_minor": 0,
              "version_major": 2
            },
            "text/plain": [
              "Tab(children=(Output(), Output()), _titles={'0': 'Youtube', '1': 'Bilibili'})"
            ]
          },
          "metadata": {
            "tags": []
          }
        }
      ]
    },
    {
      "cell_type": "markdown",
      "metadata": {
        "execution": {},
        "id": "QqGS8Wvnq5kk"
      },
      "source": [
        "## Coding Exercise 1: Function approximation with ReLU\n",
        "We learned that one hidden layer MLPs are enough to approximate any smooth function! Now let's manually fit a sine function using ReLU activation. \n",
        "\n",
        "We will approximate the sine function using a linear combination (a weighted sum) of ReLUs with slope 1. We need to determine the bias terms (which determines where the ReLU inflection point from 0 to linear occurs) and how to weight each ReLU. The idea is to set the weights iteratively so that the slope changes in the new sample's direction.\n",
        "\n",
        "First, we generate our \"training data\" from a sine function using `torch.sine` function.\n",
        "\n",
        "```python\n",
        ">>> import torch\n",
        ">>> torch.manual_seed(2021)\n",
        "<torch._C.Generator object at 0x7f8734c83830>\n",
        ">>> a = torch.randn(5)\n",
        ">>> print(a)\n",
        "tensor([ 2.2871,  0.6413, -0.8615, -0.3649, -0.6931])\n",
        ">>> torch.sin(a)\n",
        "tensor([ 0.7542,  0.5983, -0.7588, -0.3569, -0.6389])\n",
        "```\n",
        "\n",
        "These are the points we will use to learn how to approximate the function. We have 10 training data points so we will have 9 ReLUs (we don't need a ReLU for the last data point as we don't have anything to the right of it to model). \n",
        "\n",
        "We first need to figure out the bias term for each ReLU and compute the activation of each ReLU where:\n",
        "\n",
        "\\begin{equation}\n",
        "y(x) = \\text{max}(0,x+b)\n",
        "\\end{equation}\n",
        "\n",
        "We then need to figure out the correct weights on each ReLU so the linear combination approximates the desired function."
      ]
    },
    {
      "cell_type": "code",
      "metadata": {
        "execution": {},
        "id": "cMQAwOyNq5kk",
        "outputId": "84b63dac-24da-4607-d827-d78f4eb6d252",
        "colab": {
          "base_uri": "https://localhost:8080/",
          "height": 431
        }
      },
      "source": [
        "def approximate_function(x_train, y_train):\n",
        "\n",
        "  ####################################################################\n",
        "  # Fill in missing code below (...),\n",
        "  # then remove or comment the line below to test your function\n",
        "  #raise NotImplementedError(\"Complete approximate_function!\")\n",
        "  ####################################################################\n",
        "\n",
        "  # Number of relus\n",
        "  n_relus = x_train.shape[0] - 1\n",
        "\n",
        "  # x axis points (more than x train)\n",
        "  x = torch.linspace(torch.min(x_train), torch.max(x_train), 1000)\n",
        "\n",
        "  ## COMPUTE RELU ACTIVATIONS\n",
        "\n",
        "  # First determine what bias terms should be for each of `n_relus` ReLUs\n",
        "  b = -x_train[:-1]\n",
        "\n",
        "  # Compute ReLU activations for each point along the x axis (x)\n",
        "  relu_acts = torch.zeros((n_relus, x.shape[0]))\n",
        "\n",
        "  for i_relu in range(n_relus):\n",
        "    relu_acts[i_relu, :] = torch.relu(x + b[i_relu])\n",
        "\n",
        "  ## COMBINE RELU ACTIVATIONS\n",
        "\n",
        "  # Set up weights for weighted sum of ReLUs\n",
        "  combination_weights = torch.zeros((n_relus, ))\n",
        "\n",
        "  # Figure out weights on each ReLU\n",
        "  prev_slope = 0\n",
        "  for i in range(n_relus):\n",
        "    delta_x = x_train[i+1] - x_train[i]\n",
        "    slope = (y_train[i+1] - y_train[i]) / delta_x\n",
        "    combination_weights[i] = slope=prev_slope\n",
        "    prev_slope = slope\n",
        "\n",
        "  # Get output of weighted sum of ReLU activations for every point along x axis\n",
        "  y_hat =  combination_weights @ relu_acts\n",
        "\n",
        "  return y_hat, relu_acts, x\n",
        "\n",
        "# add event to airtable\n",
        "atform.add_event('Coding Exercise 1: Function approximation with ReLU')\n",
        "\n",
        "\n",
        "# Make training data from sine function\n",
        "N_train = 10\n",
        "x_train = torch.linspace(0, 2*np.pi, N_train).view(-1, 1)\n",
        "y_train = torch.sin(x_train)\n",
        "\n",
        "## Uncomment the lines below to test your function approximation\n",
        "y_hat, relu_acts, x = approximate_function(x_train, y_train)\n",
        "plot_function_approximation(x, relu_acts, y_hat)"
      ],
      "execution_count": 13,
      "outputs": [
        {
          "output_type": "display_data",
          "data": {
            "image/png": "[encoded data removed]",
            "text/plain": [
              "<Figure size 576x432 with 2 Axes>"
            ]
          },
          "metadata": {
            "tags": [],
            "image/png": {
              "width": 558,
              "height": 414
            },
            "needs_background": "light"
          }
        }
      ]
    },
    {
      "cell_type": "markdown",
      "metadata": {
        "execution": {},
        "id": "rUfLDLw1q5kk"
      },
      "source": [
        "[*Click for solution*](https://github.com/NeuromatchAcademy/course-content-dl/tree/main//tutorials/W1D3_MultiLayerPerceptrons/solutions/W1D3_Tutorial1_Solution_e09a57e7.py)\n",
        "\n",
        "*Example output:*\n",
        "\n",
        "<img alt='Solution hint' align='left' width=1120.0 height=832.0 src=https://raw.githubusercontent.com/NeuromatchAcademy/course-content-dl/main/tutorials/W1D3_MultiLayerPerceptrons/static/W1D3_Tutorial1_Solution_e09a57e7_0.png>\n",
        "\n"
      ]
    },
    {
      "cell_type": "markdown",
      "metadata": {
        "execution": {},
        "id": "gj319IDiq5kl"
      },
      "source": [
        "As you see in the top panel, we obtain 10 shifted ReLUs with the same slope. These are the basis functions that MLP uses to span the functional space, i.e., MLP finds a linear combination of these ReLUs."
      ]
    },
    {
      "cell_type": "markdown",
      "metadata": {
        "execution": {},
        "id": "_0-5UFL0q5kl"
      },
      "source": [
        "---\n",
        "# Section 2: MLPs in Pytorch\n",
        "\n",
        "*Time estimate: ~1hr and 20 mins*"
      ]
    },
    {
      "cell_type": "code",
      "metadata": {
        "cellView": "form",
        "execution": {},
        "id": "8rGMIh1Tq5kl",
        "outputId": "ffb3c8f4-6ee7-45dd-f798-dae3eeb0a03a",
        "colab": {
          "base_uri": "https://localhost:8080/",
          "height": 579,
          "referenced_widgets": [
            "26cd8f0e6d554b4ea285f3f976f44881",
            "d7478aae352b4e53ab4664408e745be9",
            "c85cf6dec2a04f46acacb34d5a4967af",
            "1babd976117844c6911ba83a46a2ece5",
            "bbdfb3ad5d4c46fb83dbd39b11803ab6",
            "cb29185ec8864ec3b5a5f9b585166320"
          ]
        }
      },
      "source": [
        "# @title Video 2: Building MLPs in PyTorch\n",
        "from ipywidgets import widgets\n",
        "\n",
        "out2 = widgets.Output()\n",
        "with out2:\n",
        "  from IPython.display import IFrame\n",
        "  class BiliVideo(IFrame):\n",
        "    def __init__(self, id, page=1, width=400, height=300, **kwargs):\n",
        "      self.id=id\n",
        "      src = \"https://player.bilibili.com/player.html?bvid={0}&page={1}\".format(id, page)\n",
        "      super(BiliVideo, self).__init__(src, width, height, **kwargs)\n",
        "\n",
        "  video = BiliVideo(id=f\"BV1zh411z7LY\", width=854, height=480, fs=1)\n",
        "  print(\"Video available at https://www.bilibili.com/video/{0}\".format(video.id))\n",
        "  display(video)\n",
        "\n",
        "out1 = widgets.Output()\n",
        "with out1:\n",
        "  from IPython.display import YouTubeVideo\n",
        "  video = YouTubeVideo(id=f\"XtwLnaYJ7uc\", width=854, height=480, fs=1, rel=0)\n",
        "  print(\"Video available at https://youtube.com/watch?v=\" + video.id)\n",
        "  display(video)\n",
        "\n",
        "out = widgets.Tab([out1, out2])\n",
        "out.set_title(0, 'Youtube')\n",
        "out.set_title(1, 'Bilibili')\n",
        "\n",
        "# add event to airtable\n",
        "atform.add_event('Video 2: Building MLPs in PyTorch')\n",
        "\n",
        "display(out)"
      ],
      "execution_count": 14,
      "outputs": [
        {
          "output_type": "display_data",
          "data": {
            "application/vnd.jupyter.widget-view+json": {
              "model_id": "26cd8f0e6d554b4ea285f3f976f44881",
              "version_minor": 0,
              "version_major": 2
            },
            "text/plain": [
              "Tab(children=(Output(), Output()), _titles={'0': 'Youtube', '1': 'Bilibili'})"
            ]
          },
          "metadata": {
            "tags": []
          }
        }
      ]
    },
    {
      "cell_type": "markdown",
      "metadata": {
        "execution": {},
        "id": "-WATyj8Lq5kl"
      },
      "source": [
        "In the previous segment, we implemented a function to approximate any smooth function using MLPs. We saw that using Lipschitz continuity; we can prove that our approximation is mathematically correct. MLPs are fascinating, but before we get into the details on designing them, let's familiarize ourselves with some basic terminology of MLPs- layer, neuron, depth, width, weight, bias, and activation function. Armed with these ideas, we can now design an MLP given its input, hidden layers, and output size."
      ]
    },
    {
      "cell_type": "markdown",
      "metadata": {
        "execution": {},
        "id": "5e4gLyJGq5km"
      },
      "source": [
        "## Coding Exercise 2: Implement a general-purpose MLP in Pytorch\n",
        "The objective is to design an MLP with these properties:\n",
        "* works with any input (1D, 2D, etc.)\n",
        "* construct any number of given hidden layers using `nn.Sequential()` and `add_module()` function\n",
        "* use the same given activation function (i.e., [Leaky ReLU](https://pytorch.org/docs/stable/generated/torch.nn.LeakyReLU.html)) in all hidden layers.\n",
        "\n",
        "**Leaky ReLU** is described by the following mathematical formula:\n",
        "\n",
        "\\begin{equation}\n",
        "\\text{LeakyReLU}(x) = \\text{max}(0,x) + \\text{negative_slope} \\cdot \\text{min}(0, x) =\n",
        "\\left\\{\n",
        "  \\begin{array}{ll}\n",
        "  x & ,\\; \\text{if} \\; x \\ge 0 \\\\\n",
        "  \\text{negative_slope} \\cdot x & ,\\;  \\text{otherwise}\n",
        "  \\end{array}\n",
        "\\right.\n",
        "\\end{equation}"
      ]
    },
    {
      "cell_type": "code",
      "metadata": {
        "execution": {},
        "id": "GgOhTgtvq5km"
      },
      "source": [
        "class Net(nn.Module):\n",
        "  def __init__(self, actv, input_feature_num, hidden_unit_nums, output_feature_num):\n",
        "    super(Net, self).__init__()\n",
        "    self.input_feature_num = input_feature_num # save the input size for reshapinng later\n",
        "    self.mlp = nn.Sequential() # Initialize layers of MLP\n",
        "\n",
        "    in_num = input_feature_num # initialize the temporary input feature to each layer\n",
        "    for i in range(len(hidden_unit_nums)): # Loop over layers and create each one\n",
        "\n",
        "      ####################################################################\n",
        "      # Fill in missing code below (...),\n",
        "      # then remove or comment the line below to test your function\n",
        "      #raise NotImplementedError(\"Create MLP Layer\")\n",
        "      ####################################################################\n",
        "\n",
        "      out_num = hidden_unit_nums[i] # assign the current layer hidden unit from list\n",
        "      layer = nn.Linear(in_num, out_num) # use nn.Linear to define the layer\n",
        "      in_num = out_num # assign next layer input using current layer output\n",
        "      self.mlp.add_module('Linear_%d'%i, layer) # append layer to the model with a name\n",
        "\n",
        "      actv_layer = eval('nn.%s'%actv) # Assign activation function (eval allows us to instantiate object from string)\n",
        "      self.mlp.add_module('Activation_%d'%i, actv_layer) # append activation to the model with a name\n",
        "\n",
        "    out_layer = nn.Linear(in_num, output_feature_num) # Create final layer\n",
        "    self.mlp.add_module('Output_Linear', out_layer) # append the final layer\n",
        "\n",
        "  def forward(self, x):\n",
        "    # reshape inputs to (batch_size, input_feature_num)\n",
        "    # just in case the input vector is not 2D, like an image!\n",
        "    x = x.view(-1, self.input_feature_num)\n",
        "\n",
        "    ####################################################################\n",
        "    # Fill in missing code below (...),\n",
        "    # then remove or comment the line below to test your function\n",
        "    raise NotImplementedError(\"Run MLP model\")\n",
        "    ####################################################################\n",
        "\n",
        "    logits = ... # forward pass of MLP\n",
        "    return logits\n",
        "\n",
        "# add event to airtable\n",
        "atform.add_event('Coding Exercise 2: Implement a general-purpose MLP in Pytorch')\n",
        "\n",
        "\n",
        "input = torch.zeros((100, 2))\n",
        "## Uncomment below to create network and test it on input\n",
        "# net = Net(actv='LeakyReLU(0.1)', input_feature_num=2, hidden_unit_nums=[100, 10, 5], output_feature_num=1).to(DEVICE)\n",
        "# y = net(input.to(DEVICE))\n",
        "# print(f'The output shape is {y.shape} for an input of shape {input.shape}')"
      ],
      "execution_count": null,
      "outputs": []
    },
    {
      "cell_type": "markdown",
      "metadata": {
        "execution": {},
        "id": "ECvZPAl_q5km"
      },
      "source": [
        "[*Click for solution*](https://github.com/NeuromatchAcademy/course-content-dl/tree/main//tutorials/W1D3_MultiLayerPerceptrons/solutions/W1D3_Tutorial1_Solution_b0675c60.py)\n",
        "\n"
      ]
    },
    {
      "cell_type": "markdown",
      "metadata": {
        "execution": {},
        "id": "LYTS8lXJq5km"
      },
      "source": [
        "```\n",
        "The output shape is torch.Size([100, 1]) for an input of shape torch.Size([100, 2])\n",
        "```"
      ]
    },
    {
      "cell_type": "markdown",
      "metadata": {
        "execution": {},
        "id": "LFl0gqoWq5km"
      },
      "source": [
        "## Section 2.1: Classification with MLPs"
      ]
    },
    {
      "cell_type": "code",
      "metadata": {
        "cellView": "form",
        "execution": {},
        "id": "01FziOFAq5km",
        "outputId": "1b6f9606-491d-4a4e-fefe-9382a55e2777",
        "colab": {
          "base_uri": "https://localhost:8080/",
          "height": 579,
          "referenced_widgets": [
            "a4a0878aa7d54e00ac055d1f090f3f75",
            "cf54f355ec064627842d060cfe6a2c9d",
            "2e0d8778f4964586b8d5ddca9f9bb2c3",
            "fdc74ca0aaf741ba8a2e11412468882c",
            "bcd678f698344b86a9f2756d749ec7be",
            "2114610818e44a5ea4316fee2ddb661b"
          ]
        }
      },
      "source": [
        "# @title Video 3: Cross Entropy\n",
        "from ipywidgets import widgets\n",
        "\n",
        "out2 = widgets.Output()\n",
        "with out2:\n",
        "  from IPython.display import IFrame\n",
        "  class BiliVideo(IFrame):\n",
        "    def __init__(self, id, page=1, width=400, height=300, **kwargs):\n",
        "      self.id=id\n",
        "      src = \"https://player.bilibili.com/player.html?bvid={0}&page={1}\".format(id, page)\n",
        "      super(BiliVideo, self).__init__(src, width, height, **kwargs)\n",
        "\n",
        "  video = BiliVideo(id=f\"BV1Ag41177mB\", width=854, height=480, fs=1)\n",
        "  print(\"Video available at https://www.bilibili.com/video/{0}\".format(video.id))\n",
        "  display(video)\n",
        "\n",
        "out1 = widgets.Output()\n",
        "with out1:\n",
        "  from IPython.display import YouTubeVideo\n",
        "  video = YouTubeVideo(id=f\"N8pVCbTlves\", width=854, height=480, fs=1, rel=0)\n",
        "  print(\"Video available at https://youtube.com/watch?v=\" + video.id)\n",
        "  display(video)\n",
        "\n",
        "out = widgets.Tab([out1, out2])\n",
        "out.set_title(0, 'Youtube')\n",
        "out.set_title(1, 'Bilibili')\n",
        "\n",
        "# add event to airtable\n",
        "atform.add_event('Video 3: Cross Entropy')\n",
        "\n",
        "display(out)"
      ],
      "execution_count": 15,
      "outputs": [
        {
          "output_type": "display_data",
          "data": {
            "application/vnd.jupyter.widget-view+json": {
              "model_id": "a4a0878aa7d54e00ac055d1f090f3f75",
              "version_minor": 0,
              "version_major": 2
            },
            "text/plain": [
              "Tab(children=(Output(), Output()), _titles={'0': 'Youtube', '1': 'Bilibili'})"
            ]
          },
          "metadata": {
            "tags": []
          }
        }
      ]
    },
    {
      "cell_type": "markdown",
      "metadata": {
        "execution": {},
        "id": "AcR6mf6Aq5kn"
      },
      "source": [
        "The main loss function we could use out of the box for multi-class classification for `N` samples and `C` number of classes is:\n",
        "* CrossEntropyLoss:\n",
        "This criterion expects a batch of predictions `x` with shape `(N, C)` and class index in the range $[0, C-1]$ as the target (label) for each `N` samples, hence a batch of `labels` with shape `(N, )`. There are other optional parameters like class weights and class ignores. Feel free to check the PyTorch documentation [here](https://pytorch.org/docs/stable/generated/torch.nn.CrossEntropyLoss.html) for more detail. Additionally, [here](https://sparrow.dev/cross-entropy-loss-in-pytorch/) you can learn where is appropriate to use the CrossEntropyLoss.\n",
        "\n",
        "To get CrossEntropyLoss of a sample $i$, we could first calculate $-\\log(\\text{softmax(x}))$ and then take the element corresponding to $\\text { labels }_i$ as the loss. However, due to numerical stability, we implement this more stable equivalent form,\n",
        "\n",
        "\\begin{equation}\n",
        "\\operatorname{loss}(x_i, \\text { labels }_i)=-\\log \\left(\\frac{\\exp (x[\\text { labels }_i])}{\\sum_{j} \\exp (x[j])}\\right)=-x_i[\\text { labels }_i]+\\log \\left(\\sum_{j=1}^C \\exp (x_i[j])\\right)\n",
        "\\end{equation}"
      ]
    },
    {
      "cell_type": "markdown",
      "metadata": {
        "execution": {},
        "id": "a3jqwYurq5kn"
      },
      "source": [
        "### Coding Exercise 2.1: Implement Batch Cross Entropy Loss\n",
        "\n",
        "To recap, since we will be doing batch learning, we'd like a loss function that given:\n",
        "* a batch of predictions `x` with shape `(N, C)` \n",
        "* a batch of `labels` with shape `(N, )` that ranges from `0` to `C-1`\n",
        "\n",
        "returns the average loss $L$ calculated according to:\n",
        "\n",
        "\\begin{align}\n",
        "loss(x_i, \\text { labels }_i) &= -x_i[\\text { labels }_i]+\\log \\left(\\sum_{j=1}^C \\exp (x_i[j])\\right) \\\\\n",
        "L &= \\frac{1}{N} \\sum_{i=1}^{N}{loss(x_i, \\text { labels }_i)}\n",
        "\\end{align}\n",
        "\n",
        "Steps:\n",
        "\n",
        "1.   Use indexing operation to get predictions of class corresponding to the labels (i.e., $x_i[\\text { labels }_i]$)\n",
        "2.   Compute $loss(x_i, \\text { labels }_i)$ vector (`losses`) using `torch.log()` and `torch.exp()` without Loops!\n",
        "3. Return the average of the loss vector\n",
        "\n"
      ]
    },
    {
      "cell_type": "code",
      "metadata": {
        "execution": {},
        "id": "Hn_tuJgtq5kn"
      },
      "source": [
        "def cross_entropy_loss(x, labels):\n",
        "  # x is the model predictions we'd like to evaluate using lables\n",
        "  x_of_labels = torch.zeros(len(labels))\n",
        "  ####################################################################\n",
        "  # Fill in missing code below (...),\n",
        "  # then remove or comment the line below to test your function\n",
        "  raise NotImplementedError(\"Cross Entropy Loss\")\n",
        "  ####################################################################\n",
        "  # 1. prediction for each class corresponding to the label\n",
        "  for i, label in enumerate(labels):\n",
        "    x_of_labels[i] = x[i, label]\n",
        "  # 2. loss vector for the batch\n",
        "  losses = ...\n",
        "  # 3. Return the average of the loss vector\n",
        "  avg_loss = ...\n",
        "\n",
        "  return avg_loss\n",
        "\n",
        "# add event to airtable\n",
        "atform.add_event('Coding Exercise 2.1: Implement Batch Cross Entropy Loss')\n",
        "\n",
        "\n",
        "labels = torch.tensor([0, 1])\n",
        "x = torch.tensor([[10.0, 1.0, -1.0, -20.0],  # correctly classified\n",
        "                  [10.0, 10.0, 2.0, -10.0]])  # Not correctly classified\n",
        "CE = nn.CrossEntropyLoss()\n",
        "pytorch_loss = CE(x, labels).item()\n",
        "## Uncomment below to test your function\n",
        "# our_loss = cross_entropy_loss(x, labels).item()\n",
        "# print(f'Our CE loss: {our_loss:0.8f}, Pytorch CE loss: {pytorch_loss:0.8f}')\n",
        "# print(f'Difference: {np.abs(our_loss - pytorch_loss):0.8f}')"
      ],
      "execution_count": null,
      "outputs": []
    },
    {
      "cell_type": "markdown",
      "metadata": {
        "execution": {},
        "id": "IgX9TDwTq5ko"
      },
      "source": [
        "[*Click for solution*](https://github.com/NeuromatchAcademy/course-content-dl/tree/main//tutorials/W1D3_MultiLayerPerceptrons/solutions/W1D3_Tutorial1_Solution_f3376d8f.py)\n",
        "\n"
      ]
    },
    {
      "cell_type": "markdown",
      "metadata": {
        "execution": {},
        "id": "j3wYRcKsq5ko"
      },
      "source": [
        "```\n",
        "Our CE loss: 0.34672737, Pytorch CE loss: 0.34672749\n",
        "Difference: 0.00000012\n",
        "```"
      ]
    },
    {
      "cell_type": "markdown",
      "metadata": {
        "execution": {},
        "id": "cQbqi8pMq5ko"
      },
      "source": [
        "## Section 2.2: Spiral classification dataset\n",
        "Before we could start optimizing these loss functions, we need a dataset!\n",
        "\n",
        "Let's turn this fancy-looking equation into a classification dataset"
      ]
    },
    {
      "cell_type": "markdown",
      "metadata": {
        "execution": {},
        "id": "Qf92W_psq5ko"
      },
      "source": [
        "\\begin{equation}\n",
        "\\begin{array}{c}\n",
        "X_{k}(t)=t\\left(\\begin{array}{c}\n",
        "\\sin \\left[\\frac{2 \\pi}{K}\\left(2 t+k-1\\right)\\right]+\\mathcal{N}\\left(0, \\sigma\\right) \\\\\n",
        "\\cos \\left[\\frac{2 \\pi}{K}\\left(2 t+k-1\\right)\\right]+\\mathcal{N}\\left(0, \\sigma\\right) \n",
        "\\end{array}\\right)\n",
        "\\end{array}, \\quad 0 \\leq t \\leq 1, \\quad k=1, \\ldots, K\n",
        "\\end{equation}"
      ]
    },
    {
      "cell_type": "code",
      "metadata": {
        "execution": {},
        "id": "jCSFmgmUq5ko"
      },
      "source": [
        "def create_spiral_dataset(K, sigma, N):\n",
        "\n",
        "  # Initialize t, X, y\n",
        "  t = torch.linspace(0, 1, N)\n",
        "  X = torch.zeros(K*N, 2)\n",
        "  y = torch.zeros(K*N)\n",
        "\n",
        "  # Create data\n",
        "  for k in range(K):\n",
        "    X[k*N:(k+1)*N, 0] = t*(torch.sin(2*np.pi/K*(2*t+k)) + sigma*torch.randn(N))\n",
        "    X[k*N:(k+1)*N, 1] = t*(torch.cos(2*np.pi/K*(2*t+k)) + sigma*torch.randn(N))\n",
        "    y[k*N:(k+1)*N] = k\n",
        "\n",
        "  return X, y\n",
        "\n",
        "\n",
        "# Set parameters\n",
        "K = 4\n",
        "sigma = 0.16\n",
        "N = 1000\n",
        "\n",
        "set_seed(seed=SEED)\n",
        "X, y = create_spiral_dataset(K, sigma, N)\n",
        "plt.scatter(X[:, 0], X[:, 1], c = y)\n",
        "plt.show()"
      ],
      "execution_count": null,
      "outputs": []
    },
    {
      "cell_type": "markdown",
      "metadata": {
        "execution": {},
        "id": "APinlmWNq5ko"
      },
      "source": [
        "## Section 2.3: Training and Evaluation"
      ]
    },
    {
      "cell_type": "code",
      "metadata": {
        "cellView": "form",
        "execution": {},
        "id": "njF4VSbLq5ko",
        "outputId": "449c9d7b-e65b-46e5-c810-4816db47d9d2",
        "colab": {
          "base_uri": "https://localhost:8080/",
          "height": 579,
          "referenced_widgets": [
            "bd52f682cb3e4978bc08bc27a717e8fe",
            "a9b7e9ad8a524501864c46a85df8c7ae",
            "85d51cd248c5442c92fcb9c5bcb401d1",
            "fb4b2d4c4bbd46f2b4bc2017e5f780f7",
            "ba52ad6ae35d4b3f8a3cf42aee5af922",
            "e8fa52a7e0cc4478aeb8ec6f343e041a"
          ]
        }
      },
      "source": [
        "# @title Video 4: Training and Evaluating an MLP\n",
        "from ipywidgets import widgets\n",
        "\n",
        "out2 = widgets.Output()\n",
        "with out2:\n",
        "  from IPython.display import IFrame\n",
        "  class BiliVideo(IFrame):\n",
        "    def __init__(self, id, page=1, width=400, height=300, **kwargs):\n",
        "      self.id=id\n",
        "      src = \"https://player.bilibili.com/player.html?bvid={0}&page={1}\".format(id, page)\n",
        "      super(BiliVideo, self).__init__(src, width, height, **kwargs)\n",
        "\n",
        "  video = BiliVideo(id=f\"BV1QV411p7mF\", width=854, height=480, fs=1)\n",
        "  print(\"Video available at https://www.bilibili.com/video/{0}\".format(video.id))\n",
        "  display(video)\n",
        "\n",
        "out1 = widgets.Output()\n",
        "with out1:\n",
        "  from IPython.display import YouTubeVideo\n",
        "  video = YouTubeVideo(id=f\"DfXZhRfBEqQ\", width=854, height=480, fs=1, rel=0)\n",
        "  print(\"Video available at https://youtube.com/watch?v=\" + video.id)\n",
        "  display(video)\n",
        "\n",
        "out = widgets.Tab([out1, out2])\n",
        "out.set_title(0, 'Youtube')\n",
        "out.set_title(1, 'Bilibili')\n",
        "\n",
        "# add event to airtable\n",
        "atform.add_event('Video 4: Training and Evaluating an MLP')\n",
        "\n",
        "display(out)"
      ],
      "execution_count": 16,
      "outputs": [
        {
          "output_type": "display_data",
          "data": {
            "application/vnd.jupyter.widget-view+json": {
              "model_id": "bd52f682cb3e4978bc08bc27a717e8fe",
              "version_minor": 0,
              "version_major": 2
            },
            "text/plain": [
              "Tab(children=(Output(), Output()), _titles={'0': 'Youtube', '1': 'Bilibili'})"
            ]
          },
          "metadata": {
            "tags": []
          }
        }
      ]
    },
    {
      "cell_type": "markdown",
      "metadata": {
        "execution": {},
        "id": "ER0x0xbjq5kp"
      },
      "source": [
        "### Coding Exercise 2.3: Implement it for a classfication task\n",
        "Now that we have the Spiral dataset and a loss function, it's your turn to implement a simple train/test split for training and validation.\n",
        "\n",
        "Steps to follow: \n",
        "  * Dataset shuffle\n",
        "  * Train/Test split (20% for test)\n",
        "  * Dataloader definition\n",
        "  * Training and Evaluation"
      ]
    },
    {
      "cell_type": "code",
      "metadata": {
        "execution": {},
        "id": "3zfqbkDaq5kp"
      },
      "source": [
        "def shuffle_and_split_data(X, y, seed):\n",
        "  # set seed for reproducibility\n",
        "  torch.manual_seed(seed)\n",
        "  # Number of samples\n",
        "  N = X.shape[0]\n",
        "  ####################################################################\n",
        "  # Fill in missing code below (...),\n",
        "  # then remove or comment the line below to test your function\n",
        "  raise NotImplementedError(\"Shuffle & split data\")\n",
        "  ####################################################################\n",
        "  # Shuffle data\n",
        "  shuffled_indices = ...   # get indices to shuffle data, could use torch.randperm\n",
        "  X = X[shuffled_indices]\n",
        "  y = y[shuffled_indices]\n",
        "\n",
        "  # Split data into train/test\n",
        "  test_size = 0.2 * N    # assign test datset size using 20% of samples\n",
        "  X_test = X[:test_size]\n",
        "  y_test = y[:test_size]\n",
        "  X_train = X[test_size:]\n",
        "  y_train = y[test_size:]\n",
        "\n",
        "  return X_test, y_test, X_train, y_train\n",
        "\n",
        "# add event to airtable\n",
        "atform.add_event('Coding Exercise 2.3: Implement for a classfication task')\n",
        "\n",
        "\n",
        "## Uncomment below to test your function\n",
        "# X_test, y_test, X_train, y_train = shuffle_and_split_data(X, y, seed=SEED)\n",
        "# plt.scatter(X_test[:, 0], X_test[:, 1], c=y_test)\n",
        "# plt.title('Test data')\n",
        "# plt.show()"
      ],
      "execution_count": null,
      "outputs": []
    },
    {
      "cell_type": "markdown",
      "metadata": {
        "execution": {},
        "id": "E9SeAgCsq5kp"
      },
      "source": [
        "[*Click for solution*](https://github.com/NeuromatchAcademy/course-content-dl/tree/main//tutorials/W1D3_MultiLayerPerceptrons/solutions/W1D3_Tutorial1_Solution_083a4d77.py)\n",
        "\n",
        "*Example output:*\n",
        "\n",
        "<img alt='Solution hint' align='left' width=1120.0 height=832.0 src=https://raw.githubusercontent.com/NeuromatchAcademy/course-content-dl/main/tutorials/W1D3_MultiLayerPerceptrons/static/W1D3_Tutorial1_Solution_083a4d77_0.png>\n",
        "\n"
      ]
    },
    {
      "cell_type": "markdown",
      "metadata": {
        "execution": {},
        "id": "LJ13VVAqq5kp"
      },
      "source": [
        "And we need to make a Pytorch data loader out of it. Data loading in PyTorch can be separated in 2 parts:\n",
        "* Data must be wrapped on a Dataset parent class where the methods __getitem__ and __len__ must be overrided. Note that at this point the data is not loaded on memory. PyTorch will only load what is needed to the memory. Here `TensorDataset` does this for us directly.\n",
        "* Use a Dataloader that will actually read the data in batches and put into memory. Also, the option of `num_workers > 0` allows multithreading, which prepares multiple batches in the queue to speed things up."
      ]
    },
    {
      "cell_type": "code",
      "metadata": {
        "execution": {},
        "id": "XftA2cHyq5kp"
      },
      "source": [
        "g_seed = torch.Generator()\n",
        "g_seed.manual_seed(SEED)\n",
        "\n",
        "batch_size = 128\n",
        "test_data = TensorDataset(X_test, y_test)\n",
        "test_loader = DataLoader(test_data, batch_size=batch_size,\n",
        "                         shuffle=False, num_workers=2,\n",
        "                         worker_init_fn=seed_worker,\n",
        "                         generator=g_seed)\n",
        "\n",
        "train_data = TensorDataset(X_train, y_train)\n",
        "train_loader = DataLoader(train_data, batch_size=batch_size, drop_last=True,\n",
        "                        shuffle=True, num_workers=2,\n",
        "                         worker_init_fn=seed_worker,\n",
        "                         generator=g_seed)"
      ],
      "execution_count": null,
      "outputs": []
    },
    {
      "cell_type": "markdown",
      "metadata": {
        "execution": {},
        "id": "9axEbphsq5kp"
      },
      "source": [
        "Let's write a general-purpose training and evaluation code and keep it in our pocket for next tutorial as well. So make sure you review it to see what it does.\n",
        "\n",
        "Note that `model.train()` tells your model that you are training the model. So layers like dropout, batchnorm etc. which behave different on the train and test procedures know what is going on and hence can behave accordingly. And to turn off training mode we set `model.eval()`"
      ]
    },
    {
      "cell_type": "code",
      "metadata": {
        "execution": {},
        "id": "2ajh0UUJq5kp"
      },
      "source": [
        "def train_test_classification(net, criterion, optimizer, train_loader,\n",
        "                              test_loader, num_epochs=1, verbose=True,\n",
        "                              training_plot=False, device='cpu'):\n",
        "\n",
        "  net.train()\n",
        "  training_losses = []\n",
        "  for epoch in tqdm(range(num_epochs)):  # loop over the dataset multiple times\n",
        "    running_loss = 0.0\n",
        "    for i, data in enumerate(train_loader, 0):\n",
        "      # get the inputs; data is a list of [inputs, labels]\n",
        "      inputs, labels = data\n",
        "      inputs = inputs.to(device).float()\n",
        "      labels = labels.to(device).long()\n",
        "\n",
        "      # zero the parameter gradients\n",
        "      optimizer.zero_grad()\n",
        "\n",
        "      # forward + backward + optimize\n",
        "      outputs = net(inputs)\n",
        "\n",
        "      loss = criterion(outputs, labels)\n",
        "      loss.backward()\n",
        "      optimizer.step()\n",
        "\n",
        "      # print statistics\n",
        "      if verbose:\n",
        "        training_losses += [loss.item()]\n",
        "\n",
        "  net.eval()\n",
        "  def test(data_loader):\n",
        "    correct = 0\n",
        "    total = 0\n",
        "    for data in data_loader:\n",
        "      inputs, labels = data\n",
        "      inputs = inputs.to(device).float()\n",
        "      labels = labels.to(device).long()\n",
        "\n",
        "      outputs = net(inputs)\n",
        "      _, predicted = torch.max(outputs, 1)\n",
        "      total += labels.size(0)\n",
        "      correct += (predicted == labels).sum().item()\n",
        "\n",
        "    acc = 100 * correct / total\n",
        "    return total, acc\n",
        "\n",
        "  train_total, train_acc = test(train_loader)\n",
        "  test_total, test_acc = test(test_loader)\n",
        "\n",
        "  if verbose:\n",
        "    print(f\"Accuracy on the {train_total} training samples: {train_acc:0.2f}\")\n",
        "    print(f\"Accuracy on the {test_total} testing samples: {test_acc:0.2f}\")\n",
        "\n",
        "  if training_plot:\n",
        "    plt.plot(training_losses)\n",
        "    plt.xlabel('Batch')\n",
        "    plt.ylabel('Training loss')\n",
        "    plt.show()\n",
        "\n",
        "  return train_acc, test_acc"
      ],
      "execution_count": null,
      "outputs": []
    },
    {
      "cell_type": "markdown",
      "metadata": {
        "execution": {},
        "id": "sIGSUk_Yq5kp"
      },
      "source": [
        "### Think! 2.3.1: What's the point of .eval() and .train()?\n",
        "\n",
        "Is it necessary to use `net.train()` and `net.eval()` for our MLP model? why?"
      ]
    },
    {
      "cell_type": "code",
      "metadata": {
        "cellView": "form",
        "execution": {},
        "id": "8WWVOV6xq5kq"
      },
      "source": [
        "# @title Student Response\n",
        "from ipywidgets import widgets\n",
        "\n",
        "\n",
        "text=widgets.Textarea(\n",
        "   value='Type answer here and Push submit',\n",
        "   placeholder='Type something',\n",
        "   description='',\n",
        "   disabled=False\n",
        ")\n",
        "\n",
        "button = widgets.Button(description=\"Submit!\")\n",
        "\n",
        "display(text,button)\n",
        "\n",
        "def on_button_clicked(b):\n",
        "   atform.add_answer('q1', text.value)\n",
        "   print(\"Submission successful!\")\n",
        "\n",
        "\n",
        "button.on_click(on_button_clicked)"
      ],
      "execution_count": null,
      "outputs": []
    },
    {
      "cell_type": "markdown",
      "metadata": {
        "execution": {},
        "id": "JhIX-rgPq5kq"
      },
      "source": [
        "[*Click for solution*](https://github.com/NeuromatchAcademy/course-content-dl/tree/main//tutorials/W1D3_MultiLayerPerceptrons/solutions/W1D3_Tutorial1_Solution_51988471.py)\n",
        "\n"
      ]
    },
    {
      "cell_type": "markdown",
      "metadata": {
        "execution": {},
        "id": "-DEeFbWuq5kq"
      },
      "source": [
        "Now let's put everything together and train your first deep-ish model!"
      ]
    },
    {
      "cell_type": "code",
      "metadata": {
        "execution": {},
        "id": "Q3yujiSjq5kq"
      },
      "source": [
        "set_seed(SEED)\n",
        "net = Net('ReLU()', X_train.shape[1], [128], K).to(DEVICE)\n",
        "criterion = nn.CrossEntropyLoss()\n",
        "optimizer = optim.Adam(net.parameters(), lr=1e-3)\n",
        "num_epochs = 100\n",
        "\n",
        "_, _ = train_test_classification(net, criterion, optimizer, train_loader,\n",
        "                                 test_loader, num_epochs=num_epochs,\n",
        "                                 training_plot=True, device=DEVICE)"
      ],
      "execution_count": null,
      "outputs": []
    },
    {
      "cell_type": "markdown",
      "metadata": {
        "execution": {},
        "id": "1Bv6XSIvq5kq"
      },
      "source": [
        "And finally, let's visualize the learned decision-map. We know you're probably running out of time, so we won't make you write code now! But make sure you have reviewed it since we'll start with another visualization technique next time."
      ]
    },
    {
      "cell_type": "code",
      "metadata": {
        "execution": {},
        "id": "3Nq5W7gIq5kq"
      },
      "source": [
        "def sample_grid(M=500, x_max=2.0):\n",
        "  ii, jj = torch.meshgrid(torch.linspace(-x_max, x_max, M),\n",
        "                          torch.linspace(-x_max, x_max, M))\n",
        "  X_all = torch.cat([ii.unsqueeze(-1),\n",
        "                     jj.unsqueeze(-1)],\n",
        "                     dim=-1).view(-1, 2)\n",
        "  return X_all\n",
        "\n",
        "\n",
        "def plot_decision_map(X_all, y_pred, X_test, y_test,\n",
        "                      M=500, x_max=2.0, eps=1e-3):\n",
        "  decision_map = torch.argmax(y_pred, dim=1)\n",
        "\n",
        "  for i in range(len(X_test)):\n",
        "    indices = (X_all[:, 0] - X_test[i, 0])**2 + (X_all[:, 1] - X_test[i, 1])**2 < eps\n",
        "    decision_map[indices] = (K + y_test[i]).long()\n",
        "\n",
        "  decision_map = decision_map.view(M, M)\n",
        "  plt.imshow(decision_map, extent=[-x_max, x_max, -x_max, x_max], cmap='jet')\n",
        "  plt.show()"
      ],
      "execution_count": null,
      "outputs": []
    },
    {
      "cell_type": "code",
      "metadata": {
        "execution": {},
        "id": "n_y6do9cq5kq"
      },
      "source": [
        "X_all = sample_grid()\n",
        "y_pred = net(X_all)\n",
        "plot_decision_map(X_all, y_pred, X_test, y_test)"
      ],
      "execution_count": null,
      "outputs": []
    },
    {
      "cell_type": "markdown",
      "metadata": {
        "execution": {},
        "id": "Bu0u36R5q5kq"
      },
      "source": [
        "### Think! 2.3.2: Does it generalize well?\n",
        "Do you think this model is performing well outside its training distribution? Why?"
      ]
    },
    {
      "cell_type": "code",
      "metadata": {
        "cellView": "form",
        "execution": {},
        "id": "NEF2PZeEq5kq",
        "outputId": "6653540e-58cc-4030-99c7-0ebeb009a971",
        "colab": {
          "base_uri": "https://localhost:8080/",
          "height": 92,
          "referenced_widgets": [
            "a4cd3340af7644ec9dc661a3faa33767",
            "84c01d36202d4e2c938000ec77d6866c",
            "f8a25c2e14b54328aabfca5d8ad94e6f",
            "58d02ead042b42efaf6b3ce15ee8a5ba",
            "67a94f58e80e4e44b78d2913b791cc22",
            "8483caf62c7f490eaeed056003f133ae"
          ]
        }
      },
      "source": [
        "# @title Student Response\n",
        "from ipywidgets import widgets\n",
        "\n",
        "\n",
        "text=widgets.Textarea(\n",
        "   value='Type answer here and Push submit',\n",
        "   placeholder='Type something',\n",
        "   description='',\n",
        "   disabled=False\n",
        ")\n",
        "\n",
        "button = widgets.Button(description=\"Submit!\")\n",
        "\n",
        "display(text,button)\n",
        "\n",
        "def on_button_clicked(b):\n",
        "   atform.add_answer('q2' , text.value)\n",
        "   print(\"Submission successful!\")\n",
        "\n",
        "\n",
        "button.on_click(on_button_clicked)"
      ],
      "execution_count": 17,
      "outputs": [
        {
          "output_type": "display_data",
          "data": {
            "application/vnd.jupyter.widget-view+json": {
              "model_id": "a4cd3340af7644ec9dc661a3faa33767",
              "version_minor": 0,
              "version_major": 2
            },
            "text/plain": [
              "Textarea(value='Type answer here and Push submit', placeholder='Type something')"
            ]
          },
          "metadata": {
            "tags": []
          }
        },
        {
          "output_type": "display_data",
          "data": {
            "application/vnd.jupyter.widget-view+json": {
              "model_id": "58d02ead042b42efaf6b3ce15ee8a5ba",
              "version_minor": 0,
              "version_major": 2
            },
            "text/plain": [
              "Button(description='Submit!', style=ButtonStyle())"
            ]
          },
          "metadata": {
            "tags": []
          }
        }
      ]
    },
    {
      "cell_type": "markdown",
      "metadata": {
        "execution": {},
        "id": "7YM71MYEq5kr"
      },
      "source": [
        "[*Click for solution*](https://github.com/NeuromatchAcademy/course-content-dl/tree/main//tutorials/W1D3_MultiLayerPerceptrons/solutions/W1D3_Tutorial1_Solution_d90d9e4b.py)\n",
        "\n"
      ]
    },
    {
      "cell_type": "markdown",
      "metadata": {
        "execution": {},
        "id": "YmGYcVsAq5kr"
      },
      "source": [
        "What would be your suggestions to increase models ability to generalize? Think about it and discuss with your pod."
      ]
    },
    {
      "cell_type": "markdown",
      "metadata": {
        "execution": {},
        "id": "sHm-Fs-3q5kr"
      },
      "source": [
        "---\n",
        "# Summary\n",
        "\n",
        "In this tutorial we have explored the Multi-leayer Perceptrons (MLPs). More specifically, we have discuss the similarities of artificial and biological neural networks (for more information see the Bonus section), we have learned the Universal Approximation Theorem, and we have implemented MLPs in PyTorch."
      ]
    },
    {
      "cell_type": "code",
      "metadata": {
        "cellView": "form",
        "execution": {},
        "id": "qOiSB-IUq5kr",
        "outputId": "52cfde44-72c6-4ae3-ffca-c83a7b78f1e5",
        "colab": {
          "base_uri": "https://localhost:8080/",
          "height": 157
        }
      },
      "source": [
        "# @title Airtable Submission Link\n",
        "from IPython import display as IPydisplay\n",
        "IPydisplay.HTML(\n",
        "   f\"\"\"\n",
        " <div>\n",
        "   <a href= \"{atform.url()}\" target=\"_blank\">\n",
        "   <img src=\"https://github.com/NeuromatchAcademy/course-content-dl/blob/main/tutorials/static/AirtableSubmissionButton.png?raw=1\"\n",
        " alt=\"button link to Airtable\" style=\"width:410px\"></a>\n",
        "   </div>\"\"\" )"
      ],
      "execution_count": 19,
      "outputs": [
        {
          "output_type": "execute_result",
          "data": {
            "text/html": [
              "\n",
              " <div>\n",
              "   <a href= \"https://portal.neuromatchacademy.org/api/redirect/to/9c55f6cb-cdf9-4429-ac1c-ec44fe64c303?data=eyJmb3JtX2lkIjogImFwcG43VmRQUnNlU29NWEVHIiwgInRhYmxlX25hbWUiOiAiVzFEM19UMSIsICJhbnN3ZXJzIjoge30sICJldmVudHMiOiBbeyJldmVudCI6ICJpbml0IiwgInRzIjogMTYyODAzODc3OS42NjE4MzMzfSwgeyJldmVudCI6ICJWaWRlbyAwOiBJbnRyb2R1Y3Rpb24iLCAidHMiOiAxNjI4MDM4Nzg5LjQwOTkyNDd9LCB7ImV2ZW50IjogIlZpZGVvIDE6IFVuaXZlcnNhbCBBcHByb3hpbWF0aW9uIFRoZW9yZW0iLCAidHMiOiAxNjI4MDM4NzkxLjY0OTcwOTJ9LCB7ImV2ZW50IjogIkNvZGluZyBFeGVyY2lzZSAxOiBGdW5jdGlvbiBhcHByb3hpbWF0aW9uIHdpdGggUmVMVSIsICJ0cyI6IDE2MjgwNDA3MTAuOTg4NzM4fSwgeyJldmVudCI6ICJDb2RpbmcgRXhlcmNpc2UgMTogRnVuY3Rpb24gYXBwcm94aW1hdGlvbiB3aXRoIFJlTFUiLCAidHMiOiAxNjI4MDQwNzM0LjcyOTUyNzV9LCB7ImV2ZW50IjogIlZpZGVvIDI6IEJ1aWxkaW5nIE1MUHMgaW4gUHlUb3JjaCIsICJ0cyI6IDE2MjgwNDA4NzcuMjk4ODI2Mn0sIHsiZXZlbnQiOiAiVmlkZW8gMzogQ3Jvc3MgRW50cm9weSIsICJ0cyI6IDE2MjgwNDI0MTkuNjkzMzg4NX0sIHsiZXZlbnQiOiAiVmlkZW8gNDogVHJhaW5pbmcgYW5kIEV2YWx1YXRpbmcgYW4gTUxQIiwgInRzIjogMTYyODA0Nzk4My4xNjQwMTk4fSwgeyJldmVudCI6ICJWaWRlbyA1OiBCaW9sb2dpY2FsIHRvIEFydGlmaWNpYWwgTmV1cm9ucyIsICJ0cyI6IDE2MjgwNDk2MTMuMjIyMDA2Nn0sIHsiZXZlbnQiOiAidXJsIGdlbmVyYXRlZCIsICJ0cyI6IDE2MjgwNDk2MjUuNjMyODg3MX1dfQ%3D%3D\" target=\"_blank\">\n",
              "   <img src=\"https://github.com/NeuromatchAcademy/course-content-dl/blob/main/tutorials/static/AirtableSubmissionButton.png?raw=1\"\n",
              " alt=\"button link to Airtable\" style=\"width:410px\"></a>\n",
              "   </div>"
            ],
            "text/plain": [
              "<IPython.core.display.HTML object>"
            ]
          },
          "metadata": {
            "tags": []
          },
          "execution_count": 19
        }
      ]
    },
    {
      "cell_type": "markdown",
      "metadata": {
        "execution": {},
        "id": "w2A_Ob_jq5kr"
      },
      "source": [
        "---\n",
        "# Bonus: Neuron Physiology and Motivation to Deep Learning\n",
        "\n",
        "This section will motivate one of the most popular nonlinearities in deep learning, the ReLU nonlinearity, by starting from the biophysics of neurons and obtaining the ReLU nonlinearity through a sequence of approximations. We will also show that neuronal biophysics sets a time scale for signal propagation speed through the brain. This time scale implies that neural circuits underlying fast perceptual and motor processing in the brain may not be excessively deep. \n",
        "\n",
        "This biological motivation for deep learning is not strictly necessary to follow the rest of this course, so this section can be safely skipped and **is a bonus section**."
      ]
    },
    {
      "cell_type": "code",
      "metadata": {
        "cellView": "form",
        "execution": {},
        "id": "dUiY84PRq5kr",
        "outputId": "30e3dde3-9115-4310-d5f5-0f6811566918",
        "colab": {
          "base_uri": "https://localhost:8080/",
          "height": 579,
          "referenced_widgets": [
            "4bb9a37f04e3433d9be50b85a578c48b",
            "aef6d485586142328b9648a5c95466c7",
            "e40555767a1f438f9c78290d3527c012",
            "64a1dad9a4554f1faa04ef9b8cebe535",
            "7cf72a337f6b438c9233220052768838",
            "cc5915486f7a4f13ba44a0063fcfd7b9"
          ]
        }
      },
      "source": [
        "# @title Video 5: Biological to Artificial Neurons\n",
        "from ipywidgets import widgets\n",
        "\n",
        "out2 = widgets.Output()\n",
        "with out2:\n",
        "  from IPython.display import IFrame\n",
        "  class BiliVideo(IFrame):\n",
        "    def __init__(self, id, page=1, width=400, height=300, **kwargs):\n",
        "      self.id=id\n",
        "      src = \"https://player.bilibili.com/player.html?bvid={0}&page={1}\".format(id, page)\n",
        "      super(BiliVideo, self).__init__(src, width, height, **kwargs)\n",
        "\n",
        "  video = BiliVideo(id=f\"BV1mf4y157vf\", width=854, height=480, fs=1)\n",
        "  print(\"Video available at https://www.bilibili.com/video/{0}\".format(video.id))\n",
        "  display(video)\n",
        "\n",
        "out1 = widgets.Output()\n",
        "with out1:\n",
        "  from IPython.display import YouTubeVideo\n",
        "  video = YouTubeVideo(id=f\"ELAbflymSLo\", width=854, height=480, fs=1, rel=0)\n",
        "  print(\"Video available at https://youtube.com/watch?v=\" + video.id)\n",
        "  display(video)\n",
        "\n",
        "out = widgets.Tab([out1, out2])\n",
        "out.set_title(0, 'Youtube')\n",
        "out.set_title(1, 'Bilibili')\n",
        "\n",
        "# add event to airtable\n",
        "atform.add_event('Video 5: Biological to Artificial Neurons')\n",
        "\n",
        "display(out)"
      ],
      "execution_count": 18,
      "outputs": [
        {
          "output_type": "display_data",
          "data": {
            "application/vnd.jupyter.widget-view+json": {
              "model_id": "4bb9a37f04e3433d9be50b85a578c48b",
              "version_minor": 0,
              "version_major": 2
            },
            "text/plain": [
              "Tab(children=(Output(), Output()), _titles={'0': 'Youtube', '1': 'Bilibili'})"
            ]
          },
          "metadata": {
            "tags": []
          }
        }
      ]
    },
    {
      "cell_type": "markdown",
      "metadata": {
        "execution": {},
        "id": "l_zsNtxBq5kr"
      },
      "source": [
        "## Leaky Integrate-and-fire (LIF)\n",
        "The basic idea of LIF neuron was proposed in 1907 by Louis Édouard Lapicque, long before we understood the electrophysiology of a neuron (see a translation of [Lapicque's paper](https://pubmed.ncbi.nlm.nih.gov/17968583/) ). More details of the model can be found in the book [**Theoretical neuroscience**](http://www.gatsby.ucl.ac.uk/~dayan/book/) by Peter Dayan and Laurence F. Abbott.\n",
        "\n",
        "The model dynamics is defined with the following formula,\n",
        "\n",
        "\n",
        "\\begin{equation}\n",
        "\\frac{d V}{d t}=\\left\\{\\begin{array}{cc}\n",
        "\\frac{1}{C}\\left(-\\frac{V}{R}+I \\right) & t>t_{r e s t} \\\\\n",
        "0 & \\text { otherwise }\n",
        "\\end{array}\\right.\n",
        "\\end{equation}\n",
        "\n",
        "\n",
        "Note that $V$, $C$, and $R$ are the membrane voltage, capacitance, and resitance of the neuron respectively and $-\\frac{V}{R}$ is the leakage current. When $I$ is sufficiently strong such that $V$ reaches a certain threshold value $V_{\\rm th}$, it momentarily spikes and then $V$ is reset to $V_{\\rm reset}< V_{\\rm th}$, and voltage stays at $V_{\\rm reset}$ for $\\tau_{\\rm ref}$ ms, mimicking the refractoriness of the neuron during an action potential (note that $V_{\\rm reset}$ and $\\tau_{\\rm ref}$ is assumed to be zero in the lecture):\n",
        "\n",
        "\n",
        "\\begin{eqnarray}\n",
        "V(t)=V_{\\rm reset} \\text{  for } t\\in(t_{\\text{sp}}, t_{\\text{sp}} + \\tau_{\\text{ref}}]\n",
        "\\end{eqnarray}\n",
        "\n",
        "\n",
        "where $t_{\\rm sp}$ is the spike time when $V(t)$ just exceeded $V_{\\rm th}$.\n",
        "\n",
        "Thus, the LIF model captures the facts that a neuron:\n",
        "- performs spatial and temporal integration of synaptic inputs \n",
        "- generates a spike when the voltage reaches a certain threshold\n",
        "- goes refractory during the action potential\n",
        "- has a leaky membrane \n",
        "\n",
        "For in-depth content on computational models of neurons, follow the [NMA](https://www.neuromatchacademy.org/) tutorial 1 of *Biological Neuron Models*. Specifically, for NMA-CN 2021 follow this [Tutorial](https://github.com/NeuromatchAcademy/course-content/blob/master/tutorials/W2D3_BiologicalNeuronModels/W2D3_Tutorial1.ipynb).\n"
      ]
    },
    {
      "cell_type": "markdown",
      "metadata": {
        "execution": {},
        "id": "DylQVPWdq5kr"
      },
      "source": [
        "## Simulating an LIF Neuron\n",
        "\n",
        "In the cell below is given a function for LIF neuron model with it's arguments described.\n",
        "\n",
        "Note that we will use Euler's method to make a numerical approximation to a derivative. Hence we will use the following implementation of the model dynamics,\n",
        "\n",
        "\\begin{equation}\n",
        "V_n=\\left\\{\\begin{array}{cc}\n",
        "V_{n-1} + \\frac{1}{C}\\left(-\\frac{V}{R}+I \\right) \\Delta t & t>t_{r e s t} \\\\\n",
        "0 & \\text { otherwise }\n",
        "\\end{array}\\right.\n",
        "\\end{equation}"
      ]
    },
    {
      "cell_type": "code",
      "metadata": {
        "execution": {},
        "id": "CRYeSYrJq5ks"
      },
      "source": [
        "def run_LIF(I, T=50, dt=0.1, t_ref=10,\n",
        "            Rm=1, Cm=10, Vth=1, V_spike=0.5):\n",
        "  \"\"\"\n",
        "  Simulate the LIF dynamics with external input current\n",
        "\n",
        "  Args:\n",
        "    I          : input current (mA)\n",
        "    T          : total time to simulate (msec)\n",
        "    dt         : simulation time step (msec)\n",
        "    t_ref      : refractory period (msec)\n",
        "    Rm         : resistance (kOhm)\n",
        "    Cm         : capacitance (uF)\n",
        "    Vth        : spike threshold (V)\n",
        "    V_spike    : spike delta (V)\n",
        "\n",
        "  Returns:\n",
        "    time       : time points\n",
        "    Vm         : membrane potentials\n",
        "  \"\"\"\n",
        "\n",
        "  # Set up array of time steps\n",
        "  time = torch.arange(0, T+dt, dt)\n",
        "\n",
        "  # Set up array for tracking Vm\n",
        "  Vm = torch.zeros(len(time))\n",
        "\n",
        "  # Iterate over each time step\n",
        "  t_rest = 0\n",
        "  for i, t in enumerate(time):\n",
        "\n",
        "    # If t is after refractory period\n",
        "    if t > t_rest:\n",
        "      Vm[i] = Vm[i-1] + 1/Cm*(-Vm[i-1]/Rm + I)  * dt\n",
        "\n",
        "    # If Vm is over the threshold\n",
        "    if Vm[i] >= Vth:\n",
        "\n",
        "      # Increase volatage by change due to spike\n",
        "      Vm[i] += V_spike\n",
        "\n",
        "      # Set up new refactory period\n",
        "      t_rest = t + t_ref\n",
        "\n",
        "  return time, Vm\n",
        "\n",
        "\n",
        "sim_time, Vm = run_LIF(1.5)\n",
        "# Plot the membrane voltage across time\n",
        "plt.plot(sim_time, Vm)\n",
        "plt.title('LIF Neuron Output')\n",
        "plt.ylabel('Membrane Potential (V)')\n",
        "plt.xlabel('Time (msec)')\n",
        "plt.show()"
      ],
      "execution_count": null,
      "outputs": []
    },
    {
      "cell_type": "markdown",
      "metadata": {
        "execution": {},
        "id": "DfoOUJ9iq5ks"
      },
      "source": [
        "### Interactive Demo: Neuron's transfer function explorer for different $R_m$ and $t_{ref}$\n",
        "We know that real neurons communicate by modulating the spike count meaning that more input current causes a neuron to spike more often. Therefore, to find an input-output relationship, it makes sense to characterize their spike count as a function of input current. This is called the neuron's input-output transfer function. Let's plot the neuron's transfer function and see how it changes with respect to the **membrane resistance** and **refractory time**? "
      ]
    },
    {
      "cell_type": "code",
      "metadata": {
        "cellView": "form",
        "execution": {},
        "id": "-DfwTBjiq5ks"
      },
      "source": [
        "# @title\n",
        "\n",
        "# @markdown Make sure you execute this cell to enable the widget!\n",
        "my_layout = widgets.Layout()\n",
        "\n",
        "@widgets.interact(Rm=widgets.FloatSlider(1., min=1, max=100.,\n",
        "                                         step=0.1, layout=my_layout),\n",
        "                  t_ref=widgets.FloatSlider(1., min=1, max=100.,\n",
        "                                            step=0.1, layout=my_layout)\n",
        "                  )\n",
        "\n",
        "\n",
        "def plot_IF_curve(Rm, t_ref):\n",
        "  T = 1000 # total time to simulate (msec)\n",
        "  dt = 1 # simulation time step (msec)\n",
        "  Vth = 1 # spike threshold (V)\n",
        "  Is_max = 2\n",
        "  Is = torch.linspace(0, Is_max, 10)\n",
        "  spike_counts = []\n",
        "  for I in Is:\n",
        "    _, Vm = run_LIF(I, T=T, dt=dt, Vth=Vth, Rm=Rm, t_ref=t_ref)\n",
        "    spike_counts += [torch.sum(Vm > Vth)]\n",
        "\n",
        "  plt.plot(Is, spike_counts)\n",
        "  plt.title('LIF Neuron: Transfer Function')\n",
        "  plt.ylabel('Spike count')\n",
        "  plt.xlabel('I (mA)')\n",
        "  plt.xlim(0, Is_max)\n",
        "  plt.ylim(0, 80)\n",
        "  plt.show()"
      ],
      "execution_count": null,
      "outputs": []
    },
    {
      "cell_type": "markdown",
      "metadata": {
        "execution": {},
        "id": "-8eFXQTtq5ks"
      },
      "source": [
        "### Think!: Real and Artificial neuron similarities\n",
        "\n",
        "What happens at infinite membrane resistance ($R_m$) and small refactory time ($t_{ref}$)? Why?\n",
        "\n",
        "Take 10 mins to discuss the similarity between a real neuron and an artificial one with your pod."
      ]
    },
    {
      "cell_type": "markdown",
      "metadata": {
        "execution": {},
        "id": "XeH46DG3q5ks"
      },
      "source": [
        "[*Click for solution*](https://github.com/NeuromatchAcademy/course-content-dl/tree/main//tutorials/W1D3_MultiLayerPerceptrons/solutions/W1D3_Tutorial1_Solution_d58d2933.py)\n",
        "\n"
      ]
    }
  ]
}